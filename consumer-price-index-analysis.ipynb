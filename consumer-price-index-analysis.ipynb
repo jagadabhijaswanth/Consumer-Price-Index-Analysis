{
 "cells": [
  {
   "cell_type": "code",
   "execution_count": 569,
   "metadata": {},
   "outputs": [],
   "source": [
    "import pandas as pd\n",
    "import matplotlib.pyplot as plt\n",
    "import seaborn as sns\n",
    "from statsmodels.tsa.seasonal import seasonal_decompose\n",
    "import plotly.express as px\n",
    "import plotly.graph_objects as go"
   ]
  },
  {
   "cell_type": "code",
   "execution_count": 570,
   "metadata": {},
   "outputs": [],
   "source": [
    "consumerpricedata = pd.read_csv(r\"D:\\WORK\\datascience\\practice\\Consumer-Price-Index-Analysis\\All-India-Consumer-Price-Index.csv\")"
   ]
  },
  {
   "cell_type": "code",
   "execution_count": 571,
   "metadata": {},
   "outputs": [
    {
     "data": {
      "text/html": [
       "<div>\n",
       "<style scoped>\n",
       "    .dataframe tbody tr th:only-of-type {\n",
       "        vertical-align: middle;\n",
       "    }\n",
       "\n",
       "    .dataframe tbody tr th {\n",
       "        vertical-align: top;\n",
       "    }\n",
       "\n",
       "    .dataframe thead th {\n",
       "        text-align: right;\n",
       "    }\n",
       "</style>\n",
       "<table border=\"1\" class=\"dataframe\">\n",
       "  <thead>\n",
       "    <tr style=\"text-align: right;\">\n",
       "      <th></th>\n",
       "      <th>Sector</th>\n",
       "      <th>Year</th>\n",
       "      <th>Month</th>\n",
       "      <th>Cereals and products</th>\n",
       "      <th>Meat and fish</th>\n",
       "      <th>Egg</th>\n",
       "      <th>Milk and products</th>\n",
       "      <th>Oils and fats</th>\n",
       "      <th>Fruits</th>\n",
       "      <th>Vegetables</th>\n",
       "      <th>...</th>\n",
       "      <th>Housing</th>\n",
       "      <th>Fuel and light</th>\n",
       "      <th>Household goods and services</th>\n",
       "      <th>Health</th>\n",
       "      <th>Transport and communication</th>\n",
       "      <th>Recreation and amusement</th>\n",
       "      <th>Education</th>\n",
       "      <th>Personal care and effects</th>\n",
       "      <th>Miscellaneous</th>\n",
       "      <th>General index</th>\n",
       "    </tr>\n",
       "  </thead>\n",
       "  <tbody>\n",
       "    <tr>\n",
       "      <th>0</th>\n",
       "      <td>Rural</td>\n",
       "      <td>2013</td>\n",
       "      <td>January</td>\n",
       "      <td>107.5</td>\n",
       "      <td>106.3</td>\n",
       "      <td>108.1</td>\n",
       "      <td>104.9</td>\n",
       "      <td>106.1</td>\n",
       "      <td>103.9</td>\n",
       "      <td>101.9</td>\n",
       "      <td>...</td>\n",
       "      <td>NaN</td>\n",
       "      <td>105.5</td>\n",
       "      <td>104.8</td>\n",
       "      <td>104.0</td>\n",
       "      <td>103.3</td>\n",
       "      <td>103.4</td>\n",
       "      <td>103.8</td>\n",
       "      <td>104.7</td>\n",
       "      <td>104.0</td>\n",
       "      <td>105.1</td>\n",
       "    </tr>\n",
       "    <tr>\n",
       "      <th>1</th>\n",
       "      <td>Urban</td>\n",
       "      <td>2013</td>\n",
       "      <td>January</td>\n",
       "      <td>110.5</td>\n",
       "      <td>109.1</td>\n",
       "      <td>113.0</td>\n",
       "      <td>103.6</td>\n",
       "      <td>103.4</td>\n",
       "      <td>102.3</td>\n",
       "      <td>102.9</td>\n",
       "      <td>...</td>\n",
       "      <td>100.3</td>\n",
       "      <td>105.4</td>\n",
       "      <td>104.8</td>\n",
       "      <td>104.1</td>\n",
       "      <td>103.2</td>\n",
       "      <td>102.9</td>\n",
       "      <td>103.5</td>\n",
       "      <td>104.3</td>\n",
       "      <td>103.7</td>\n",
       "      <td>104.0</td>\n",
       "    </tr>\n",
       "    <tr>\n",
       "      <th>2</th>\n",
       "      <td>Rural+Urban</td>\n",
       "      <td>2013</td>\n",
       "      <td>January</td>\n",
       "      <td>108.4</td>\n",
       "      <td>107.3</td>\n",
       "      <td>110.0</td>\n",
       "      <td>104.4</td>\n",
       "      <td>105.1</td>\n",
       "      <td>103.2</td>\n",
       "      <td>102.2</td>\n",
       "      <td>...</td>\n",
       "      <td>100.3</td>\n",
       "      <td>105.5</td>\n",
       "      <td>104.8</td>\n",
       "      <td>104.0</td>\n",
       "      <td>103.2</td>\n",
       "      <td>103.1</td>\n",
       "      <td>103.6</td>\n",
       "      <td>104.5</td>\n",
       "      <td>103.9</td>\n",
       "      <td>104.6</td>\n",
       "    </tr>\n",
       "    <tr>\n",
       "      <th>3</th>\n",
       "      <td>Rural</td>\n",
       "      <td>2013</td>\n",
       "      <td>February</td>\n",
       "      <td>109.2</td>\n",
       "      <td>108.7</td>\n",
       "      <td>110.2</td>\n",
       "      <td>105.4</td>\n",
       "      <td>106.7</td>\n",
       "      <td>104.0</td>\n",
       "      <td>102.4</td>\n",
       "      <td>...</td>\n",
       "      <td>NaN</td>\n",
       "      <td>106.2</td>\n",
       "      <td>105.2</td>\n",
       "      <td>104.4</td>\n",
       "      <td>103.9</td>\n",
       "      <td>104.0</td>\n",
       "      <td>104.1</td>\n",
       "      <td>104.6</td>\n",
       "      <td>104.4</td>\n",
       "      <td>105.8</td>\n",
       "    </tr>\n",
       "    <tr>\n",
       "      <th>4</th>\n",
       "      <td>Urban</td>\n",
       "      <td>2013</td>\n",
       "      <td>February</td>\n",
       "      <td>112.9</td>\n",
       "      <td>112.9</td>\n",
       "      <td>116.9</td>\n",
       "      <td>104.0</td>\n",
       "      <td>103.5</td>\n",
       "      <td>103.1</td>\n",
       "      <td>104.9</td>\n",
       "      <td>...</td>\n",
       "      <td>100.4</td>\n",
       "      <td>105.7</td>\n",
       "      <td>105.2</td>\n",
       "      <td>104.7</td>\n",
       "      <td>104.4</td>\n",
       "      <td>103.3</td>\n",
       "      <td>103.7</td>\n",
       "      <td>104.3</td>\n",
       "      <td>104.3</td>\n",
       "      <td>104.7</td>\n",
       "    </tr>\n",
       "    <tr>\n",
       "      <th>5</th>\n",
       "      <td>Rural+Urban</td>\n",
       "      <td>2013</td>\n",
       "      <td>February</td>\n",
       "      <td>110.4</td>\n",
       "      <td>110.2</td>\n",
       "      <td>112.8</td>\n",
       "      <td>104.9</td>\n",
       "      <td>105.5</td>\n",
       "      <td>103.6</td>\n",
       "      <td>103.2</td>\n",
       "      <td>...</td>\n",
       "      <td>100.4</td>\n",
       "      <td>106.0</td>\n",
       "      <td>105.2</td>\n",
       "      <td>104.5</td>\n",
       "      <td>104.2</td>\n",
       "      <td>103.6</td>\n",
       "      <td>103.9</td>\n",
       "      <td>104.5</td>\n",
       "      <td>104.4</td>\n",
       "      <td>105.3</td>\n",
       "    </tr>\n",
       "    <tr>\n",
       "      <th>6</th>\n",
       "      <td>Rural</td>\n",
       "      <td>2013</td>\n",
       "      <td>March</td>\n",
       "      <td>110.2</td>\n",
       "      <td>108.8</td>\n",
       "      <td>109.9</td>\n",
       "      <td>105.6</td>\n",
       "      <td>106.2</td>\n",
       "      <td>105.7</td>\n",
       "      <td>101.4</td>\n",
       "      <td>...</td>\n",
       "      <td>NaN</td>\n",
       "      <td>106.1</td>\n",
       "      <td>105.6</td>\n",
       "      <td>104.7</td>\n",
       "      <td>104.6</td>\n",
       "      <td>104.0</td>\n",
       "      <td>104.3</td>\n",
       "      <td>104.3</td>\n",
       "      <td>104.6</td>\n",
       "      <td>106.0</td>\n",
       "    </tr>\n",
       "    <tr>\n",
       "      <th>7</th>\n",
       "      <td>Urban</td>\n",
       "      <td>2013</td>\n",
       "      <td>March</td>\n",
       "      <td>113.9</td>\n",
       "      <td>111.4</td>\n",
       "      <td>113.2</td>\n",
       "      <td>104.3</td>\n",
       "      <td>102.7</td>\n",
       "      <td>104.9</td>\n",
       "      <td>103.8</td>\n",
       "      <td>...</td>\n",
       "      <td>100.4</td>\n",
       "      <td>106.0</td>\n",
       "      <td>105.7</td>\n",
       "      <td>105.2</td>\n",
       "      <td>105.5</td>\n",
       "      <td>103.5</td>\n",
       "      <td>103.8</td>\n",
       "      <td>104.2</td>\n",
       "      <td>104.9</td>\n",
       "      <td>105.0</td>\n",
       "    </tr>\n",
       "    <tr>\n",
       "      <th>8</th>\n",
       "      <td>Rural+Urban</td>\n",
       "      <td>2013</td>\n",
       "      <td>March</td>\n",
       "      <td>111.4</td>\n",
       "      <td>109.7</td>\n",
       "      <td>111.2</td>\n",
       "      <td>105.1</td>\n",
       "      <td>104.9</td>\n",
       "      <td>105.3</td>\n",
       "      <td>102.2</td>\n",
       "      <td>...</td>\n",
       "      <td>100.4</td>\n",
       "      <td>106.1</td>\n",
       "      <td>105.6</td>\n",
       "      <td>104.9</td>\n",
       "      <td>105.1</td>\n",
       "      <td>103.7</td>\n",
       "      <td>104.0</td>\n",
       "      <td>104.3</td>\n",
       "      <td>104.7</td>\n",
       "      <td>105.5</td>\n",
       "    </tr>\n",
       "    <tr>\n",
       "      <th>9</th>\n",
       "      <td>Rural</td>\n",
       "      <td>2013</td>\n",
       "      <td>April</td>\n",
       "      <td>110.2</td>\n",
       "      <td>109.5</td>\n",
       "      <td>106.9</td>\n",
       "      <td>106.3</td>\n",
       "      <td>105.7</td>\n",
       "      <td>108.3</td>\n",
       "      <td>103.4</td>\n",
       "      <td>...</td>\n",
       "      <td>NaN</td>\n",
       "      <td>106.5</td>\n",
       "      <td>106.1</td>\n",
       "      <td>105.1</td>\n",
       "      <td>104.4</td>\n",
       "      <td>104.5</td>\n",
       "      <td>104.8</td>\n",
       "      <td>102.7</td>\n",
       "      <td>104.6</td>\n",
       "      <td>106.4</td>\n",
       "    </tr>\n",
       "  </tbody>\n",
       "</table>\n",
       "<p>10 rows × 30 columns</p>\n",
       "</div>"
      ],
      "text/plain": [
       "        Sector  Year     Month  Cereals and products  Meat and fish    Egg  \\\n",
       "0        Rural  2013   January                 107.5          106.3  108.1   \n",
       "1        Urban  2013   January                 110.5          109.1  113.0   \n",
       "2  Rural+Urban  2013   January                 108.4          107.3  110.0   \n",
       "3        Rural  2013  February                 109.2          108.7  110.2   \n",
       "4        Urban  2013  February                 112.9          112.9  116.9   \n",
       "5  Rural+Urban  2013  February                 110.4          110.2  112.8   \n",
       "6        Rural  2013     March                 110.2          108.8  109.9   \n",
       "7        Urban  2013     March                 113.9          111.4  113.2   \n",
       "8  Rural+Urban  2013     March                 111.4          109.7  111.2   \n",
       "9        Rural  2013     April                 110.2          109.5  106.9   \n",
       "\n",
       "   Milk and products  Oils and fats  Fruits  Vegetables  ...  Housing  \\\n",
       "0              104.9          106.1   103.9       101.9  ...      NaN   \n",
       "1              103.6          103.4   102.3       102.9  ...    100.3   \n",
       "2              104.4          105.1   103.2       102.2  ...    100.3   \n",
       "3              105.4          106.7   104.0       102.4  ...      NaN   \n",
       "4              104.0          103.5   103.1       104.9  ...    100.4   \n",
       "5              104.9          105.5   103.6       103.2  ...    100.4   \n",
       "6              105.6          106.2   105.7       101.4  ...      NaN   \n",
       "7              104.3          102.7   104.9       103.8  ...    100.4   \n",
       "8              105.1          104.9   105.3       102.2  ...    100.4   \n",
       "9              106.3          105.7   108.3       103.4  ...      NaN   \n",
       "\n",
       "   Fuel and light  Household goods and services  Health  \\\n",
       "0           105.5                         104.8   104.0   \n",
       "1           105.4                         104.8   104.1   \n",
       "2           105.5                         104.8   104.0   \n",
       "3           106.2                         105.2   104.4   \n",
       "4           105.7                         105.2   104.7   \n",
       "5           106.0                         105.2   104.5   \n",
       "6           106.1                         105.6   104.7   \n",
       "7           106.0                         105.7   105.2   \n",
       "8           106.1                         105.6   104.9   \n",
       "9           106.5                         106.1   105.1   \n",
       "\n",
       "   Transport and communication  Recreation and amusement  Education  \\\n",
       "0                        103.3                     103.4      103.8   \n",
       "1                        103.2                     102.9      103.5   \n",
       "2                        103.2                     103.1      103.6   \n",
       "3                        103.9                     104.0      104.1   \n",
       "4                        104.4                     103.3      103.7   \n",
       "5                        104.2                     103.6      103.9   \n",
       "6                        104.6                     104.0      104.3   \n",
       "7                        105.5                     103.5      103.8   \n",
       "8                        105.1                     103.7      104.0   \n",
       "9                        104.4                     104.5      104.8   \n",
       "\n",
       "   Personal care and effects  Miscellaneous  General index  \n",
       "0                      104.7          104.0          105.1  \n",
       "1                      104.3          103.7          104.0  \n",
       "2                      104.5          103.9          104.6  \n",
       "3                      104.6          104.4          105.8  \n",
       "4                      104.3          104.3          104.7  \n",
       "5                      104.5          104.4          105.3  \n",
       "6                      104.3          104.6          106.0  \n",
       "7                      104.2          104.9          105.0  \n",
       "8                      104.3          104.7          105.5  \n",
       "9                      102.7          104.6          106.4  \n",
       "\n",
       "[10 rows x 30 columns]"
      ]
     },
     "execution_count": 571,
     "metadata": {},
     "output_type": "execute_result"
    }
   ],
   "source": [
    "consumerpricedata.head(10)"
   ]
  },
  {
   "cell_type": "code",
   "execution_count": 572,
   "metadata": {},
   "outputs": [
    {
     "name": "stdout",
     "output_type": "stream",
     "text": [
      "<class 'pandas.core.frame.DataFrame'>\n",
      "RangeIndex: 365 entries, 0 to 364\n",
      "Data columns (total 30 columns):\n",
      " #   Column                               Non-Null Count  Dtype  \n",
      "---  ------                               --------------  -----  \n",
      " 0   Sector                               365 non-null    object \n",
      " 1   Year                                 365 non-null    int64  \n",
      " 2   Month                                365 non-null    object \n",
      " 3   Cereals and products                 362 non-null    float64\n",
      " 4   Meat and fish                        359 non-null    float64\n",
      " 5   Egg                                  362 non-null    float64\n",
      " 6   Milk and products                    362 non-null    float64\n",
      " 7   Oils and fats                        362 non-null    float64\n",
      " 8   Fruits                               362 non-null    float64\n",
      " 9   Vegetables                           362 non-null    float64\n",
      " 10  Pulses and products                  362 non-null    float64\n",
      " 11  Sugar and Confectionery              362 non-null    float64\n",
      " 12  Spices                               362 non-null    float64\n",
      " 13  Non-alcoholic beverages              362 non-null    float64\n",
      " 14  Prepared meals, snacks, sweets etc.  359 non-null    float64\n",
      " 15  Food and beverages                   362 non-null    float64\n",
      " 16  Pan, tobacco and intoxicants         359 non-null    float64\n",
      " 17  Clothing                             359 non-null    float64\n",
      " 18  Footwear                             359 non-null    float64\n",
      " 19  Clothing and footwear                359 non-null    float64\n",
      " 20  Housing                              243 non-null    object \n",
      " 21  Fuel and light                       362 non-null    float64\n",
      " 22  Household goods and services         359 non-null    float64\n",
      " 23  Health                               362 non-null    float64\n",
      " 24  Transport and communication          359 non-null    float64\n",
      " 25  Recreation and amusement             359 non-null    float64\n",
      " 26  Education                            359 non-null    float64\n",
      " 27  Personal care and effects            359 non-null    float64\n",
      " 28  Miscellaneous                        359 non-null    float64\n",
      " 29  General index                        359 non-null    float64\n",
      "dtypes: float64(26), int64(1), object(3)\n",
      "memory usage: 85.7+ KB\n"
     ]
    }
   ],
   "source": [
    "consumerpricedata.info()"
   ]
  },
  {
   "cell_type": "code",
   "execution_count": 573,
   "metadata": {},
   "outputs": [
    {
     "data": {
      "text/html": [
       "<div>\n",
       "<style scoped>\n",
       "    .dataframe tbody tr th:only-of-type {\n",
       "        vertical-align: middle;\n",
       "    }\n",
       "\n",
       "    .dataframe tbody tr th {\n",
       "        vertical-align: top;\n",
       "    }\n",
       "\n",
       "    .dataframe thead th {\n",
       "        text-align: right;\n",
       "    }\n",
       "</style>\n",
       "<table border=\"1\" class=\"dataframe\">\n",
       "  <thead>\n",
       "    <tr style=\"text-align: right;\">\n",
       "      <th></th>\n",
       "      <th>Sector</th>\n",
       "      <th>Year</th>\n",
       "      <th>Month</th>\n",
       "      <th>Cereals and products</th>\n",
       "      <th>Meat and fish</th>\n",
       "      <th>Egg</th>\n",
       "      <th>Milk and products</th>\n",
       "      <th>Oils and fats</th>\n",
       "      <th>Fruits</th>\n",
       "      <th>Vegetables</th>\n",
       "      <th>...</th>\n",
       "      <th>Housing</th>\n",
       "      <th>Fuel and light</th>\n",
       "      <th>Household goods and services</th>\n",
       "      <th>Health</th>\n",
       "      <th>Transport and communication</th>\n",
       "      <th>Recreation and amusement</th>\n",
       "      <th>Education</th>\n",
       "      <th>Personal care and effects</th>\n",
       "      <th>Miscellaneous</th>\n",
       "      <th>General index</th>\n",
       "    </tr>\n",
       "  </thead>\n",
       "  <tbody>\n",
       "    <tr>\n",
       "      <th>0</th>\n",
       "      <td>False</td>\n",
       "      <td>False</td>\n",
       "      <td>False</td>\n",
       "      <td>False</td>\n",
       "      <td>False</td>\n",
       "      <td>False</td>\n",
       "      <td>False</td>\n",
       "      <td>False</td>\n",
       "      <td>False</td>\n",
       "      <td>False</td>\n",
       "      <td>...</td>\n",
       "      <td>True</td>\n",
       "      <td>False</td>\n",
       "      <td>False</td>\n",
       "      <td>False</td>\n",
       "      <td>False</td>\n",
       "      <td>False</td>\n",
       "      <td>False</td>\n",
       "      <td>False</td>\n",
       "      <td>False</td>\n",
       "      <td>False</td>\n",
       "    </tr>\n",
       "    <tr>\n",
       "      <th>1</th>\n",
       "      <td>False</td>\n",
       "      <td>False</td>\n",
       "      <td>False</td>\n",
       "      <td>False</td>\n",
       "      <td>False</td>\n",
       "      <td>False</td>\n",
       "      <td>False</td>\n",
       "      <td>False</td>\n",
       "      <td>False</td>\n",
       "      <td>False</td>\n",
       "      <td>...</td>\n",
       "      <td>False</td>\n",
       "      <td>False</td>\n",
       "      <td>False</td>\n",
       "      <td>False</td>\n",
       "      <td>False</td>\n",
       "      <td>False</td>\n",
       "      <td>False</td>\n",
       "      <td>False</td>\n",
       "      <td>False</td>\n",
       "      <td>False</td>\n",
       "    </tr>\n",
       "    <tr>\n",
       "      <th>2</th>\n",
       "      <td>False</td>\n",
       "      <td>False</td>\n",
       "      <td>False</td>\n",
       "      <td>False</td>\n",
       "      <td>False</td>\n",
       "      <td>False</td>\n",
       "      <td>False</td>\n",
       "      <td>False</td>\n",
       "      <td>False</td>\n",
       "      <td>False</td>\n",
       "      <td>...</td>\n",
       "      <td>False</td>\n",
       "      <td>False</td>\n",
       "      <td>False</td>\n",
       "      <td>False</td>\n",
       "      <td>False</td>\n",
       "      <td>False</td>\n",
       "      <td>False</td>\n",
       "      <td>False</td>\n",
       "      <td>False</td>\n",
       "      <td>False</td>\n",
       "    </tr>\n",
       "    <tr>\n",
       "      <th>3</th>\n",
       "      <td>False</td>\n",
       "      <td>False</td>\n",
       "      <td>False</td>\n",
       "      <td>False</td>\n",
       "      <td>False</td>\n",
       "      <td>False</td>\n",
       "      <td>False</td>\n",
       "      <td>False</td>\n",
       "      <td>False</td>\n",
       "      <td>False</td>\n",
       "      <td>...</td>\n",
       "      <td>True</td>\n",
       "      <td>False</td>\n",
       "      <td>False</td>\n",
       "      <td>False</td>\n",
       "      <td>False</td>\n",
       "      <td>False</td>\n",
       "      <td>False</td>\n",
       "      <td>False</td>\n",
       "      <td>False</td>\n",
       "      <td>False</td>\n",
       "    </tr>\n",
       "    <tr>\n",
       "      <th>4</th>\n",
       "      <td>False</td>\n",
       "      <td>False</td>\n",
       "      <td>False</td>\n",
       "      <td>False</td>\n",
       "      <td>False</td>\n",
       "      <td>False</td>\n",
       "      <td>False</td>\n",
       "      <td>False</td>\n",
       "      <td>False</td>\n",
       "      <td>False</td>\n",
       "      <td>...</td>\n",
       "      <td>False</td>\n",
       "      <td>False</td>\n",
       "      <td>False</td>\n",
       "      <td>False</td>\n",
       "      <td>False</td>\n",
       "      <td>False</td>\n",
       "      <td>False</td>\n",
       "      <td>False</td>\n",
       "      <td>False</td>\n",
       "      <td>False</td>\n",
       "    </tr>\n",
       "    <tr>\n",
       "      <th>...</th>\n",
       "      <td>...</td>\n",
       "      <td>...</td>\n",
       "      <td>...</td>\n",
       "      <td>...</td>\n",
       "      <td>...</td>\n",
       "      <td>...</td>\n",
       "      <td>...</td>\n",
       "      <td>...</td>\n",
       "      <td>...</td>\n",
       "      <td>...</td>\n",
       "      <td>...</td>\n",
       "      <td>...</td>\n",
       "      <td>...</td>\n",
       "      <td>...</td>\n",
       "      <td>...</td>\n",
       "      <td>...</td>\n",
       "      <td>...</td>\n",
       "      <td>...</td>\n",
       "      <td>...</td>\n",
       "      <td>...</td>\n",
       "      <td>...</td>\n",
       "    </tr>\n",
       "    <tr>\n",
       "      <th>360</th>\n",
       "      <td>False</td>\n",
       "      <td>False</td>\n",
       "      <td>False</td>\n",
       "      <td>False</td>\n",
       "      <td>False</td>\n",
       "      <td>False</td>\n",
       "      <td>False</td>\n",
       "      <td>False</td>\n",
       "      <td>False</td>\n",
       "      <td>False</td>\n",
       "      <td>...</td>\n",
       "      <td>True</td>\n",
       "      <td>False</td>\n",
       "      <td>False</td>\n",
       "      <td>False</td>\n",
       "      <td>False</td>\n",
       "      <td>False</td>\n",
       "      <td>False</td>\n",
       "      <td>False</td>\n",
       "      <td>False</td>\n",
       "      <td>False</td>\n",
       "    </tr>\n",
       "    <tr>\n",
       "      <th>361</th>\n",
       "      <td>False</td>\n",
       "      <td>False</td>\n",
       "      <td>False</td>\n",
       "      <td>False</td>\n",
       "      <td>False</td>\n",
       "      <td>False</td>\n",
       "      <td>False</td>\n",
       "      <td>False</td>\n",
       "      <td>False</td>\n",
       "      <td>False</td>\n",
       "      <td>...</td>\n",
       "      <td>False</td>\n",
       "      <td>False</td>\n",
       "      <td>False</td>\n",
       "      <td>False</td>\n",
       "      <td>False</td>\n",
       "      <td>False</td>\n",
       "      <td>False</td>\n",
       "      <td>False</td>\n",
       "      <td>False</td>\n",
       "      <td>False</td>\n",
       "    </tr>\n",
       "    <tr>\n",
       "      <th>362</th>\n",
       "      <td>False</td>\n",
       "      <td>False</td>\n",
       "      <td>False</td>\n",
       "      <td>False</td>\n",
       "      <td>False</td>\n",
       "      <td>False</td>\n",
       "      <td>False</td>\n",
       "      <td>False</td>\n",
       "      <td>False</td>\n",
       "      <td>False</td>\n",
       "      <td>...</td>\n",
       "      <td>False</td>\n",
       "      <td>False</td>\n",
       "      <td>False</td>\n",
       "      <td>False</td>\n",
       "      <td>False</td>\n",
       "      <td>False</td>\n",
       "      <td>False</td>\n",
       "      <td>False</td>\n",
       "      <td>False</td>\n",
       "      <td>False</td>\n",
       "    </tr>\n",
       "    <tr>\n",
       "      <th>363</th>\n",
       "      <td>False</td>\n",
       "      <td>False</td>\n",
       "      <td>False</td>\n",
       "      <td>False</td>\n",
       "      <td>False</td>\n",
       "      <td>False</td>\n",
       "      <td>False</td>\n",
       "      <td>False</td>\n",
       "      <td>False</td>\n",
       "      <td>False</td>\n",
       "      <td>...</td>\n",
       "      <td>True</td>\n",
       "      <td>False</td>\n",
       "      <td>False</td>\n",
       "      <td>False</td>\n",
       "      <td>False</td>\n",
       "      <td>False</td>\n",
       "      <td>False</td>\n",
       "      <td>False</td>\n",
       "      <td>False</td>\n",
       "      <td>False</td>\n",
       "    </tr>\n",
       "    <tr>\n",
       "      <th>364</th>\n",
       "      <td>False</td>\n",
       "      <td>False</td>\n",
       "      <td>False</td>\n",
       "      <td>False</td>\n",
       "      <td>False</td>\n",
       "      <td>False</td>\n",
       "      <td>False</td>\n",
       "      <td>False</td>\n",
       "      <td>False</td>\n",
       "      <td>False</td>\n",
       "      <td>...</td>\n",
       "      <td>False</td>\n",
       "      <td>False</td>\n",
       "      <td>False</td>\n",
       "      <td>False</td>\n",
       "      <td>False</td>\n",
       "      <td>False</td>\n",
       "      <td>False</td>\n",
       "      <td>False</td>\n",
       "      <td>False</td>\n",
       "      <td>False</td>\n",
       "    </tr>\n",
       "  </tbody>\n",
       "</table>\n",
       "<p>365 rows × 30 columns</p>\n",
       "</div>"
      ],
      "text/plain": [
       "     Sector   Year  Month  Cereals and products  Meat and fish    Egg  \\\n",
       "0     False  False  False                 False          False  False   \n",
       "1     False  False  False                 False          False  False   \n",
       "2     False  False  False                 False          False  False   \n",
       "3     False  False  False                 False          False  False   \n",
       "4     False  False  False                 False          False  False   \n",
       "..      ...    ...    ...                   ...            ...    ...   \n",
       "360   False  False  False                 False          False  False   \n",
       "361   False  False  False                 False          False  False   \n",
       "362   False  False  False                 False          False  False   \n",
       "363   False  False  False                 False          False  False   \n",
       "364   False  False  False                 False          False  False   \n",
       "\n",
       "     Milk and products  Oils and fats  Fruits  Vegetables  ...  Housing  \\\n",
       "0                False          False   False       False  ...     True   \n",
       "1                False          False   False       False  ...    False   \n",
       "2                False          False   False       False  ...    False   \n",
       "3                False          False   False       False  ...     True   \n",
       "4                False          False   False       False  ...    False   \n",
       "..                 ...            ...     ...         ...  ...      ...   \n",
       "360              False          False   False       False  ...     True   \n",
       "361              False          False   False       False  ...    False   \n",
       "362              False          False   False       False  ...    False   \n",
       "363              False          False   False       False  ...     True   \n",
       "364              False          False   False       False  ...    False   \n",
       "\n",
       "     Fuel and light  Household goods and services  Health  \\\n",
       "0             False                         False   False   \n",
       "1             False                         False   False   \n",
       "2             False                         False   False   \n",
       "3             False                         False   False   \n",
       "4             False                         False   False   \n",
       "..              ...                           ...     ...   \n",
       "360           False                         False   False   \n",
       "361           False                         False   False   \n",
       "362           False                         False   False   \n",
       "363           False                         False   False   \n",
       "364           False                         False   False   \n",
       "\n",
       "     Transport and communication  Recreation and amusement  Education  \\\n",
       "0                          False                     False      False   \n",
       "1                          False                     False      False   \n",
       "2                          False                     False      False   \n",
       "3                          False                     False      False   \n",
       "4                          False                     False      False   \n",
       "..                           ...                       ...        ...   \n",
       "360                        False                     False      False   \n",
       "361                        False                     False      False   \n",
       "362                        False                     False      False   \n",
       "363                        False                     False      False   \n",
       "364                        False                     False      False   \n",
       "\n",
       "     Personal care and effects  Miscellaneous  General index  \n",
       "0                        False          False          False  \n",
       "1                        False          False          False  \n",
       "2                        False          False          False  \n",
       "3                        False          False          False  \n",
       "4                        False          False          False  \n",
       "..                         ...            ...            ...  \n",
       "360                      False          False          False  \n",
       "361                      False          False          False  \n",
       "362                      False          False          False  \n",
       "363                      False          False          False  \n",
       "364                      False          False          False  \n",
       "\n",
       "[365 rows x 30 columns]"
      ]
     },
     "execution_count": 573,
     "metadata": {},
     "output_type": "execute_result"
    }
   ],
   "source": [
    "consumerpricedata.isnull()"
   ]
  },
  {
   "cell_type": "code",
   "execution_count": 574,
   "metadata": {},
   "outputs": [],
   "source": [
    "#consumerpricedata['Year'] = pd.to_datetime(consumerpricedata['Year']).astype(str)"
   ]
  },
  {
   "cell_type": "code",
   "execution_count": 575,
   "metadata": {},
   "outputs": [],
   "source": [
    "#consumerpricedata.info()"
   ]
  },
  {
   "cell_type": "code",
   "execution_count": 576,
   "metadata": {},
   "outputs": [],
   "source": [
    "consumerpricedata['Month'] = consumerpricedata['Month'].str.strip()"
   ]
  },
  {
   "cell_type": "code",
   "execution_count": 577,
   "metadata": {},
   "outputs": [
    {
     "data": {
      "text/html": [
       "<div>\n",
       "<style scoped>\n",
       "    .dataframe tbody tr th:only-of-type {\n",
       "        vertical-align: middle;\n",
       "    }\n",
       "\n",
       "    .dataframe tbody tr th {\n",
       "        vertical-align: top;\n",
       "    }\n",
       "\n",
       "    .dataframe thead th {\n",
       "        text-align: right;\n",
       "    }\n",
       "</style>\n",
       "<table border=\"1\" class=\"dataframe\">\n",
       "  <thead>\n",
       "    <tr style=\"text-align: right;\">\n",
       "      <th></th>\n",
       "      <th>Sector</th>\n",
       "      <th>Year</th>\n",
       "      <th>Month</th>\n",
       "      <th>Cereals and products</th>\n",
       "      <th>Meat and fish</th>\n",
       "      <th>Egg</th>\n",
       "      <th>Milk and products</th>\n",
       "      <th>Oils and fats</th>\n",
       "      <th>Fruits</th>\n",
       "      <th>Vegetables</th>\n",
       "      <th>...</th>\n",
       "      <th>Housing</th>\n",
       "      <th>Fuel and light</th>\n",
       "      <th>Household goods and services</th>\n",
       "      <th>Health</th>\n",
       "      <th>Transport and communication</th>\n",
       "      <th>Recreation and amusement</th>\n",
       "      <th>Education</th>\n",
       "      <th>Personal care and effects</th>\n",
       "      <th>Miscellaneous</th>\n",
       "      <th>General index</th>\n",
       "    </tr>\n",
       "  </thead>\n",
       "  <tbody>\n",
       "    <tr>\n",
       "      <th>0</th>\n",
       "      <td>Rural</td>\n",
       "      <td>2013</td>\n",
       "      <td>January</td>\n",
       "      <td>107.5</td>\n",
       "      <td>106.3</td>\n",
       "      <td>108.1</td>\n",
       "      <td>104.9</td>\n",
       "      <td>106.1</td>\n",
       "      <td>103.9</td>\n",
       "      <td>101.9</td>\n",
       "      <td>...</td>\n",
       "      <td>NaN</td>\n",
       "      <td>105.5</td>\n",
       "      <td>104.8</td>\n",
       "      <td>104.0</td>\n",
       "      <td>103.3</td>\n",
       "      <td>103.4</td>\n",
       "      <td>103.8</td>\n",
       "      <td>104.7</td>\n",
       "      <td>104.0</td>\n",
       "      <td>105.1</td>\n",
       "    </tr>\n",
       "    <tr>\n",
       "      <th>1</th>\n",
       "      <td>Urban</td>\n",
       "      <td>2013</td>\n",
       "      <td>January</td>\n",
       "      <td>110.5</td>\n",
       "      <td>109.1</td>\n",
       "      <td>113.0</td>\n",
       "      <td>103.6</td>\n",
       "      <td>103.4</td>\n",
       "      <td>102.3</td>\n",
       "      <td>102.9</td>\n",
       "      <td>...</td>\n",
       "      <td>100.3</td>\n",
       "      <td>105.4</td>\n",
       "      <td>104.8</td>\n",
       "      <td>104.1</td>\n",
       "      <td>103.2</td>\n",
       "      <td>102.9</td>\n",
       "      <td>103.5</td>\n",
       "      <td>104.3</td>\n",
       "      <td>103.7</td>\n",
       "      <td>104.0</td>\n",
       "    </tr>\n",
       "    <tr>\n",
       "      <th>2</th>\n",
       "      <td>Rural+Urban</td>\n",
       "      <td>2013</td>\n",
       "      <td>January</td>\n",
       "      <td>108.4</td>\n",
       "      <td>107.3</td>\n",
       "      <td>110.0</td>\n",
       "      <td>104.4</td>\n",
       "      <td>105.1</td>\n",
       "      <td>103.2</td>\n",
       "      <td>102.2</td>\n",
       "      <td>...</td>\n",
       "      <td>100.3</td>\n",
       "      <td>105.5</td>\n",
       "      <td>104.8</td>\n",
       "      <td>104.0</td>\n",
       "      <td>103.2</td>\n",
       "      <td>103.1</td>\n",
       "      <td>103.6</td>\n",
       "      <td>104.5</td>\n",
       "      <td>103.9</td>\n",
       "      <td>104.6</td>\n",
       "    </tr>\n",
       "    <tr>\n",
       "      <th>3</th>\n",
       "      <td>Rural</td>\n",
       "      <td>2013</td>\n",
       "      <td>February</td>\n",
       "      <td>109.2</td>\n",
       "      <td>108.7</td>\n",
       "      <td>110.2</td>\n",
       "      <td>105.4</td>\n",
       "      <td>106.7</td>\n",
       "      <td>104.0</td>\n",
       "      <td>102.4</td>\n",
       "      <td>...</td>\n",
       "      <td>NaN</td>\n",
       "      <td>106.2</td>\n",
       "      <td>105.2</td>\n",
       "      <td>104.4</td>\n",
       "      <td>103.9</td>\n",
       "      <td>104.0</td>\n",
       "      <td>104.1</td>\n",
       "      <td>104.6</td>\n",
       "      <td>104.4</td>\n",
       "      <td>105.8</td>\n",
       "    </tr>\n",
       "    <tr>\n",
       "      <th>4</th>\n",
       "      <td>Urban</td>\n",
       "      <td>2013</td>\n",
       "      <td>February</td>\n",
       "      <td>112.9</td>\n",
       "      <td>112.9</td>\n",
       "      <td>116.9</td>\n",
       "      <td>104.0</td>\n",
       "      <td>103.5</td>\n",
       "      <td>103.1</td>\n",
       "      <td>104.9</td>\n",
       "      <td>...</td>\n",
       "      <td>100.4</td>\n",
       "      <td>105.7</td>\n",
       "      <td>105.2</td>\n",
       "      <td>104.7</td>\n",
       "      <td>104.4</td>\n",
       "      <td>103.3</td>\n",
       "      <td>103.7</td>\n",
       "      <td>104.3</td>\n",
       "      <td>104.3</td>\n",
       "      <td>104.7</td>\n",
       "    </tr>\n",
       "  </tbody>\n",
       "</table>\n",
       "<p>5 rows × 30 columns</p>\n",
       "</div>"
      ],
      "text/plain": [
       "        Sector  Year     Month  Cereals and products  Meat and fish    Egg  \\\n",
       "0        Rural  2013   January                 107.5          106.3  108.1   \n",
       "1        Urban  2013   January                 110.5          109.1  113.0   \n",
       "2  Rural+Urban  2013   January                 108.4          107.3  110.0   \n",
       "3        Rural  2013  February                 109.2          108.7  110.2   \n",
       "4        Urban  2013  February                 112.9          112.9  116.9   \n",
       "\n",
       "   Milk and products  Oils and fats  Fruits  Vegetables  ...  Housing  \\\n",
       "0              104.9          106.1   103.9       101.9  ...      NaN   \n",
       "1              103.6          103.4   102.3       102.9  ...    100.3   \n",
       "2              104.4          105.1   103.2       102.2  ...    100.3   \n",
       "3              105.4          106.7   104.0       102.4  ...      NaN   \n",
       "4              104.0          103.5   103.1       104.9  ...    100.4   \n",
       "\n",
       "   Fuel and light  Household goods and services  Health  \\\n",
       "0           105.5                         104.8   104.0   \n",
       "1           105.4                         104.8   104.1   \n",
       "2           105.5                         104.8   104.0   \n",
       "3           106.2                         105.2   104.4   \n",
       "4           105.7                         105.2   104.7   \n",
       "\n",
       "   Transport and communication  Recreation and amusement  Education  \\\n",
       "0                        103.3                     103.4      103.8   \n",
       "1                        103.2                     102.9      103.5   \n",
       "2                        103.2                     103.1      103.6   \n",
       "3                        103.9                     104.0      104.1   \n",
       "4                        104.4                     103.3      103.7   \n",
       "\n",
       "   Personal care and effects  Miscellaneous  General index  \n",
       "0                      104.7          104.0          105.1  \n",
       "1                      104.3          103.7          104.0  \n",
       "2                      104.5          103.9          104.6  \n",
       "3                      104.6          104.4          105.8  \n",
       "4                      104.3          104.3          104.7  \n",
       "\n",
       "[5 rows x 30 columns]"
      ]
     },
     "execution_count": 577,
     "metadata": {},
     "output_type": "execute_result"
    }
   ],
   "source": [
    "consumerpricedata.head()"
   ]
  },
  {
   "cell_type": "code",
   "execution_count": 578,
   "metadata": {},
   "outputs": [],
   "source": [
    "consumerpricedata['Month'] = consumerpricedata['Month'].replace('Marcrh','March')"
   ]
  },
  {
   "cell_type": "code",
   "execution_count": 579,
   "metadata": {},
   "outputs": [],
   "source": [
    "consumerpricedata['Date'] = pd.to_datetime((consumerpricedata['Year']).astype(str) + '-' + consumerpricedata['Month'].str.strip(), format='%Y-%B')\n"
   ]
  },
  {
   "cell_type": "code",
   "execution_count": 580,
   "metadata": {},
   "outputs": [
    {
     "data": {
      "text/plain": [
       "0   2013-01-01\n",
       "1   2013-01-01\n",
       "2   2013-01-01\n",
       "3   2013-02-01\n",
       "4   2013-02-01\n",
       "Name: Date, dtype: datetime64[ns]"
      ]
     },
     "execution_count": 580,
     "metadata": {},
     "output_type": "execute_result"
    }
   ],
   "source": [
    "consumerpricedata['Date'].head()"
   ]
  },
  {
   "cell_type": "code",
   "execution_count": 581,
   "metadata": {},
   "outputs": [
    {
     "data": {
      "text/html": [
       "<div>\n",
       "<style scoped>\n",
       "    .dataframe tbody tr th:only-of-type {\n",
       "        vertical-align: middle;\n",
       "    }\n",
       "\n",
       "    .dataframe tbody tr th {\n",
       "        vertical-align: top;\n",
       "    }\n",
       "\n",
       "    .dataframe thead th {\n",
       "        text-align: right;\n",
       "    }\n",
       "</style>\n",
       "<table border=\"1\" class=\"dataframe\">\n",
       "  <thead>\n",
       "    <tr style=\"text-align: right;\">\n",
       "      <th></th>\n",
       "      <th>Sector</th>\n",
       "      <th>Year</th>\n",
       "      <th>Month</th>\n",
       "      <th>Cereals and products</th>\n",
       "      <th>Meat and fish</th>\n",
       "      <th>Egg</th>\n",
       "      <th>Milk and products</th>\n",
       "      <th>Oils and fats</th>\n",
       "      <th>Fruits</th>\n",
       "      <th>Vegetables</th>\n",
       "      <th>...</th>\n",
       "      <th>Fuel and light</th>\n",
       "      <th>Household goods and services</th>\n",
       "      <th>Health</th>\n",
       "      <th>Transport and communication</th>\n",
       "      <th>Recreation and amusement</th>\n",
       "      <th>Education</th>\n",
       "      <th>Personal care and effects</th>\n",
       "      <th>Miscellaneous</th>\n",
       "      <th>General index</th>\n",
       "      <th>Date</th>\n",
       "    </tr>\n",
       "  </thead>\n",
       "  <tbody>\n",
       "    <tr>\n",
       "      <th>0</th>\n",
       "      <td>Rural</td>\n",
       "      <td>2013</td>\n",
       "      <td>January</td>\n",
       "      <td>107.5</td>\n",
       "      <td>106.3</td>\n",
       "      <td>108.1</td>\n",
       "      <td>104.9</td>\n",
       "      <td>106.1</td>\n",
       "      <td>103.9</td>\n",
       "      <td>101.9</td>\n",
       "      <td>...</td>\n",
       "      <td>105.5</td>\n",
       "      <td>104.8</td>\n",
       "      <td>104.0</td>\n",
       "      <td>103.3</td>\n",
       "      <td>103.4</td>\n",
       "      <td>103.8</td>\n",
       "      <td>104.7</td>\n",
       "      <td>104.0</td>\n",
       "      <td>105.1</td>\n",
       "      <td>2013-01-01</td>\n",
       "    </tr>\n",
       "    <tr>\n",
       "      <th>1</th>\n",
       "      <td>Urban</td>\n",
       "      <td>2013</td>\n",
       "      <td>January</td>\n",
       "      <td>110.5</td>\n",
       "      <td>109.1</td>\n",
       "      <td>113.0</td>\n",
       "      <td>103.6</td>\n",
       "      <td>103.4</td>\n",
       "      <td>102.3</td>\n",
       "      <td>102.9</td>\n",
       "      <td>...</td>\n",
       "      <td>105.4</td>\n",
       "      <td>104.8</td>\n",
       "      <td>104.1</td>\n",
       "      <td>103.2</td>\n",
       "      <td>102.9</td>\n",
       "      <td>103.5</td>\n",
       "      <td>104.3</td>\n",
       "      <td>103.7</td>\n",
       "      <td>104.0</td>\n",
       "      <td>2013-01-01</td>\n",
       "    </tr>\n",
       "    <tr>\n",
       "      <th>2</th>\n",
       "      <td>Rural+Urban</td>\n",
       "      <td>2013</td>\n",
       "      <td>January</td>\n",
       "      <td>108.4</td>\n",
       "      <td>107.3</td>\n",
       "      <td>110.0</td>\n",
       "      <td>104.4</td>\n",
       "      <td>105.1</td>\n",
       "      <td>103.2</td>\n",
       "      <td>102.2</td>\n",
       "      <td>...</td>\n",
       "      <td>105.5</td>\n",
       "      <td>104.8</td>\n",
       "      <td>104.0</td>\n",
       "      <td>103.2</td>\n",
       "      <td>103.1</td>\n",
       "      <td>103.6</td>\n",
       "      <td>104.5</td>\n",
       "      <td>103.9</td>\n",
       "      <td>104.6</td>\n",
       "      <td>2013-01-01</td>\n",
       "    </tr>\n",
       "    <tr>\n",
       "      <th>3</th>\n",
       "      <td>Rural</td>\n",
       "      <td>2013</td>\n",
       "      <td>February</td>\n",
       "      <td>109.2</td>\n",
       "      <td>108.7</td>\n",
       "      <td>110.2</td>\n",
       "      <td>105.4</td>\n",
       "      <td>106.7</td>\n",
       "      <td>104.0</td>\n",
       "      <td>102.4</td>\n",
       "      <td>...</td>\n",
       "      <td>106.2</td>\n",
       "      <td>105.2</td>\n",
       "      <td>104.4</td>\n",
       "      <td>103.9</td>\n",
       "      <td>104.0</td>\n",
       "      <td>104.1</td>\n",
       "      <td>104.6</td>\n",
       "      <td>104.4</td>\n",
       "      <td>105.8</td>\n",
       "      <td>2013-02-01</td>\n",
       "    </tr>\n",
       "    <tr>\n",
       "      <th>4</th>\n",
       "      <td>Urban</td>\n",
       "      <td>2013</td>\n",
       "      <td>February</td>\n",
       "      <td>112.9</td>\n",
       "      <td>112.9</td>\n",
       "      <td>116.9</td>\n",
       "      <td>104.0</td>\n",
       "      <td>103.5</td>\n",
       "      <td>103.1</td>\n",
       "      <td>104.9</td>\n",
       "      <td>...</td>\n",
       "      <td>105.7</td>\n",
       "      <td>105.2</td>\n",
       "      <td>104.7</td>\n",
       "      <td>104.4</td>\n",
       "      <td>103.3</td>\n",
       "      <td>103.7</td>\n",
       "      <td>104.3</td>\n",
       "      <td>104.3</td>\n",
       "      <td>104.7</td>\n",
       "      <td>2013-02-01</td>\n",
       "    </tr>\n",
       "  </tbody>\n",
       "</table>\n",
       "<p>5 rows × 31 columns</p>\n",
       "</div>"
      ],
      "text/plain": [
       "        Sector  Year     Month  Cereals and products  Meat and fish    Egg  \\\n",
       "0        Rural  2013   January                 107.5          106.3  108.1   \n",
       "1        Urban  2013   January                 110.5          109.1  113.0   \n",
       "2  Rural+Urban  2013   January                 108.4          107.3  110.0   \n",
       "3        Rural  2013  February                 109.2          108.7  110.2   \n",
       "4        Urban  2013  February                 112.9          112.9  116.9   \n",
       "\n",
       "   Milk and products  Oils and fats  Fruits  Vegetables  ...  Fuel and light  \\\n",
       "0              104.9          106.1   103.9       101.9  ...           105.5   \n",
       "1              103.6          103.4   102.3       102.9  ...           105.4   \n",
       "2              104.4          105.1   103.2       102.2  ...           105.5   \n",
       "3              105.4          106.7   104.0       102.4  ...           106.2   \n",
       "4              104.0          103.5   103.1       104.9  ...           105.7   \n",
       "\n",
       "   Household goods and services  Health  Transport and communication  \\\n",
       "0                         104.8   104.0                        103.3   \n",
       "1                         104.8   104.1                        103.2   \n",
       "2                         104.8   104.0                        103.2   \n",
       "3                         105.2   104.4                        103.9   \n",
       "4                         105.2   104.7                        104.4   \n",
       "\n",
       "   Recreation and amusement  Education  Personal care and effects  \\\n",
       "0                     103.4      103.8                      104.7   \n",
       "1                     102.9      103.5                      104.3   \n",
       "2                     103.1      103.6                      104.5   \n",
       "3                     104.0      104.1                      104.6   \n",
       "4                     103.3      103.7                      104.3   \n",
       "\n",
       "   Miscellaneous  General index       Date  \n",
       "0          104.0          105.1 2013-01-01  \n",
       "1          103.7          104.0 2013-01-01  \n",
       "2          103.9          104.6 2013-01-01  \n",
       "3          104.4          105.8 2013-02-01  \n",
       "4          104.3          104.7 2013-02-01  \n",
       "\n",
       "[5 rows x 31 columns]"
      ]
     },
     "execution_count": 581,
     "metadata": {},
     "output_type": "execute_result"
    }
   ],
   "source": [
    "consumerpricedata.head()"
   ]
  },
  {
   "cell_type": "code",
   "execution_count": 582,
   "metadata": {},
   "outputs": [],
   "source": [
    "Rural_Urban_cpi = consumerpricedata[consumerpricedata['Sector'] == 'Rural+Urban'].sort_values('Date')"
   ]
  },
  {
   "cell_type": "code",
   "execution_count": 583,
   "metadata": {},
   "outputs": [
    {
     "data": {
      "text/html": [
       "<div>\n",
       "<style scoped>\n",
       "    .dataframe tbody tr th:only-of-type {\n",
       "        vertical-align: middle;\n",
       "    }\n",
       "\n",
       "    .dataframe tbody tr th {\n",
       "        vertical-align: top;\n",
       "    }\n",
       "\n",
       "    .dataframe thead th {\n",
       "        text-align: right;\n",
       "    }\n",
       "</style>\n",
       "<table border=\"1\" class=\"dataframe\">\n",
       "  <thead>\n",
       "    <tr style=\"text-align: right;\">\n",
       "      <th></th>\n",
       "      <th>Sector</th>\n",
       "      <th>Year</th>\n",
       "      <th>Month</th>\n",
       "      <th>Cereals and products</th>\n",
       "      <th>Meat and fish</th>\n",
       "      <th>Egg</th>\n",
       "      <th>Milk and products</th>\n",
       "      <th>Oils and fats</th>\n",
       "      <th>Fruits</th>\n",
       "      <th>Vegetables</th>\n",
       "      <th>...</th>\n",
       "      <th>Fuel and light</th>\n",
       "      <th>Household goods and services</th>\n",
       "      <th>Health</th>\n",
       "      <th>Transport and communication</th>\n",
       "      <th>Recreation and amusement</th>\n",
       "      <th>Education</th>\n",
       "      <th>Personal care and effects</th>\n",
       "      <th>Miscellaneous</th>\n",
       "      <th>General index</th>\n",
       "      <th>Date</th>\n",
       "    </tr>\n",
       "  </thead>\n",
       "  <tbody>\n",
       "    <tr>\n",
       "      <th>2</th>\n",
       "      <td>Rural+Urban</td>\n",
       "      <td>2013</td>\n",
       "      <td>January</td>\n",
       "      <td>108.4</td>\n",
       "      <td>107.3</td>\n",
       "      <td>110.0</td>\n",
       "      <td>104.4</td>\n",
       "      <td>105.1</td>\n",
       "      <td>103.2</td>\n",
       "      <td>102.2</td>\n",
       "      <td>...</td>\n",
       "      <td>105.5</td>\n",
       "      <td>104.8</td>\n",
       "      <td>104.0</td>\n",
       "      <td>103.2</td>\n",
       "      <td>103.1</td>\n",
       "      <td>103.6</td>\n",
       "      <td>104.5</td>\n",
       "      <td>103.9</td>\n",
       "      <td>104.6</td>\n",
       "      <td>2013-01-01</td>\n",
       "    </tr>\n",
       "    <tr>\n",
       "      <th>5</th>\n",
       "      <td>Rural+Urban</td>\n",
       "      <td>2013</td>\n",
       "      <td>February</td>\n",
       "      <td>110.4</td>\n",
       "      <td>110.2</td>\n",
       "      <td>112.8</td>\n",
       "      <td>104.9</td>\n",
       "      <td>105.5</td>\n",
       "      <td>103.6</td>\n",
       "      <td>103.2</td>\n",
       "      <td>...</td>\n",
       "      <td>106.0</td>\n",
       "      <td>105.2</td>\n",
       "      <td>104.5</td>\n",
       "      <td>104.2</td>\n",
       "      <td>103.6</td>\n",
       "      <td>103.9</td>\n",
       "      <td>104.5</td>\n",
       "      <td>104.4</td>\n",
       "      <td>105.3</td>\n",
       "      <td>2013-02-01</td>\n",
       "    </tr>\n",
       "    <tr>\n",
       "      <th>8</th>\n",
       "      <td>Rural+Urban</td>\n",
       "      <td>2013</td>\n",
       "      <td>March</td>\n",
       "      <td>111.4</td>\n",
       "      <td>109.7</td>\n",
       "      <td>111.2</td>\n",
       "      <td>105.1</td>\n",
       "      <td>104.9</td>\n",
       "      <td>105.3</td>\n",
       "      <td>102.2</td>\n",
       "      <td>...</td>\n",
       "      <td>106.1</td>\n",
       "      <td>105.6</td>\n",
       "      <td>104.9</td>\n",
       "      <td>105.1</td>\n",
       "      <td>103.7</td>\n",
       "      <td>104.0</td>\n",
       "      <td>104.3</td>\n",
       "      <td>104.7</td>\n",
       "      <td>105.5</td>\n",
       "      <td>2013-03-01</td>\n",
       "    </tr>\n",
       "    <tr>\n",
       "      <th>11</th>\n",
       "      <td>Rural+Urban</td>\n",
       "      <td>2013</td>\n",
       "      <td>April</td>\n",
       "      <td>111.6</td>\n",
       "      <td>110.9</td>\n",
       "      <td>106.6</td>\n",
       "      <td>105.7</td>\n",
       "      <td>104.4</td>\n",
       "      <td>108.9</td>\n",
       "      <td>105.5</td>\n",
       "      <td>...</td>\n",
       "      <td>106.5</td>\n",
       "      <td>106.3</td>\n",
       "      <td>105.3</td>\n",
       "      <td>104.7</td>\n",
       "      <td>104.2</td>\n",
       "      <td>105.0</td>\n",
       "      <td>102.9</td>\n",
       "      <td>104.8</td>\n",
       "      <td>106.1</td>\n",
       "      <td>2013-04-01</td>\n",
       "    </tr>\n",
       "    <tr>\n",
       "      <th>14</th>\n",
       "      <td>Rural+Urban</td>\n",
       "      <td>2013</td>\n",
       "      <td>May</td>\n",
       "      <td>112.3</td>\n",
       "      <td>111.3</td>\n",
       "      <td>104.7</td>\n",
       "      <td>106.8</td>\n",
       "      <td>103.9</td>\n",
       "      <td>109.3</td>\n",
       "      <td>112.9</td>\n",
       "      <td>...</td>\n",
       "      <td>107.4</td>\n",
       "      <td>106.9</td>\n",
       "      <td>105.9</td>\n",
       "      <td>104.0</td>\n",
       "      <td>104.8</td>\n",
       "      <td>105.6</td>\n",
       "      <td>102.3</td>\n",
       "      <td>104.8</td>\n",
       "      <td>106.9</td>\n",
       "      <td>2013-05-01</td>\n",
       "    </tr>\n",
       "  </tbody>\n",
       "</table>\n",
       "<p>5 rows × 31 columns</p>\n",
       "</div>"
      ],
      "text/plain": [
       "         Sector  Year     Month  Cereals and products  Meat and fish    Egg  \\\n",
       "2   Rural+Urban  2013   January                 108.4          107.3  110.0   \n",
       "5   Rural+Urban  2013  February                 110.4          110.2  112.8   \n",
       "8   Rural+Urban  2013     March                 111.4          109.7  111.2   \n",
       "11  Rural+Urban  2013     April                 111.6          110.9  106.6   \n",
       "14  Rural+Urban  2013       May                 112.3          111.3  104.7   \n",
       "\n",
       "    Milk and products  Oils and fats  Fruits  Vegetables  ...  Fuel and light  \\\n",
       "2               104.4          105.1   103.2       102.2  ...           105.5   \n",
       "5               104.9          105.5   103.6       103.2  ...           106.0   \n",
       "8               105.1          104.9   105.3       102.2  ...           106.1   \n",
       "11              105.7          104.4   108.9       105.5  ...           106.5   \n",
       "14              106.8          103.9   109.3       112.9  ...           107.4   \n",
       "\n",
       "    Household goods and services  Health  Transport and communication  \\\n",
       "2                          104.8   104.0                        103.2   \n",
       "5                          105.2   104.5                        104.2   \n",
       "8                          105.6   104.9                        105.1   \n",
       "11                         106.3   105.3                        104.7   \n",
       "14                         106.9   105.9                        104.0   \n",
       "\n",
       "    Recreation and amusement  Education  Personal care and effects  \\\n",
       "2                      103.1      103.6                      104.5   \n",
       "5                      103.6      103.9                      104.5   \n",
       "8                      103.7      104.0                      104.3   \n",
       "11                     104.2      105.0                      102.9   \n",
       "14                     104.8      105.6                      102.3   \n",
       "\n",
       "    Miscellaneous  General index       Date  \n",
       "2           103.9          104.6 2013-01-01  \n",
       "5           104.4          105.3 2013-02-01  \n",
       "8           104.7          105.5 2013-03-01  \n",
       "11          104.8          106.1 2013-04-01  \n",
       "14          104.8          106.9 2013-05-01  \n",
       "\n",
       "[5 rows x 31 columns]"
      ]
     },
     "execution_count": 583,
     "metadata": {},
     "output_type": "execute_result"
    }
   ],
   "source": [
    "Rural_Urban_cpi.head()"
   ]
  },
  {
   "cell_type": "code",
   "execution_count": 584,
   "metadata": {},
   "outputs": [
    {
     "data": {
      "image/png": "[encoded data removed]",
      "text/plain": [
       "<Figure size 1200x600 with 1 Axes>"
      ]
     },
     "metadata": {},
     "output_type": "display_data"
    }
   ],
   "source": [
    "plt.figure(figsize=(12, 6))\n",
    "sns.lineplot(data=Rural_Urban_cpi,x='Date',y='General index',linewidth='2',markers=True)\n",
    "plt.xlabel(\"Date\")             \n",
    "plt.ylabel(\"General index\")     \n",
    "plt.title(\"General Index Over Time\")  \n",
    "\n",
    "plt.show() \n"
   ]
  },
  {
   "cell_type": "code",
   "execution_count": 585,
   "metadata": {},
   "outputs": [],
   "source": [
    "Rural_Urban_cpi.set_index('Date', inplace=True)\n",
    "monthlycpi = Rural_Urban_cpi['General index'].resample('M').mean().interpolate(method='linear')\n",
    "decompose = seasonal_decompose(monthlycpi,model='multiplicative',period=1)"
   ]
  },
  {
   "cell_type": "code",
   "execution_count": 586,
   "metadata": {},
   "outputs": [
    {
     "name": "stdout",
     "output_type": "stream",
     "text": [
      "Date\n",
      "2013-01-31    104.6\n",
      "2013-02-28    105.3\n",
      "2013-03-31    105.5\n",
      "2013-04-30    106.1\n",
      "2013-05-31    106.9\n",
      "              ...  \n",
      "2022-10-31    176.7\n",
      "2022-11-30    176.5\n",
      "2022-12-31    175.7\n",
      "2023-01-31    176.5\n",
      "2023-02-28    177.2\n",
      "Freq: M, Name: General index, Length: 122, dtype: float64\n"
     ]
    }
   ],
   "source": [
    "print(monthlycpi)"
   ]
  },
  {
   "cell_type": "code",
   "execution_count": 587,
   "metadata": {},
   "outputs": [
    {
     "data": {
      "text/plain": [
       "Bar({\n",
       "    'x': array([datetime.datetime(2013, 1, 31, 0, 0),\n",
       "                datetime.datetime(2013, 2, 28, 0, 0),\n",
       "                datetime.datetime(2013, 3, 31, 0, 0),\n",
       "                datetime.datetime(2013, 4, 30, 0, 0),\n",
       "                datetime.datetime(2013, 5, 31, 0, 0),\n",
       "                datetime.datetime(2013, 6, 30, 0, 0),\n",
       "                datetime.datetime(2013, 7, 31, 0, 0),\n",
       "                datetime.datetime(2013, 8, 31, 0, 0),\n",
       "                datetime.datetime(2013, 9, 30, 0, 0),\n",
       "                datetime.datetime(2013, 10, 31, 0, 0),\n",
       "                datetime.datetime(2013, 11, 30, 0, 0),\n",
       "                datetime.datetime(2013, 12, 31, 0, 0),\n",
       "                datetime.datetime(2014, 1, 31, 0, 0),\n",
       "                datetime.datetime(2014, 2, 28, 0, 0),\n",
       "                datetime.datetime(2014, 3, 31, 0, 0),\n",
       "                datetime.datetime(2014, 4, 30, 0, 0),\n",
       "                datetime.datetime(2014, 5, 31, 0, 0),\n",
       "                datetime.datetime(2014, 6, 30, 0, 0),\n",
       "                datetime.datetime(2014, 7, 31, 0, 0),\n",
       "                datetime.datetime(2014, 8, 31, 0, 0),\n",
       "                datetime.datetime(2014, 9, 30, 0, 0),\n",
       "                datetime.datetime(2014, 10, 31, 0, 0),\n",
       "                datetime.datetime(2014, 11, 30, 0, 0),\n",
       "                datetime.datetime(2014, 12, 31, 0, 0),\n",
       "                datetime.datetime(2015, 1, 31, 0, 0),\n",
       "                datetime.datetime(2015, 2, 28, 0, 0),\n",
       "                datetime.datetime(2015, 3, 31, 0, 0),\n",
       "                datetime.datetime(2015, 4, 30, 0, 0),\n",
       "                datetime.datetime(2015, 5, 31, 0, 0),\n",
       "                datetime.datetime(2015, 6, 30, 0, 0),\n",
       "                datetime.datetime(2015, 7, 31, 0, 0),\n",
       "                datetime.datetime(2015, 8, 31, 0, 0),\n",
       "                datetime.datetime(2015, 9, 30, 0, 0),\n",
       "                datetime.datetime(2015, 10, 31, 0, 0),\n",
       "                datetime.datetime(2015, 11, 30, 0, 0),\n",
       "                datetime.datetime(2015, 12, 31, 0, 0),\n",
       "                datetime.datetime(2016, 1, 31, 0, 0),\n",
       "                datetime.datetime(2016, 2, 29, 0, 0),\n",
       "                datetime.datetime(2016, 3, 31, 0, 0),\n",
       "                datetime.datetime(2016, 4, 30, 0, 0),\n",
       "                datetime.datetime(2016, 5, 31, 0, 0),\n",
       "                datetime.datetime(2016, 6, 30, 0, 0),\n",
       "                datetime.datetime(2016, 7, 31, 0, 0),\n",
       "                datetime.datetime(2016, 8, 31, 0, 0),\n",
       "                datetime.datetime(2016, 9, 30, 0, 0),\n",
       "                datetime.datetime(2016, 10, 31, 0, 0),\n",
       "                datetime.datetime(2016, 11, 30, 0, 0),\n",
       "                datetime.datetime(2016, 12, 31, 0, 0),\n",
       "                datetime.datetime(2017, 1, 31, 0, 0),\n",
       "                datetime.datetime(2017, 2, 28, 0, 0),\n",
       "                datetime.datetime(2017, 3, 31, 0, 0),\n",
       "                datetime.datetime(2017, 4, 30, 0, 0),\n",
       "                datetime.datetime(2017, 5, 31, 0, 0),\n",
       "                datetime.datetime(2017, 6, 30, 0, 0),\n",
       "                datetime.datetime(2017, 7, 31, 0, 0),\n",
       "                datetime.datetime(2017, 8, 31, 0, 0),\n",
       "                datetime.datetime(2017, 9, 30, 0, 0),\n",
       "                datetime.datetime(2017, 10, 31, 0, 0),\n",
       "                datetime.datetime(2017, 11, 30, 0, 0),\n",
       "                datetime.datetime(2017, 12, 31, 0, 0),\n",
       "                datetime.datetime(2018, 1, 31, 0, 0),\n",
       "                datetime.datetime(2018, 2, 28, 0, 0),\n",
       "                datetime.datetime(2018, 3, 31, 0, 0),\n",
       "                datetime.datetime(2018, 4, 30, 0, 0),\n",
       "                datetime.datetime(2018, 5, 31, 0, 0),\n",
       "                datetime.datetime(2018, 6, 30, 0, 0),\n",
       "                datetime.datetime(2018, 7, 31, 0, 0),\n",
       "                datetime.datetime(2018, 8, 31, 0, 0),\n",
       "                datetime.datetime(2018, 9, 30, 0, 0),\n",
       "                datetime.datetime(2018, 10, 31, 0, 0),\n",
       "                datetime.datetime(2018, 11, 30, 0, 0),\n",
       "                datetime.datetime(2018, 12, 31, 0, 0),\n",
       "                datetime.datetime(2019, 1, 31, 0, 0),\n",
       "                datetime.datetime(2019, 2, 28, 0, 0),\n",
       "                datetime.datetime(2019, 3, 31, 0, 0),\n",
       "                datetime.datetime(2019, 4, 30, 0, 0),\n",
       "                datetime.datetime(2019, 5, 31, 0, 0),\n",
       "                datetime.datetime(2019, 6, 30, 0, 0),\n",
       "                datetime.datetime(2019, 7, 31, 0, 0),\n",
       "                datetime.datetime(2019, 8, 31, 0, 0),\n",
       "                datetime.datetime(2019, 9, 30, 0, 0),\n",
       "                datetime.datetime(2019, 10, 31, 0, 0),\n",
       "                datetime.datetime(2019, 11, 30, 0, 0),\n",
       "                datetime.datetime(2019, 12, 31, 0, 0),\n",
       "                datetime.datetime(2020, 1, 31, 0, 0),\n",
       "                datetime.datetime(2020, 2, 29, 0, 0),\n",
       "                datetime.datetime(2020, 3, 31, 0, 0),\n",
       "                datetime.datetime(2020, 4, 30, 0, 0),\n",
       "                datetime.datetime(2020, 5, 31, 0, 0),\n",
       "                datetime.datetime(2020, 6, 30, 0, 0),\n",
       "                datetime.datetime(2020, 7, 31, 0, 0),\n",
       "                datetime.datetime(2020, 8, 31, 0, 0),\n",
       "                datetime.datetime(2020, 9, 30, 0, 0),\n",
       "                datetime.datetime(2020, 10, 31, 0, 0),\n",
       "                datetime.datetime(2020, 11, 30, 0, 0),\n",
       "                datetime.datetime(2020, 12, 31, 0, 0),\n",
       "                datetime.datetime(2021, 1, 31, 0, 0),\n",
       "                datetime.datetime(2021, 2, 28, 0, 0),\n",
       "                datetime.datetime(2021, 3, 31, 0, 0),\n",
       "                datetime.datetime(2021, 4, 30, 0, 0),\n",
       "                datetime.datetime(2021, 5, 31, 0, 0),\n",
       "                datetime.datetime(2021, 6, 30, 0, 0),\n",
       "                datetime.datetime(2021, 7, 31, 0, 0),\n",
       "                datetime.datetime(2021, 8, 31, 0, 0),\n",
       "                datetime.datetime(2021, 9, 30, 0, 0),\n",
       "                datetime.datetime(2021, 10, 31, 0, 0),\n",
       "                datetime.datetime(2021, 11, 30, 0, 0),\n",
       "                datetime.datetime(2021, 12, 31, 0, 0),\n",
       "                datetime.datetime(2022, 1, 31, 0, 0),\n",
       "                datetime.datetime(2022, 2, 28, 0, 0),\n",
       "                datetime.datetime(2022, 3, 31, 0, 0),\n",
       "                datetime.datetime(2022, 4, 30, 0, 0),\n",
       "                datetime.datetime(2022, 5, 31, 0, 0),\n",
       "                datetime.datetime(2022, 6, 30, 0, 0),\n",
       "                datetime.datetime(2022, 7, 31, 0, 0),\n",
       "                datetime.datetime(2022, 8, 31, 0, 0),\n",
       "                datetime.datetime(2022, 9, 30, 0, 0),\n",
       "                datetime.datetime(2022, 10, 31, 0, 0),\n",
       "                datetime.datetime(2022, 11, 30, 0, 0),\n",
       "                datetime.datetime(2022, 12, 31, 0, 0),\n",
       "                datetime.datetime(2023, 1, 31, 0, 0),\n",
       "                datetime.datetime(2023, 2, 28, 0, 0)], dtype=object),\n",
       "    'y': array([104.6       , 105.3       , 105.5       , 106.1       , 106.9       ,\n",
       "                109.3       , 111.        , 112.4       , 113.7       , 114.8       ,\n",
       "                116.3       , 114.5       , 113.6       , 113.6       , 114.2       ,\n",
       "                115.1       , 115.8       , 116.7       , 119.2       , 120.3       ,\n",
       "                120.1       , 120.1       , 120.1       , 119.4       , 119.5       ,\n",
       "                119.7       , 120.2       , 120.7       , 121.6       , 123.        ,\n",
       "                123.6       , 124.8       , 125.4       , 126.1       , 126.6       ,\n",
       "                126.1       , 126.3       , 126.        , 126.        , 127.3       ,\n",
       "                128.6       , 130.1       , 131.1       , 131.1       , 130.9       ,\n",
       "                131.4       , 131.2       , 130.4       , 130.3       , 130.6       ,\n",
       "                130.9       , 131.1       , 131.4       , 132.        , 134.2       ,\n",
       "                135.4       , 135.2       , 136.1       , 137.6       , 137.2       ,\n",
       "                136.9       , 136.4       , 136.5       , 137.1       , 137.8       ,\n",
       "                138.5       , 139.8       , 140.4       , 140.2       , 140.8       ,\n",
       "                140.8       , 140.1       , 139.6       , 139.9       , 140.4       ,\n",
       "                141.2       , 142.        , 142.9       , 144.2       , 145.        ,\n",
       "                145.8       , 147.2       , 148.6       , 150.4       , 150.2       ,\n",
       "                149.1       , 148.6       , 149.66666667, 150.73333333, 151.8       ,\n",
       "                151.8       , 153.9       , 154.7       , 156.4       , 158.4       ,\n",
       "                158.9       , 157.3       , 156.6       , 156.8       , 157.8       ,\n",
       "                160.4       , 161.3       , 162.5       , 163.2       , 163.2       ,\n",
       "                165.5       , 166.7       , 166.2       , 165.7       , 166.1       ,\n",
       "                167.7       , 170.1       , 171.7       , 172.6       , 173.4       ,\n",
       "                174.3       , 175.3       , 176.7       , 176.5       , 175.7       ,\n",
       "                176.5       , 177.2       ])\n",
       "})"
      ]
     },
     "execution_count": 587,
     "metadata": {},
     "output_type": "execute_result"
    }
   ],
   "source": [
    "fig = go.Figure()\n",
    "go.Bar(x=decompose.observed.index, y=decompose.observed)\n"
   ]
  },
  {
   "cell_type": "code",
   "execution_count": 588,
   "metadata": {},
   "outputs": [
    {
     "data": {
      "application/vnd.plotly.v1+json": {
       "config": {
        "plotlyServerURL": "https://plot.ly"
       },
       "data": [
        {
         "mode": "lines",
         "name": "Observed",
         "type": "scatter",
         "x": [
          "2013-01-31T00:00:00",
          "2013-02-28T00:00:00",
          "2013-03-31T00:00:00",
          "2013-04-30T00:00:00",
          "2013-05-31T00:00:00",
          "2013-06-30T00:00:00",
          "2013-07-31T00:00:00",
          "2013-08-31T00:00:00",
          "2013-09-30T00:00:00",
          "2013-10-31T00:00:00",
          "2013-11-30T00:00:00",
          "2013-12-31T00:00:00",
          "2014-01-31T00:00:00",
          "2014-02-28T00:00:00",
          "2014-03-31T00:00:00",
          "2014-04-30T00:00:00",
          "2014-05-31T00:00:00",
          "2014-06-30T00:00:00",
          "2014-07-31T00:00:00",
          "2014-08-31T00:00:00",
          "2014-09-30T00:00:00",
          "2014-10-31T00:00:00",
          "2014-11-30T00:00:00",
          "2014-12-31T00:00:00",
          "2015-01-31T00:00:00",
          "2015-02-28T00:00:00",
          "2015-03-31T00:00:00",
          "2015-04-30T00:00:00",
          "2015-05-31T00:00:00",
          "2015-06-30T00:00:00",
          "2015-07-31T00:00:00",
          "2015-08-31T00:00:00",
          "2015-09-30T00:00:00",
          "2015-10-31T00:00:00",
          "2015-11-30T00:00:00",
          "2015-12-31T00:00:00",
          "2016-01-31T00:00:00",
          "2016-02-29T00:00:00",
          "2016-03-31T00:00:00",
          "2016-04-30T00:00:00",
          "2016-05-31T00:00:00",
          "2016-06-30T00:00:00",
          "2016-07-31T00:00:00",
          "2016-08-31T00:00:00",
          "2016-09-30T00:00:00",
          "2016-10-31T00:00:00",
          "2016-11-30T00:00:00",
          "2016-12-31T00:00:00",
          "2017-01-31T00:00:00",
          "2017-02-28T00:00:00",
          "2017-03-31T00:00:00",
          "2017-04-30T00:00:00",
          "2017-05-31T00:00:00",
          "2017-06-30T00:00:00",
          "2017-07-31T00:00:00",
          "2017-08-31T00:00:00",
          "2017-09-30T00:00:00",
          "2017-10-31T00:00:00",
          "2017-11-30T00:00:00",
          "2017-12-31T00:00:00",
          "2018-01-31T00:00:00",
          "2018-02-28T00:00:00",
          "2018-03-31T00:00:00",
          "2018-04-30T00:00:00",
          "2018-05-31T00:00:00",
          "2018-06-30T00:00:00",
          "2018-07-31T00:00:00",
          "2018-08-31T00:00:00",
          "2018-09-30T00:00:00",
          "2018-10-31T00:00:00",
          "2018-11-30T00:00:00",
          "2018-12-31T00:00:00",
          "2019-01-31T00:00:00",
          "2019-02-28T00:00:00",
          "2019-03-31T00:00:00",
          "2019-04-30T00:00:00",
          "2019-05-31T00:00:00",
          "2019-06-30T00:00:00",
          "2019-07-31T00:00:00",
          "2019-08-31T00:00:00",
          "2019-09-30T00:00:00",
          "2019-10-31T00:00:00",
          "2019-11-30T00:00:00",
          "2019-12-31T00:00:00",
          "2020-01-31T00:00:00",
          "2020-02-29T00:00:00",
          "2020-03-31T00:00:00",
          "2020-04-30T00:00:00",
          "2020-05-31T00:00:00",
          "2020-06-30T00:00:00",
          "2020-07-31T00:00:00",
          "2020-08-31T00:00:00",
          "2020-09-30T00:00:00",
          "2020-10-31T00:00:00",
          "2020-11-30T00:00:00",
          "2020-12-31T00:00:00",
          "2021-01-31T00:00:00",
          "2021-02-28T00:00:00",
          "2021-03-31T00:00:00",
          "2021-04-30T00:00:00",
          "2021-05-31T00:00:00",
          "2021-06-30T00:00:00",
          "2021-07-31T00:00:00",
          "2021-08-31T00:00:00",
          "2021-09-30T00:00:00",
          "2021-10-31T00:00:00",
          "2021-11-30T00:00:00",
          "2021-12-31T00:00:00",
          "2022-01-31T00:00:00",
          "2022-02-28T00:00:00",
          "2022-03-31T00:00:00",
          "2022-04-30T00:00:00",
          "2022-05-31T00:00:00",
          "2022-06-30T00:00:00",
          "2022-07-31T00:00:00",
          "2022-08-31T00:00:00",
          "2022-09-30T00:00:00",
          "2022-10-31T00:00:00",
          "2022-11-30T00:00:00",
          "2022-12-31T00:00:00",
          "2023-01-31T00:00:00",
          "2023-02-28T00:00:00"
         ],
         "y": [
          104.6,
          105.3,
          105.5,
          106.1,
          106.9,
          109.3,
          111,
          112.4,
          113.7,
          114.8,
          116.3,
          114.5,
          113.6,
          113.6,
          114.2,
          115.1,
          115.8,
          116.7,
          119.2,
          120.3,
          120.1,
          120.1,
          120.1,
          119.4,
          119.5,
          119.7,
          120.2,
          120.7,
          121.6,
          123,
          123.6,
          124.8,
          125.4,
          126.1,
          126.6,
          126.1,
          126.3,
          126,
          126,
          127.3,
          128.6,
          130.1,
          131.1,
          131.1,
          130.9,
          131.4,
          131.2,
          130.4,
          130.3,
          130.6,
          130.9,
          131.1,
          131.4,
          132,
          134.2,
          135.4,
          135.2,
          136.1,
          137.6,
          137.2,
          136.9,
          136.4,
          136.5,
          137.1,
          137.8,
          138.5,
          139.8,
          140.4,
          140.2,
          140.8,
          140.8,
          140.1,
          139.6,
          139.9,
          140.4,
          141.2,
          142,
          142.9,
          144.2,
          145,
          145.8,
          147.2,
          148.6,
          150.4,
          150.2,
          149.1,
          148.6,
          149.66666666666666,
          150.73333333333335,
          151.8,
          151.8,
          153.9,
          154.7,
          156.4,
          158.4,
          158.9,
          157.3,
          156.6,
          156.8,
          157.8,
          160.4,
          161.3,
          162.5,
          163.2,
          163.2,
          165.5,
          166.7,
          166.2,
          165.7,
          166.1,
          167.7,
          170.1,
          171.7,
          172.6,
          173.4,
          174.3,
          175.3,
          176.7,
          176.5,
          175.7,
          176.5,
          177.2
         ]
        },
        {
         "mode": "lines",
         "name": "trend",
         "type": "scatter",
         "x": [
          "2013-01-31T00:00:00",
          "2013-02-28T00:00:00",
          "2013-03-31T00:00:00",
          "2013-04-30T00:00:00",
          "2013-05-31T00:00:00",
          "2013-06-30T00:00:00",
          "2013-07-31T00:00:00",
          "2013-08-31T00:00:00",
          "2013-09-30T00:00:00",
          "2013-10-31T00:00:00",
          "2013-11-30T00:00:00",
          "2013-12-31T00:00:00",
          "2014-01-31T00:00:00",
          "2014-02-28T00:00:00",
          "2014-03-31T00:00:00",
          "2014-04-30T00:00:00",
          "2014-05-31T00:00:00",
          "2014-06-30T00:00:00",
          "2014-07-31T00:00:00",
          "2014-08-31T00:00:00",
          "2014-09-30T00:00:00",
          "2014-10-31T00:00:00",
          "2014-11-30T00:00:00",
          "2014-12-31T00:00:00",
          "2015-01-31T00:00:00",
          "2015-02-28T00:00:00",
          "2015-03-31T00:00:00",
          "2015-04-30T00:00:00",
          "2015-05-31T00:00:00",
          "2015-06-30T00:00:00",
          "2015-07-31T00:00:00",
          "2015-08-31T00:00:00",
          "2015-09-30T00:00:00",
          "2015-10-31T00:00:00",
          "2015-11-30T00:00:00",
          "2015-12-31T00:00:00",
          "2016-01-31T00:00:00",
          "2016-02-29T00:00:00",
          "2016-03-31T00:00:00",
          "2016-04-30T00:00:00",
          "2016-05-31T00:00:00",
          "2016-06-30T00:00:00",
          "2016-07-31T00:00:00",
          "2016-08-31T00:00:00",
          "2016-09-30T00:00:00",
          "2016-10-31T00:00:00",
          "2016-11-30T00:00:00",
          "2016-12-31T00:00:00",
          "2017-01-31T00:00:00",
          "2017-02-28T00:00:00",
          "2017-03-31T00:00:00",
          "2017-04-30T00:00:00",
          "2017-05-31T00:00:00",
          "2017-06-30T00:00:00",
          "2017-07-31T00:00:00",
          "2017-08-31T00:00:00",
          "2017-09-30T00:00:00",
          "2017-10-31T00:00:00",
          "2017-11-30T00:00:00",
          "2017-12-31T00:00:00",
          "2018-01-31T00:00:00",
          "2018-02-28T00:00:00",
          "2018-03-31T00:00:00",
          "2018-04-30T00:00:00",
          "2018-05-31T00:00:00",
          "2018-06-30T00:00:00",
          "2018-07-31T00:00:00",
          "2018-08-31T00:00:00",
          "2018-09-30T00:00:00",
          "2018-10-31T00:00:00",
          "2018-11-30T00:00:00",
          "2018-12-31T00:00:00",
          "2019-01-31T00:00:00",
          "2019-02-28T00:00:00",
          "2019-03-31T00:00:00",
          "2019-04-30T00:00:00",
          "2019-05-31T00:00:00",
          "2019-06-30T00:00:00",
          "2019-07-31T00:00:00",
          "2019-08-31T00:00:00",
          "2019-09-30T00:00:00",
          "2019-10-31T00:00:00",
          "2019-11-30T00:00:00",
          "2019-12-31T00:00:00",
          "2020-01-31T00:00:00",
          "2020-02-29T00:00:00",
          "2020-03-31T00:00:00",
          "2020-04-30T00:00:00",
          "2020-05-31T00:00:00",
          "2020-06-30T00:00:00",
          "2020-07-31T00:00:00",
          "2020-08-31T00:00:00",
          "2020-09-30T00:00:00",
          "2020-10-31T00:00:00",
          "2020-11-30T00:00:00",
          "2020-12-31T00:00:00",
          "2021-01-31T00:00:00",
          "2021-02-28T00:00:00",
          "2021-03-31T00:00:00",
          "2021-04-30T00:00:00",
          "2021-05-31T00:00:00",
          "2021-06-30T00:00:00",
          "2021-07-31T00:00:00",
          "2021-08-31T00:00:00",
          "2021-09-30T00:00:00",
          "2021-10-31T00:00:00",
          "2021-11-30T00:00:00",
          "2021-12-31T00:00:00",
          "2022-01-31T00:00:00",
          "2022-02-28T00:00:00",
          "2022-03-31T00:00:00",
          "2022-04-30T00:00:00",
          "2022-05-31T00:00:00",
          "2022-06-30T00:00:00",
          "2022-07-31T00:00:00",
          "2022-08-31T00:00:00",
          "2022-09-30T00:00:00",
          "2022-10-31T00:00:00",
          "2022-11-30T00:00:00",
          "2022-12-31T00:00:00",
          "2023-01-31T00:00:00",
          "2023-02-28T00:00:00"
         ],
         "y": [
          104.6,
          105.3,
          105.5,
          106.1,
          106.9,
          109.3,
          111,
          112.4,
          113.7,
          114.8,
          116.3,
          114.5,
          113.6,
          113.6,
          114.2,
          115.1,
          115.8,
          116.7,
          119.2,
          120.3,
          120.1,
          120.1,
          120.1,
          119.4,
          119.5,
          119.7,
          120.2,
          120.7,
          121.6,
          123,
          123.6,
          124.8,
          125.4,
          126.1,
          126.6,
          126.1,
          126.3,
          126,
          126,
          127.3,
          128.6,
          130.1,
          131.1,
          131.1,
          130.9,
          131.4,
          131.2,
          130.4,
          130.3,
          130.6,
          130.9,
          131.1,
          131.4,
          132,
          134.2,
          135.4,
          135.2,
          136.1,
          137.6,
          137.2,
          136.9,
          136.4,
          136.5,
          137.1,
          137.8,
          138.5,
          139.8,
          140.4,
          140.2,
          140.8,
          140.8,
          140.1,
          139.6,
          139.9,
          140.4,
          141.2,
          142,
          142.9,
          144.2,
          145,
          145.8,
          147.2,
          148.6,
          150.4,
          150.2,
          149.1,
          148.6,
          149.66666666666666,
          150.73333333333335,
          151.8,
          151.8,
          153.9,
          154.7,
          156.4,
          158.4,
          158.9,
          157.3,
          156.6,
          156.8,
          157.8,
          160.4,
          161.3,
          162.5,
          163.2,
          163.2,
          165.5,
          166.7,
          166.2,
          165.7,
          166.1,
          167.7,
          170.1,
          171.7,
          172.6,
          173.4,
          174.3,
          175.3,
          176.7,
          176.5,
          175.7,
          176.5,
          177.2
         ]
        },
        {
         "mode": "lines",
         "name": "seasonal",
         "type": "scatter",
         "x": [
          "2013-01-31T00:00:00",
          "2013-02-28T00:00:00",
          "2013-03-31T00:00:00",
          "2013-04-30T00:00:00",
          "2013-05-31T00:00:00",
          "2013-06-30T00:00:00",
          "2013-07-31T00:00:00",
          "2013-08-31T00:00:00",
          "2013-09-30T00:00:00",
          "2013-10-31T00:00:00",
          "2013-11-30T00:00:00",
          "2013-12-31T00:00:00",
          "2014-01-31T00:00:00",
          "2014-02-28T00:00:00",
          "2014-03-31T00:00:00",
          "2014-04-30T00:00:00",
          "2014-05-31T00:00:00",
          "2014-06-30T00:00:00",
          "2014-07-31T00:00:00",
          "2014-08-31T00:00:00",
          "2014-09-30T00:00:00",
          "2014-10-31T00:00:00",
          "2014-11-30T00:00:00",
          "2014-12-31T00:00:00",
          "2015-01-31T00:00:00",
          "2015-02-28T00:00:00",
          "2015-03-31T00:00:00",
          "2015-04-30T00:00:00",
          "2015-05-31T00:00:00",
          "2015-06-30T00:00:00",
          "2015-07-31T00:00:00",
          "2015-08-31T00:00:00",
          "2015-09-30T00:00:00",
          "2015-10-31T00:00:00",
          "2015-11-30T00:00:00",
          "2015-12-31T00:00:00",
          "2016-01-31T00:00:00",
          "2016-02-29T00:00:00",
          "2016-03-31T00:00:00",
          "2016-04-30T00:00:00",
          "2016-05-31T00:00:00",
          "2016-06-30T00:00:00",
          "2016-07-31T00:00:00",
          "2016-08-31T00:00:00",
          "2016-09-30T00:00:00",
          "2016-10-31T00:00:00",
          "2016-11-30T00:00:00",
          "2016-12-31T00:00:00",
          "2017-01-31T00:00:00",
          "2017-02-28T00:00:00",
          "2017-03-31T00:00:00",
          "2017-04-30T00:00:00",
          "2017-05-31T00:00:00",
          "2017-06-30T00:00:00",
          "2017-07-31T00:00:00",
          "2017-08-31T00:00:00",
          "2017-09-30T00:00:00",
          "2017-10-31T00:00:00",
          "2017-11-30T00:00:00",
          "2017-12-31T00:00:00",
          "2018-01-31T00:00:00",
          "2018-02-28T00:00:00",
          "2018-03-31T00:00:00",
          "2018-04-30T00:00:00",
          "2018-05-31T00:00:00",
          "2018-06-30T00:00:00",
          "2018-07-31T00:00:00",
          "2018-08-31T00:00:00",
          "2018-09-30T00:00:00",
          "2018-10-31T00:00:00",
          "2018-11-30T00:00:00",
          "2018-12-31T00:00:00",
          "2019-01-31T00:00:00",
          "2019-02-28T00:00:00",
          "2019-03-31T00:00:00",
          "2019-04-30T00:00:00",
          "2019-05-31T00:00:00",
          "2019-06-30T00:00:00",
          "2019-07-31T00:00:00",
          "2019-08-31T00:00:00",
          "2019-09-30T00:00:00",
          "2019-10-31T00:00:00",
          "2019-11-30T00:00:00",
          "2019-12-31T00:00:00",
          "2020-01-31T00:00:00",
          "2020-02-29T00:00:00",
          "2020-03-31T00:00:00",
          "2020-04-30T00:00:00",
          "2020-05-31T00:00:00",
          "2020-06-30T00:00:00",
          "2020-07-31T00:00:00",
          "2020-08-31T00:00:00",
          "2020-09-30T00:00:00",
          "2020-10-31T00:00:00",
          "2020-11-30T00:00:00",
          "2020-12-31T00:00:00",
          "2021-01-31T00:00:00",
          "2021-02-28T00:00:00",
          "2021-03-31T00:00:00",
          "2021-04-30T00:00:00",
          "2021-05-31T00:00:00",
          "2021-06-30T00:00:00",
          "2021-07-31T00:00:00",
          "2021-08-31T00:00:00",
          "2021-09-30T00:00:00",
          "2021-10-31T00:00:00",
          "2021-11-30T00:00:00",
          "2021-12-31T00:00:00",
          "2022-01-31T00:00:00",
          "2022-02-28T00:00:00",
          "2022-03-31T00:00:00",
          "2022-04-30T00:00:00",
          "2022-05-31T00:00:00",
          "2022-06-30T00:00:00",
          "2022-07-31T00:00:00",
          "2022-08-31T00:00:00",
          "2022-09-30T00:00:00",
          "2022-10-31T00:00:00",
          "2022-11-30T00:00:00",
          "2022-12-31T00:00:00",
          "2023-01-31T00:00:00",
          "2023-02-28T00:00:00"
         ],
         "y": [
          1,
          1,
          1,
          1,
          1,
          1,
          1,
          1,
          1,
          1,
          1,
          1,
          1,
          1,
          1,
          1,
          1,
          1,
          1,
          1,
          1,
          1,
          1,
          1,
          1,
          1,
          1,
          1,
          1,
          1,
          1,
          1,
          1,
          1,
          1,
          1,
          1,
          1,
          1,
          1,
          1,
          1,
          1,
          1,
          1,
          1,
          1,
          1,
          1,
          1,
          1,
          1,
          1,
          1,
          1,
          1,
          1,
          1,
          1,
          1,
          1,
          1,
          1,
          1,
          1,
          1,
          1,
          1,
          1,
          1,
          1,
          1,
          1,
          1,
          1,
          1,
          1,
          1,
          1,
          1,
          1,
          1,
          1,
          1,
          1,
          1,
          1,
          1,
          1,
          1,
          1,
          1,
          1,
          1,
          1,
          1,
          1,
          1,
          1,
          1,
          1,
          1,
          1,
          1,
          1,
          1,
          1,
          1,
          1,
          1,
          1,
          1,
          1,
          1,
          1,
          1,
          1,
          1,
          1,
          1,
          1,
          1
         ]
        }
       ],
       "layout": {
        "template": {
         "data": {
          "bar": [
           {
            "error_x": {
             "color": "#2a3f5f"
            },
            "error_y": {
             "color": "#2a3f5f"
            },
            "marker": {
             "line": {
              "color": "#E5ECF6",
              "width": 0.5
             },
             "pattern": {
              "fillmode": "overlay",
              "size": 10,
              "solidity": 0.2
             }
            },
            "type": "bar"
           }
          ],
          "barpolar": [
           {
            "marker": {
             "line": {
              "color": "#E5ECF6",
              "width": 0.5
             },
             "pattern": {
              "fillmode": "overlay",
              "size": 10,
              "solidity": 0.2
             }
            },
            "type": "barpolar"
           }
          ],
          "carpet": [
           {
            "aaxis": {
             "endlinecolor": "#2a3f5f",
             "gridcolor": "white",
             "linecolor": "white",
             "minorgridcolor": "white",
             "startlinecolor": "#2a3f5f"
            },
            "baxis": {
             "endlinecolor": "#2a3f5f",
             "gridcolor": "white",
             "linecolor": "white",
             "minorgridcolor": "white",
             "startlinecolor": "#2a3f5f"
            },
            "type": "carpet"
           }
          ],
          "choropleth": [
           {
            "colorbar": {
             "outlinewidth": 0,
             "ticks": ""
            },
            "type": "choropleth"
           }
          ],
          "contour": [
           {
            "colorbar": {
             "outlinewidth": 0,
             "ticks": ""
            },
            "colorscale": [
             [
              0,
              "#0d0887"
             ],
             [
              0.1111111111111111,
              "#46039f"
             ],
             [
              0.2222222222222222,
              "#7201a8"
             ],
             [
              0.3333333333333333,
              "#9c179e"
             ],
             [
              0.4444444444444444,
              "#bd3786"
             ],
             [
              0.5555555555555556,
              "#d8576b"
             ],
             [
              0.6666666666666666,
              "#ed7953"
             ],
             [
              0.7777777777777778,
              "#fb9f3a"
             ],
             [
              0.8888888888888888,
              "#fdca26"
             ],
             [
              1,
              "#f0f921"
             ]
            ],
            "type": "contour"
           }
          ],
          "contourcarpet": [
           {
            "colorbar": {
             "outlinewidth": 0,
             "ticks": ""
            },
            "type": "contourcarpet"
           }
          ],
          "heatmap": [
           {
            "colorbar": {
             "outlinewidth": 0,
             "ticks": ""
            },
            "colorscale": [
             [
              0,
              "#0d0887"
             ],
             [
              0.1111111111111111,
              "#46039f"
             ],
             [
              0.2222222222222222,
              "#7201a8"
             ],
             [
              0.3333333333333333,
              "#9c179e"
             ],
             [
              0.4444444444444444,
              "#bd3786"
             ],
             [
              0.5555555555555556,
              "#d8576b"
             ],
             [
              0.6666666666666666,
              "#ed7953"
             ],
             [
              0.7777777777777778,
              "#fb9f3a"
             ],
             [
              0.8888888888888888,
              "#fdca26"
             ],
             [
              1,
              "#f0f921"
             ]
            ],
            "type": "heatmap"
           }
          ],
          "heatmapgl": [
           {
            "colorbar": {
             "outlinewidth": 0,
             "ticks": ""
            },
            "colorscale": [
             [
              0,
              "#0d0887"
             ],
             [
              0.1111111111111111,
              "#46039f"
             ],
             [
              0.2222222222222222,
              "#7201a8"
             ],
             [
              0.3333333333333333,
              "#9c179e"
             ],
             [
              0.4444444444444444,
              "#bd3786"
             ],
             [
              0.5555555555555556,
              "#d8576b"
             ],
             [
              0.6666666666666666,
              "#ed7953"
             ],
             [
              0.7777777777777778,
              "#fb9f3a"
             ],
             [
              0.8888888888888888,
              "#fdca26"
             ],
             [
              1,
              "#f0f921"
             ]
            ],
            "type": "heatmapgl"
           }
          ],
          "histogram": [
           {
            "marker": {
             "pattern": {
              "fillmode": "overlay",
              "size": 10,
              "solidity": 0.2
             }
            },
            "type": "histogram"
           }
          ],
          "histogram2d": [
           {
            "colorbar": {
             "outlinewidth": 0,
             "ticks": ""
            },
            "colorscale": [
             [
              0,
              "#0d0887"
             ],
             [
              0.1111111111111111,
              "#46039f"
             ],
             [
              0.2222222222222222,
              "#7201a8"
             ],
             [
              0.3333333333333333,
              "#9c179e"
             ],
             [
              0.4444444444444444,
              "#bd3786"
             ],
             [
              0.5555555555555556,
              "#d8576b"
             ],
             [
              0.6666666666666666,
              "#ed7953"
             ],
             [
              0.7777777777777778,
              "#fb9f3a"
             ],
             [
              0.8888888888888888,
              "#fdca26"
             ],
             [
              1,
              "#f0f921"
             ]
            ],
            "type": "histogram2d"
           }
          ],
          "histogram2dcontour": [
           {
            "colorbar": {
             "outlinewidth": 0,
             "ticks": ""
            },
            "colorscale": [
             [
              0,
              "#0d0887"
             ],
             [
              0.1111111111111111,
              "#46039f"
             ],
             [
              0.2222222222222222,
              "#7201a8"
             ],
             [
              0.3333333333333333,
              "#9c179e"
             ],
             [
              0.4444444444444444,
              "#bd3786"
             ],
             [
              0.5555555555555556,
              "#d8576b"
             ],
             [
              0.6666666666666666,
              "#ed7953"
             ],
             [
              0.7777777777777778,
              "#fb9f3a"
             ],
             [
              0.8888888888888888,
              "#fdca26"
             ],
             [
              1,
              "#f0f921"
             ]
            ],
            "type": "histogram2dcontour"
           }
          ],
          "mesh3d": [
           {
            "colorbar": {
             "outlinewidth": 0,
             "ticks": ""
            },
            "type": "mesh3d"
           }
          ],
          "parcoords": [
           {
            "line": {
             "colorbar": {
              "outlinewidth": 0,
              "ticks": ""
             }
            },
            "type": "parcoords"
           }
          ],
          "pie": [
           {
            "automargin": true,
            "type": "pie"
           }
          ],
          "scatter": [
           {
            "fillpattern": {
             "fillmode": "overlay",
             "size": 10,
             "solidity": 0.2
            },
            "type": "scatter"
           }
          ],
          "scatter3d": [
           {
            "line": {
             "colorbar": {
              "outlinewidth": 0,
              "ticks": ""
             }
            },
            "marker": {
             "colorbar": {
              "outlinewidth": 0,
              "ticks": ""
             }
            },
            "type": "scatter3d"
           }
          ],
          "scattercarpet": [
           {
            "marker": {
             "colorbar": {
              "outlinewidth": 0,
              "ticks": ""
             }
            },
            "type": "scattercarpet"
           }
          ],
          "scattergeo": [
           {
            "marker": {
             "colorbar": {
              "outlinewidth": 0,
              "ticks": ""
             }
            },
            "type": "scattergeo"
           }
          ],
          "scattergl": [
           {
            "marker": {
             "colorbar": {
              "outlinewidth": 0,
              "ticks": ""
             }
            },
            "type": "scattergl"
           }
          ],
          "scattermapbox": [
           {
            "marker": {
             "colorbar": {
              "outlinewidth": 0,
              "ticks": ""
             }
            },
            "type": "scattermapbox"
           }
          ],
          "scatterpolar": [
           {
            "marker": {
             "colorbar": {
              "outlinewidth": 0,
              "ticks": ""
             }
            },
            "type": "scatterpolar"
           }
          ],
          "scatterpolargl": [
           {
            "marker": {
             "colorbar": {
              "outlinewidth": 0,
              "ticks": ""
             }
            },
            "type": "scatterpolargl"
           }
          ],
          "scatterternary": [
           {
            "marker": {
             "colorbar": {
              "outlinewidth": 0,
              "ticks": ""
             }
            },
            "type": "scatterternary"
           }
          ],
          "surface": [
           {
            "colorbar": {
             "outlinewidth": 0,
             "ticks": ""
            },
            "colorscale": [
             [
              0,
              "#0d0887"
             ],
             [
              0.1111111111111111,
              "#46039f"
             ],
             [
              0.2222222222222222,
              "#7201a8"
             ],
             [
              0.3333333333333333,
              "#9c179e"
             ],
             [
              0.4444444444444444,
              "#bd3786"
             ],
             [
              0.5555555555555556,
              "#d8576b"
             ],
             [
              0.6666666666666666,
              "#ed7953"
             ],
             [
              0.7777777777777778,
              "#fb9f3a"
             ],
             [
              0.8888888888888888,
              "#fdca26"
             ],
             [
              1,
              "#f0f921"
             ]
            ],
            "type": "surface"
           }
          ],
          "table": [
           {
            "cells": {
             "fill": {
              "color": "#EBF0F8"
             },
             "line": {
              "color": "white"
             }
            },
            "header": {
             "fill": {
              "color": "#C8D4E3"
             },
             "line": {
              "color": "white"
             }
            },
            "type": "table"
           }
          ]
         },
         "layout": {
          "annotationdefaults": {
           "arrowcolor": "#2a3f5f",
           "arrowhead": 0,
           "arrowwidth": 1
          },
          "autotypenumbers": "strict",
          "coloraxis": {
           "colorbar": {
            "outlinewidth": 0,
            "ticks": ""
           }
          },
          "colorscale": {
           "diverging": [
            [
             0,
             "#8e0152"
            ],
            [
             0.1,
             "#c51b7d"
            ],
            [
             0.2,
             "#de77ae"
            ],
            [
             0.3,
             "#f1b6da"
            ],
            [
             0.4,
             "#fde0ef"
            ],
            [
             0.5,
             "#f7f7f7"
            ],
            [
             0.6,
             "#e6f5d0"
            ],
            [
             0.7,
             "#b8e186"
            ],
            [
             0.8,
             "#7fbc41"
            ],
            [
             0.9,
             "#4d9221"
            ],
            [
             1,
             "#276419"
            ]
           ],
           "sequential": [
            [
             0,
             "#0d0887"
            ],
            [
             0.1111111111111111,
             "#46039f"
            ],
            [
             0.2222222222222222,
             "#7201a8"
            ],
            [
             0.3333333333333333,
             "#9c179e"
            ],
            [
             0.4444444444444444,
             "#bd3786"
            ],
            [
             0.5555555555555556,
             "#d8576b"
            ],
            [
             0.6666666666666666,
             "#ed7953"
            ],
            [
             0.7777777777777778,
             "#fb9f3a"
            ],
            [
             0.8888888888888888,
             "#fdca26"
            ],
            [
             1,
             "#f0f921"
            ]
           ],
           "sequentialminus": [
            [
             0,
             "#0d0887"
            ],
            [
             0.1111111111111111,
             "#46039f"
            ],
            [
             0.2222222222222222,
             "#7201a8"
            ],
            [
             0.3333333333333333,
             "#9c179e"
            ],
            [
             0.4444444444444444,
             "#bd3786"
            ],
            [
             0.5555555555555556,
             "#d8576b"
            ],
            [
             0.6666666666666666,
             "#ed7953"
            ],
            [
             0.7777777777777778,
             "#fb9f3a"
            ],
            [
             0.8888888888888888,
             "#fdca26"
            ],
            [
             1,
             "#f0f921"
            ]
           ]
          },
          "colorway": [
           "#636efa",
           "#EF553B",
           "#00cc96",
           "#ab63fa",
           "#FFA15A",
           "#19d3f3",
           "#FF6692",
           "#B6E880",
           "#FF97FF",
           "#FECB52"
          ],
          "font": {
           "color": "#2a3f5f"
          },
          "geo": {
           "bgcolor": "white",
           "lakecolor": "white",
           "landcolor": "#E5ECF6",
           "showlakes": true,
           "showland": true,
           "subunitcolor": "white"
          },
          "hoverlabel": {
           "align": "left"
          },
          "hovermode": "closest",
          "mapbox": {
           "style": "light"
          },
          "paper_bgcolor": "white",
          "plot_bgcolor": "#E5ECF6",
          "polar": {
           "angularaxis": {
            "gridcolor": "white",
            "linecolor": "white",
            "ticks": ""
           },
           "bgcolor": "#E5ECF6",
           "radialaxis": {
            "gridcolor": "white",
            "linecolor": "white",
            "ticks": ""
           }
          },
          "scene": {
           "xaxis": {
            "backgroundcolor": "#E5ECF6",
            "gridcolor": "white",
            "gridwidth": 2,
            "linecolor": "white",
            "showbackground": true,
            "ticks": "",
            "zerolinecolor": "white"
           },
           "yaxis": {
            "backgroundcolor": "#E5ECF6",
            "gridcolor": "white",
            "gridwidth": 2,
            "linecolor": "white",
            "showbackground": true,
            "ticks": "",
            "zerolinecolor": "white"
           },
           "zaxis": {
            "backgroundcolor": "#E5ECF6",
            "gridcolor": "white",
            "gridwidth": 2,
            "linecolor": "white",
            "showbackground": true,
            "ticks": "",
            "zerolinecolor": "white"
           }
          },
          "shapedefaults": {
           "line": {
            "color": "#2a3f5f"
           }
          },
          "ternary": {
           "aaxis": {
            "gridcolor": "white",
            "linecolor": "white",
            "ticks": ""
           },
           "baxis": {
            "gridcolor": "white",
            "linecolor": "white",
            "ticks": ""
           },
           "bgcolor": "#E5ECF6",
           "caxis": {
            "gridcolor": "white",
            "linecolor": "white",
            "ticks": ""
           }
          },
          "title": {
           "x": 0.05
          },
          "xaxis": {
           "automargin": true,
           "gridcolor": "white",
           "linecolor": "white",
           "ticks": "",
           "title": {
            "standoff": 15
           },
           "zerolinecolor": "white",
           "zerolinewidth": 2
          },
          "yaxis": {
           "automargin": true,
           "gridcolor": "white",
           "linecolor": "white",
           "ticks": "",
           "title": {
            "standoff": 15
           },
           "zerolinecolor": "white",
           "zerolinewidth": 2
          }
         }
        },
        "title": {
         "text": "Seasonal Decomposition of CPI (Observed, Trend, Seasonal)"
        },
        "xaxis": {
         "title": {
          "text": "Date"
         }
        }
       }
      }
     },
     "metadata": {},
     "output_type": "display_data"
    }
   ],
   "source": [
    "fig.add_traces(go.Scatter(x=decompose.observed.index, y=decompose.observed, mode='lines', name='Observed'))\n",
    "fig.add_trace(go.Scatter(x=decompose.trend.index, y=decompose.trend, mode='lines', name='trend'))\n",
    "fig.add_traces(go.Scatter(x=decompose.seasonal.index, y=decompose.seasonal, mode='lines',name='seasonal'))\n",
    "fig.update_layout(title='Seasonal Decomposition of CPI (Observed, Trend, Seasonal)', xaxis_title='Date')\n",
    "fig.show()"
   ]
  },
  {
   "cell_type": "code",
   "execution_count": 589,
   "metadata": {},
   "outputs": [
    {
     "data": {
      "application/vnd.plotly.v1+json": {
       "config": {
        "plotlyServerURL": "https://plot.ly"
       },
       "data": [
        {
         "mode": "lines",
         "name": "Observed",
         "type": "scatter",
         "x": [
          "2013-01-31T00:00:00",
          "2013-02-28T00:00:00",
          "2013-03-31T00:00:00",
          "2013-04-30T00:00:00",
          "2013-05-31T00:00:00",
          "2013-06-30T00:00:00",
          "2013-07-31T00:00:00",
          "2013-08-31T00:00:00",
          "2013-09-30T00:00:00",
          "2013-10-31T00:00:00",
          "2013-11-30T00:00:00",
          "2013-12-31T00:00:00",
          "2014-01-31T00:00:00",
          "2014-02-28T00:00:00",
          "2014-03-31T00:00:00",
          "2014-04-30T00:00:00",
          "2014-05-31T00:00:00",
          "2014-06-30T00:00:00",
          "2014-07-31T00:00:00",
          "2014-08-31T00:00:00",
          "2014-09-30T00:00:00",
          "2014-10-31T00:00:00",
          "2014-11-30T00:00:00",
          "2014-12-31T00:00:00",
          "2015-01-31T00:00:00",
          "2015-02-28T00:00:00",
          "2015-03-31T00:00:00",
          "2015-04-30T00:00:00",
          "2015-05-31T00:00:00",
          "2015-06-30T00:00:00",
          "2015-07-31T00:00:00",
          "2015-08-31T00:00:00",
          "2015-09-30T00:00:00",
          "2015-10-31T00:00:00",
          "2015-11-30T00:00:00",
          "2015-12-31T00:00:00",
          "2016-01-31T00:00:00",
          "2016-02-29T00:00:00",
          "2016-03-31T00:00:00",
          "2016-04-30T00:00:00",
          "2016-05-31T00:00:00",
          "2016-06-30T00:00:00",
          "2016-07-31T00:00:00",
          "2016-08-31T00:00:00",
          "2016-09-30T00:00:00",
          "2016-10-31T00:00:00",
          "2016-11-30T00:00:00",
          "2016-12-31T00:00:00",
          "2017-01-31T00:00:00",
          "2017-02-28T00:00:00",
          "2017-03-31T00:00:00",
          "2017-04-30T00:00:00",
          "2017-05-31T00:00:00",
          "2017-06-30T00:00:00",
          "2017-07-31T00:00:00",
          "2017-08-31T00:00:00",
          "2017-09-30T00:00:00",
          "2017-10-31T00:00:00",
          "2017-11-30T00:00:00",
          "2017-12-31T00:00:00",
          "2018-01-31T00:00:00",
          "2018-02-28T00:00:00",
          "2018-03-31T00:00:00",
          "2018-04-30T00:00:00",
          "2018-05-31T00:00:00",
          "2018-06-30T00:00:00",
          "2018-07-31T00:00:00",
          "2018-08-31T00:00:00",
          "2018-09-30T00:00:00",
          "2018-10-31T00:00:00",
          "2018-11-30T00:00:00",
          "2018-12-31T00:00:00",
          "2019-01-31T00:00:00",
          "2019-02-28T00:00:00",
          "2019-03-31T00:00:00",
          "2019-04-30T00:00:00",
          "2019-05-31T00:00:00",
          "2019-06-30T00:00:00",
          "2019-07-31T00:00:00",
          "2019-08-31T00:00:00",
          "2019-09-30T00:00:00",
          "2019-10-31T00:00:00",
          "2019-11-30T00:00:00",
          "2019-12-31T00:00:00",
          "2020-01-31T00:00:00",
          "2020-02-29T00:00:00",
          "2020-03-31T00:00:00",
          "2020-04-30T00:00:00",
          "2020-05-31T00:00:00",
          "2020-06-30T00:00:00",
          "2020-07-31T00:00:00",
          "2020-08-31T00:00:00",
          "2020-09-30T00:00:00",
          "2020-10-31T00:00:00",
          "2020-11-30T00:00:00",
          "2020-12-31T00:00:00",
          "2021-01-31T00:00:00",
          "2021-02-28T00:00:00",
          "2021-03-31T00:00:00",
          "2021-04-30T00:00:00",
          "2021-05-31T00:00:00",
          "2021-06-30T00:00:00",
          "2021-07-31T00:00:00",
          "2021-08-31T00:00:00",
          "2021-09-30T00:00:00",
          "2021-10-31T00:00:00",
          "2021-11-30T00:00:00",
          "2021-12-31T00:00:00",
          "2022-01-31T00:00:00",
          "2022-02-28T00:00:00",
          "2022-03-31T00:00:00",
          "2022-04-30T00:00:00",
          "2022-05-31T00:00:00",
          "2022-06-30T00:00:00",
          "2022-07-31T00:00:00",
          "2022-08-31T00:00:00",
          "2022-09-30T00:00:00",
          "2022-10-31T00:00:00",
          "2022-11-30T00:00:00",
          "2022-12-31T00:00:00",
          "2023-01-31T00:00:00",
          "2023-02-28T00:00:00"
         ],
         "y": [
          104.6,
          105.3,
          105.5,
          106.1,
          106.9,
          109.3,
          111,
          112.4,
          113.7,
          114.8,
          116.3,
          114.5,
          113.6,
          113.6,
          114.2,
          115.1,
          115.8,
          116.7,
          119.2,
          120.3,
          120.1,
          120.1,
          120.1,
          119.4,
          119.5,
          119.7,
          120.2,
          120.7,
          121.6,
          123,
          123.6,
          124.8,
          125.4,
          126.1,
          126.6,
          126.1,
          126.3,
          126,
          126,
          127.3,
          128.6,
          130.1,
          131.1,
          131.1,
          130.9,
          131.4,
          131.2,
          130.4,
          130.3,
          130.6,
          130.9,
          131.1,
          131.4,
          132,
          134.2,
          135.4,
          135.2,
          136.1,
          137.6,
          137.2,
          136.9,
          136.4,
          136.5,
          137.1,
          137.8,
          138.5,
          139.8,
          140.4,
          140.2,
          140.8,
          140.8,
          140.1,
          139.6,
          139.9,
          140.4,
          141.2,
          142,
          142.9,
          144.2,
          145,
          145.8,
          147.2,
          148.6,
          150.4,
          150.2,
          149.1,
          148.6,
          149.66666666666666,
          150.73333333333335,
          151.8,
          151.8,
          153.9,
          154.7,
          156.4,
          158.4,
          158.9,
          157.3,
          156.6,
          156.8,
          157.8,
          160.4,
          161.3,
          162.5,
          163.2,
          163.2,
          165.5,
          166.7,
          166.2,
          165.7,
          166.1,
          167.7,
          170.1,
          171.7,
          172.6,
          173.4,
          174.3,
          175.3,
          176.7,
          176.5,
          175.7,
          176.5,
          177.2
         ]
        },
        {
         "mode": "lines",
         "name": "trend",
         "type": "scatter",
         "x": [
          "2013-01-31T00:00:00",
          "2013-02-28T00:00:00",
          "2013-03-31T00:00:00",
          "2013-04-30T00:00:00",
          "2013-05-31T00:00:00",
          "2013-06-30T00:00:00",
          "2013-07-31T00:00:00",
          "2013-08-31T00:00:00",
          "2013-09-30T00:00:00",
          "2013-10-31T00:00:00",
          "2013-11-30T00:00:00",
          "2013-12-31T00:00:00",
          "2014-01-31T00:00:00",
          "2014-02-28T00:00:00",
          "2014-03-31T00:00:00",
          "2014-04-30T00:00:00",
          "2014-05-31T00:00:00",
          "2014-06-30T00:00:00",
          "2014-07-31T00:00:00",
          "2014-08-31T00:00:00",
          "2014-09-30T00:00:00",
          "2014-10-31T00:00:00",
          "2014-11-30T00:00:00",
          "2014-12-31T00:00:00",
          "2015-01-31T00:00:00",
          "2015-02-28T00:00:00",
          "2015-03-31T00:00:00",
          "2015-04-30T00:00:00",
          "2015-05-31T00:00:00",
          "2015-06-30T00:00:00",
          "2015-07-31T00:00:00",
          "2015-08-31T00:00:00",
          "2015-09-30T00:00:00",
          "2015-10-31T00:00:00",
          "2015-11-30T00:00:00",
          "2015-12-31T00:00:00",
          "2016-01-31T00:00:00",
          "2016-02-29T00:00:00",
          "2016-03-31T00:00:00",
          "2016-04-30T00:00:00",
          "2016-05-31T00:00:00",
          "2016-06-30T00:00:00",
          "2016-07-31T00:00:00",
          "2016-08-31T00:00:00",
          "2016-09-30T00:00:00",
          "2016-10-31T00:00:00",
          "2016-11-30T00:00:00",
          "2016-12-31T00:00:00",
          "2017-01-31T00:00:00",
          "2017-02-28T00:00:00",
          "2017-03-31T00:00:00",
          "2017-04-30T00:00:00",
          "2017-05-31T00:00:00",
          "2017-06-30T00:00:00",
          "2017-07-31T00:00:00",
          "2017-08-31T00:00:00",
          "2017-09-30T00:00:00",
          "2017-10-31T00:00:00",
          "2017-11-30T00:00:00",
          "2017-12-31T00:00:00",
          "2018-01-31T00:00:00",
          "2018-02-28T00:00:00",
          "2018-03-31T00:00:00",
          "2018-04-30T00:00:00",
          "2018-05-31T00:00:00",
          "2018-06-30T00:00:00",
          "2018-07-31T00:00:00",
          "2018-08-31T00:00:00",
          "2018-09-30T00:00:00",
          "2018-10-31T00:00:00",
          "2018-11-30T00:00:00",
          "2018-12-31T00:00:00",
          "2019-01-31T00:00:00",
          "2019-02-28T00:00:00",
          "2019-03-31T00:00:00",
          "2019-04-30T00:00:00",
          "2019-05-31T00:00:00",
          "2019-06-30T00:00:00",
          "2019-07-31T00:00:00",
          "2019-08-31T00:00:00",
          "2019-09-30T00:00:00",
          "2019-10-31T00:00:00",
          "2019-11-30T00:00:00",
          "2019-12-31T00:00:00",
          "2020-01-31T00:00:00",
          "2020-02-29T00:00:00",
          "2020-03-31T00:00:00",
          "2020-04-30T00:00:00",
          "2020-05-31T00:00:00",
          "2020-06-30T00:00:00",
          "2020-07-31T00:00:00",
          "2020-08-31T00:00:00",
          "2020-09-30T00:00:00",
          "2020-10-31T00:00:00",
          "2020-11-30T00:00:00",
          "2020-12-31T00:00:00",
          "2021-01-31T00:00:00",
          "2021-02-28T00:00:00",
          "2021-03-31T00:00:00",
          "2021-04-30T00:00:00",
          "2021-05-31T00:00:00",
          "2021-06-30T00:00:00",
          "2021-07-31T00:00:00",
          "2021-08-31T00:00:00",
          "2021-09-30T00:00:00",
          "2021-10-31T00:00:00",
          "2021-11-30T00:00:00",
          "2021-12-31T00:00:00",
          "2022-01-31T00:00:00",
          "2022-02-28T00:00:00",
          "2022-03-31T00:00:00",
          "2022-04-30T00:00:00",
          "2022-05-31T00:00:00",
          "2022-06-30T00:00:00",
          "2022-07-31T00:00:00",
          "2022-08-31T00:00:00",
          "2022-09-30T00:00:00",
          "2022-10-31T00:00:00",
          "2022-11-30T00:00:00",
          "2022-12-31T00:00:00",
          "2023-01-31T00:00:00",
          "2023-02-28T00:00:00"
         ],
         "y": [
          104.6,
          105.3,
          105.5,
          106.1,
          106.9,
          109.3,
          111,
          112.4,
          113.7,
          114.8,
          116.3,
          114.5,
          113.6,
          113.6,
          114.2,
          115.1,
          115.8,
          116.7,
          119.2,
          120.3,
          120.1,
          120.1,
          120.1,
          119.4,
          119.5,
          119.7,
          120.2,
          120.7,
          121.6,
          123,
          123.6,
          124.8,
          125.4,
          126.1,
          126.6,
          126.1,
          126.3,
          126,
          126,
          127.3,
          128.6,
          130.1,
          131.1,
          131.1,
          130.9,
          131.4,
          131.2,
          130.4,
          130.3,
          130.6,
          130.9,
          131.1,
          131.4,
          132,
          134.2,
          135.4,
          135.2,
          136.1,
          137.6,
          137.2,
          136.9,
          136.4,
          136.5,
          137.1,
          137.8,
          138.5,
          139.8,
          140.4,
          140.2,
          140.8,
          140.8,
          140.1,
          139.6,
          139.9,
          140.4,
          141.2,
          142,
          142.9,
          144.2,
          145,
          145.8,
          147.2,
          148.6,
          150.4,
          150.2,
          149.1,
          148.6,
          149.66666666666666,
          150.73333333333335,
          151.8,
          151.8,
          153.9,
          154.7,
          156.4,
          158.4,
          158.9,
          157.3,
          156.6,
          156.8,
          157.8,
          160.4,
          161.3,
          162.5,
          163.2,
          163.2,
          165.5,
          166.7,
          166.2,
          165.7,
          166.1,
          167.7,
          170.1,
          171.7,
          172.6,
          173.4,
          174.3,
          175.3,
          176.7,
          176.5,
          175.7,
          176.5,
          177.2
         ]
        },
        {
         "mode": "lines",
         "name": "seasonal",
         "type": "scatter",
         "x": [
          "2013-01-31T00:00:00",
          "2013-02-28T00:00:00",
          "2013-03-31T00:00:00",
          "2013-04-30T00:00:00",
          "2013-05-31T00:00:00",
          "2013-06-30T00:00:00",
          "2013-07-31T00:00:00",
          "2013-08-31T00:00:00",
          "2013-09-30T00:00:00",
          "2013-10-31T00:00:00",
          "2013-11-30T00:00:00",
          "2013-12-31T00:00:00",
          "2014-01-31T00:00:00",
          "2014-02-28T00:00:00",
          "2014-03-31T00:00:00",
          "2014-04-30T00:00:00",
          "2014-05-31T00:00:00",
          "2014-06-30T00:00:00",
          "2014-07-31T00:00:00",
          "2014-08-31T00:00:00",
          "2014-09-30T00:00:00",
          "2014-10-31T00:00:00",
          "2014-11-30T00:00:00",
          "2014-12-31T00:00:00",
          "2015-01-31T00:00:00",
          "2015-02-28T00:00:00",
          "2015-03-31T00:00:00",
          "2015-04-30T00:00:00",
          "2015-05-31T00:00:00",
          "2015-06-30T00:00:00",
          "2015-07-31T00:00:00",
          "2015-08-31T00:00:00",
          "2015-09-30T00:00:00",
          "2015-10-31T00:00:00",
          "2015-11-30T00:00:00",
          "2015-12-31T00:00:00",
          "2016-01-31T00:00:00",
          "2016-02-29T00:00:00",
          "2016-03-31T00:00:00",
          "2016-04-30T00:00:00",
          "2016-05-31T00:00:00",
          "2016-06-30T00:00:00",
          "2016-07-31T00:00:00",
          "2016-08-31T00:00:00",
          "2016-09-30T00:00:00",
          "2016-10-31T00:00:00",
          "2016-11-30T00:00:00",
          "2016-12-31T00:00:00",
          "2017-01-31T00:00:00",
          "2017-02-28T00:00:00",
          "2017-03-31T00:00:00",
          "2017-04-30T00:00:00",
          "2017-05-31T00:00:00",
          "2017-06-30T00:00:00",
          "2017-07-31T00:00:00",
          "2017-08-31T00:00:00",
          "2017-09-30T00:00:00",
          "2017-10-31T00:00:00",
          "2017-11-30T00:00:00",
          "2017-12-31T00:00:00",
          "2018-01-31T00:00:00",
          "2018-02-28T00:00:00",
          "2018-03-31T00:00:00",
          "2018-04-30T00:00:00",
          "2018-05-31T00:00:00",
          "2018-06-30T00:00:00",
          "2018-07-31T00:00:00",
          "2018-08-31T00:00:00",
          "2018-09-30T00:00:00",
          "2018-10-31T00:00:00",
          "2018-11-30T00:00:00",
          "2018-12-31T00:00:00",
          "2019-01-31T00:00:00",
          "2019-02-28T00:00:00",
          "2019-03-31T00:00:00",
          "2019-04-30T00:00:00",
          "2019-05-31T00:00:00",
          "2019-06-30T00:00:00",
          "2019-07-31T00:00:00",
          "2019-08-31T00:00:00",
          "2019-09-30T00:00:00",
          "2019-10-31T00:00:00",
          "2019-11-30T00:00:00",
          "2019-12-31T00:00:00",
          "2020-01-31T00:00:00",
          "2020-02-29T00:00:00",
          "2020-03-31T00:00:00",
          "2020-04-30T00:00:00",
          "2020-05-31T00:00:00",
          "2020-06-30T00:00:00",
          "2020-07-31T00:00:00",
          "2020-08-31T00:00:00",
          "2020-09-30T00:00:00",
          "2020-10-31T00:00:00",
          "2020-11-30T00:00:00",
          "2020-12-31T00:00:00",
          "2021-01-31T00:00:00",
          "2021-02-28T00:00:00",
          "2021-03-31T00:00:00",
          "2021-04-30T00:00:00",
          "2021-05-31T00:00:00",
          "2021-06-30T00:00:00",
          "2021-07-31T00:00:00",
          "2021-08-31T00:00:00",
          "2021-09-30T00:00:00",
          "2021-10-31T00:00:00",
          "2021-11-30T00:00:00",
          "2021-12-31T00:00:00",
          "2022-01-31T00:00:00",
          "2022-02-28T00:00:00",
          "2022-03-31T00:00:00",
          "2022-04-30T00:00:00",
          "2022-05-31T00:00:00",
          "2022-06-30T00:00:00",
          "2022-07-31T00:00:00",
          "2022-08-31T00:00:00",
          "2022-09-30T00:00:00",
          "2022-10-31T00:00:00",
          "2022-11-30T00:00:00",
          "2022-12-31T00:00:00",
          "2023-01-31T00:00:00",
          "2023-02-28T00:00:00"
         ],
         "y": [
          1,
          1,
          1,
          1,
          1,
          1,
          1,
          1,
          1,
          1,
          1,
          1,
          1,
          1,
          1,
          1,
          1,
          1,
          1,
          1,
          1,
          1,
          1,
          1,
          1,
          1,
          1,
          1,
          1,
          1,
          1,
          1,
          1,
          1,
          1,
          1,
          1,
          1,
          1,
          1,
          1,
          1,
          1,
          1,
          1,
          1,
          1,
          1,
          1,
          1,
          1,
          1,
          1,
          1,
          1,
          1,
          1,
          1,
          1,
          1,
          1,
          1,
          1,
          1,
          1,
          1,
          1,
          1,
          1,
          1,
          1,
          1,
          1,
          1,
          1,
          1,
          1,
          1,
          1,
          1,
          1,
          1,
          1,
          1,
          1,
          1,
          1,
          1,
          1,
          1,
          1,
          1,
          1,
          1,
          1,
          1,
          1,
          1,
          1,
          1,
          1,
          1,
          1,
          1,
          1,
          1,
          1,
          1,
          1,
          1,
          1,
          1,
          1,
          1,
          1,
          1,
          1,
          1,
          1,
          1,
          1,
          1
         ]
        },
        {
         "name": "Observed",
         "type": "bar",
         "x": [
          "2013-01-31T00:00:00",
          "2013-02-28T00:00:00",
          "2013-03-31T00:00:00",
          "2013-04-30T00:00:00",
          "2013-05-31T00:00:00",
          "2013-06-30T00:00:00",
          "2013-07-31T00:00:00",
          "2013-08-31T00:00:00",
          "2013-09-30T00:00:00",
          "2013-10-31T00:00:00",
          "2013-11-30T00:00:00",
          "2013-12-31T00:00:00",
          "2014-01-31T00:00:00",
          "2014-02-28T00:00:00",
          "2014-03-31T00:00:00",
          "2014-04-30T00:00:00",
          "2014-05-31T00:00:00",
          "2014-06-30T00:00:00",
          "2014-07-31T00:00:00",
          "2014-08-31T00:00:00",
          "2014-09-30T00:00:00",
          "2014-10-31T00:00:00",
          "2014-11-30T00:00:00",
          "2014-12-31T00:00:00",
          "2015-01-31T00:00:00",
          "2015-02-28T00:00:00",
          "2015-03-31T00:00:00",
          "2015-04-30T00:00:00",
          "2015-05-31T00:00:00",
          "2015-06-30T00:00:00",
          "2015-07-31T00:00:00",
          "2015-08-31T00:00:00",
          "2015-09-30T00:00:00",
          "2015-10-31T00:00:00",
          "2015-11-30T00:00:00",
          "2015-12-31T00:00:00",
          "2016-01-31T00:00:00",
          "2016-02-29T00:00:00",
          "2016-03-31T00:00:00",
          "2016-04-30T00:00:00",
          "2016-05-31T00:00:00",
          "2016-06-30T00:00:00",
          "2016-07-31T00:00:00",
          "2016-08-31T00:00:00",
          "2016-09-30T00:00:00",
          "2016-10-31T00:00:00",
          "2016-11-30T00:00:00",
          "2016-12-31T00:00:00",
          "2017-01-31T00:00:00",
          "2017-02-28T00:00:00",
          "2017-03-31T00:00:00",
          "2017-04-30T00:00:00",
          "2017-05-31T00:00:00",
          "2017-06-30T00:00:00",
          "2017-07-31T00:00:00",
          "2017-08-31T00:00:00",
          "2017-09-30T00:00:00",
          "2017-10-31T00:00:00",
          "2017-11-30T00:00:00",
          "2017-12-31T00:00:00",
          "2018-01-31T00:00:00",
          "2018-02-28T00:00:00",
          "2018-03-31T00:00:00",
          "2018-04-30T00:00:00",
          "2018-05-31T00:00:00",
          "2018-06-30T00:00:00",
          "2018-07-31T00:00:00",
          "2018-08-31T00:00:00",
          "2018-09-30T00:00:00",
          "2018-10-31T00:00:00",
          "2018-11-30T00:00:00",
          "2018-12-31T00:00:00",
          "2019-01-31T00:00:00",
          "2019-02-28T00:00:00",
          "2019-03-31T00:00:00",
          "2019-04-30T00:00:00",
          "2019-05-31T00:00:00",
          "2019-06-30T00:00:00",
          "2019-07-31T00:00:00",
          "2019-08-31T00:00:00",
          "2019-09-30T00:00:00",
          "2019-10-31T00:00:00",
          "2019-11-30T00:00:00",
          "2019-12-31T00:00:00",
          "2020-01-31T00:00:00",
          "2020-02-29T00:00:00",
          "2020-03-31T00:00:00",
          "2020-04-30T00:00:00",
          "2020-05-31T00:00:00",
          "2020-06-30T00:00:00",
          "2020-07-31T00:00:00",
          "2020-08-31T00:00:00",
          "2020-09-30T00:00:00",
          "2020-10-31T00:00:00",
          "2020-11-30T00:00:00",
          "2020-12-31T00:00:00",
          "2021-01-31T00:00:00",
          "2021-02-28T00:00:00",
          "2021-03-31T00:00:00",
          "2021-04-30T00:00:00",
          "2021-05-31T00:00:00",
          "2021-06-30T00:00:00",
          "2021-07-31T00:00:00",
          "2021-08-31T00:00:00",
          "2021-09-30T00:00:00",
          "2021-10-31T00:00:00",
          "2021-11-30T00:00:00",
          "2021-12-31T00:00:00",
          "2022-01-31T00:00:00",
          "2022-02-28T00:00:00",
          "2022-03-31T00:00:00",
          "2022-04-30T00:00:00",
          "2022-05-31T00:00:00",
          "2022-06-30T00:00:00",
          "2022-07-31T00:00:00",
          "2022-08-31T00:00:00",
          "2022-09-30T00:00:00",
          "2022-10-31T00:00:00",
          "2022-11-30T00:00:00",
          "2022-12-31T00:00:00",
          "2023-01-31T00:00:00",
          "2023-02-28T00:00:00"
         ],
         "y": [
          104.6,
          105.3,
          105.5,
          106.1,
          106.9,
          109.3,
          111,
          112.4,
          113.7,
          114.8,
          116.3,
          114.5,
          113.6,
          113.6,
          114.2,
          115.1,
          115.8,
          116.7,
          119.2,
          120.3,
          120.1,
          120.1,
          120.1,
          119.4,
          119.5,
          119.7,
          120.2,
          120.7,
          121.6,
          123,
          123.6,
          124.8,
          125.4,
          126.1,
          126.6,
          126.1,
          126.3,
          126,
          126,
          127.3,
          128.6,
          130.1,
          131.1,
          131.1,
          130.9,
          131.4,
          131.2,
          130.4,
          130.3,
          130.6,
          130.9,
          131.1,
          131.4,
          132,
          134.2,
          135.4,
          135.2,
          136.1,
          137.6,
          137.2,
          136.9,
          136.4,
          136.5,
          137.1,
          137.8,
          138.5,
          139.8,
          140.4,
          140.2,
          140.8,
          140.8,
          140.1,
          139.6,
          139.9,
          140.4,
          141.2,
          142,
          142.9,
          144.2,
          145,
          145.8,
          147.2,
          148.6,
          150.4,
          150.2,
          149.1,
          148.6,
          149.66666666666666,
          150.73333333333335,
          151.8,
          151.8,
          153.9,
          154.7,
          156.4,
          158.4,
          158.9,
          157.3,
          156.6,
          156.8,
          157.8,
          160.4,
          161.3,
          162.5,
          163.2,
          163.2,
          165.5,
          166.7,
          166.2,
          165.7,
          166.1,
          167.7,
          170.1,
          171.7,
          172.6,
          173.4,
          174.3,
          175.3,
          176.7,
          176.5,
          175.7,
          176.5,
          177.2
         ]
        },
        {
         "type": "bar",
         "x": [
          "2013-01-31T00:00:00",
          "2013-02-28T00:00:00",
          "2013-03-31T00:00:00",
          "2013-04-30T00:00:00",
          "2013-05-31T00:00:00",
          "2013-06-30T00:00:00",
          "2013-07-31T00:00:00",
          "2013-08-31T00:00:00",
          "2013-09-30T00:00:00",
          "2013-10-31T00:00:00",
          "2013-11-30T00:00:00",
          "2013-12-31T00:00:00",
          "2014-01-31T00:00:00",
          "2014-02-28T00:00:00",
          "2014-03-31T00:00:00",
          "2014-04-30T00:00:00",
          "2014-05-31T00:00:00",
          "2014-06-30T00:00:00",
          "2014-07-31T00:00:00",
          "2014-08-31T00:00:00",
          "2014-09-30T00:00:00",
          "2014-10-31T00:00:00",
          "2014-11-30T00:00:00",
          "2014-12-31T00:00:00",
          "2015-01-31T00:00:00",
          "2015-02-28T00:00:00",
          "2015-03-31T00:00:00",
          "2015-04-30T00:00:00",
          "2015-05-31T00:00:00",
          "2015-06-30T00:00:00",
          "2015-07-31T00:00:00",
          "2015-08-31T00:00:00",
          "2015-09-30T00:00:00",
          "2015-10-31T00:00:00",
          "2015-11-30T00:00:00",
          "2015-12-31T00:00:00",
          "2016-01-31T00:00:00",
          "2016-02-29T00:00:00",
          "2016-03-31T00:00:00",
          "2016-04-30T00:00:00",
          "2016-05-31T00:00:00",
          "2016-06-30T00:00:00",
          "2016-07-31T00:00:00",
          "2016-08-31T00:00:00",
          "2016-09-30T00:00:00",
          "2016-10-31T00:00:00",
          "2016-11-30T00:00:00",
          "2016-12-31T00:00:00",
          "2017-01-31T00:00:00",
          "2017-02-28T00:00:00",
          "2017-03-31T00:00:00",
          "2017-04-30T00:00:00",
          "2017-05-31T00:00:00",
          "2017-06-30T00:00:00",
          "2017-07-31T00:00:00",
          "2017-08-31T00:00:00",
          "2017-09-30T00:00:00",
          "2017-10-31T00:00:00",
          "2017-11-30T00:00:00",
          "2017-12-31T00:00:00",
          "2018-01-31T00:00:00",
          "2018-02-28T00:00:00",
          "2018-03-31T00:00:00",
          "2018-04-30T00:00:00",
          "2018-05-31T00:00:00",
          "2018-06-30T00:00:00",
          "2018-07-31T00:00:00",
          "2018-08-31T00:00:00",
          "2018-09-30T00:00:00",
          "2018-10-31T00:00:00",
          "2018-11-30T00:00:00",
          "2018-12-31T00:00:00",
          "2019-01-31T00:00:00",
          "2019-02-28T00:00:00",
          "2019-03-31T00:00:00",
          "2019-04-30T00:00:00",
          "2019-05-31T00:00:00",
          "2019-06-30T00:00:00",
          "2019-07-31T00:00:00",
          "2019-08-31T00:00:00",
          "2019-09-30T00:00:00",
          "2019-10-31T00:00:00",
          "2019-11-30T00:00:00",
          "2019-12-31T00:00:00",
          "2020-01-31T00:00:00",
          "2020-02-29T00:00:00",
          "2020-03-31T00:00:00",
          "2020-04-30T00:00:00",
          "2020-05-31T00:00:00",
          "2020-06-30T00:00:00",
          "2020-07-31T00:00:00",
          "2020-08-31T00:00:00",
          "2020-09-30T00:00:00",
          "2020-10-31T00:00:00",
          "2020-11-30T00:00:00",
          "2020-12-31T00:00:00",
          "2021-01-31T00:00:00",
          "2021-02-28T00:00:00",
          "2021-03-31T00:00:00",
          "2021-04-30T00:00:00",
          "2021-05-31T00:00:00",
          "2021-06-30T00:00:00",
          "2021-07-31T00:00:00",
          "2021-08-31T00:00:00",
          "2021-09-30T00:00:00",
          "2021-10-31T00:00:00",
          "2021-11-30T00:00:00",
          "2021-12-31T00:00:00",
          "2022-01-31T00:00:00",
          "2022-02-28T00:00:00",
          "2022-03-31T00:00:00",
          "2022-04-30T00:00:00",
          "2022-05-31T00:00:00",
          "2022-06-30T00:00:00",
          "2022-07-31T00:00:00",
          "2022-08-31T00:00:00",
          "2022-09-30T00:00:00",
          "2022-10-31T00:00:00",
          "2022-11-30T00:00:00",
          "2022-12-31T00:00:00",
          "2023-01-31T00:00:00",
          "2023-02-28T00:00:00"
         ],
         "y": [
          104.6,
          105.3,
          105.5,
          106.1,
          106.9,
          109.3,
          111,
          112.4,
          113.7,
          114.8,
          116.3,
          114.5,
          113.6,
          113.6,
          114.2,
          115.1,
          115.8,
          116.7,
          119.2,
          120.3,
          120.1,
          120.1,
          120.1,
          119.4,
          119.5,
          119.7,
          120.2,
          120.7,
          121.6,
          123,
          123.6,
          124.8,
          125.4,
          126.1,
          126.6,
          126.1,
          126.3,
          126,
          126,
          127.3,
          128.6,
          130.1,
          131.1,
          131.1,
          130.9,
          131.4,
          131.2,
          130.4,
          130.3,
          130.6,
          130.9,
          131.1,
          131.4,
          132,
          134.2,
          135.4,
          135.2,
          136.1,
          137.6,
          137.2,
          136.9,
          136.4,
          136.5,
          137.1,
          137.8,
          138.5,
          139.8,
          140.4,
          140.2,
          140.8,
          140.8,
          140.1,
          139.6,
          139.9,
          140.4,
          141.2,
          142,
          142.9,
          144.2,
          145,
          145.8,
          147.2,
          148.6,
          150.4,
          150.2,
          149.1,
          148.6,
          149.66666666666666,
          150.73333333333335,
          151.8,
          151.8,
          153.9,
          154.7,
          156.4,
          158.4,
          158.9,
          157.3,
          156.6,
          156.8,
          157.8,
          160.4,
          161.3,
          162.5,
          163.2,
          163.2,
          165.5,
          166.7,
          166.2,
          165.7,
          166.1,
          167.7,
          170.1,
          171.7,
          172.6,
          173.4,
          174.3,
          175.3,
          176.7,
          176.5,
          175.7,
          176.5,
          177.2
         ]
        },
        {
         "name": "seasonal_decompose",
         "type": "bar",
         "x": [
          "2013-01-31T00:00:00",
          "2013-02-28T00:00:00",
          "2013-03-31T00:00:00",
          "2013-04-30T00:00:00",
          "2013-05-31T00:00:00",
          "2013-06-30T00:00:00",
          "2013-07-31T00:00:00",
          "2013-08-31T00:00:00",
          "2013-09-30T00:00:00",
          "2013-10-31T00:00:00",
          "2013-11-30T00:00:00",
          "2013-12-31T00:00:00",
          "2014-01-31T00:00:00",
          "2014-02-28T00:00:00",
          "2014-03-31T00:00:00",
          "2014-04-30T00:00:00",
          "2014-05-31T00:00:00",
          "2014-06-30T00:00:00",
          "2014-07-31T00:00:00",
          "2014-08-31T00:00:00",
          "2014-09-30T00:00:00",
          "2014-10-31T00:00:00",
          "2014-11-30T00:00:00",
          "2014-12-31T00:00:00",
          "2015-01-31T00:00:00",
          "2015-02-28T00:00:00",
          "2015-03-31T00:00:00",
          "2015-04-30T00:00:00",
          "2015-05-31T00:00:00",
          "2015-06-30T00:00:00",
          "2015-07-31T00:00:00",
          "2015-08-31T00:00:00",
          "2015-09-30T00:00:00",
          "2015-10-31T00:00:00",
          "2015-11-30T00:00:00",
          "2015-12-31T00:00:00",
          "2016-01-31T00:00:00",
          "2016-02-29T00:00:00",
          "2016-03-31T00:00:00",
          "2016-04-30T00:00:00",
          "2016-05-31T00:00:00",
          "2016-06-30T00:00:00",
          "2016-07-31T00:00:00",
          "2016-08-31T00:00:00",
          "2016-09-30T00:00:00",
          "2016-10-31T00:00:00",
          "2016-11-30T00:00:00",
          "2016-12-31T00:00:00",
          "2017-01-31T00:00:00",
          "2017-02-28T00:00:00",
          "2017-03-31T00:00:00",
          "2017-04-30T00:00:00",
          "2017-05-31T00:00:00",
          "2017-06-30T00:00:00",
          "2017-07-31T00:00:00",
          "2017-08-31T00:00:00",
          "2017-09-30T00:00:00",
          "2017-10-31T00:00:00",
          "2017-11-30T00:00:00",
          "2017-12-31T00:00:00",
          "2018-01-31T00:00:00",
          "2018-02-28T00:00:00",
          "2018-03-31T00:00:00",
          "2018-04-30T00:00:00",
          "2018-05-31T00:00:00",
          "2018-06-30T00:00:00",
          "2018-07-31T00:00:00",
          "2018-08-31T00:00:00",
          "2018-09-30T00:00:00",
          "2018-10-31T00:00:00",
          "2018-11-30T00:00:00",
          "2018-12-31T00:00:00",
          "2019-01-31T00:00:00",
          "2019-02-28T00:00:00",
          "2019-03-31T00:00:00",
          "2019-04-30T00:00:00",
          "2019-05-31T00:00:00",
          "2019-06-30T00:00:00",
          "2019-07-31T00:00:00",
          "2019-08-31T00:00:00",
          "2019-09-30T00:00:00",
          "2019-10-31T00:00:00",
          "2019-11-30T00:00:00",
          "2019-12-31T00:00:00",
          "2020-01-31T00:00:00",
          "2020-02-29T00:00:00",
          "2020-03-31T00:00:00",
          "2020-04-30T00:00:00",
          "2020-05-31T00:00:00",
          "2020-06-30T00:00:00",
          "2020-07-31T00:00:00",
          "2020-08-31T00:00:00",
          "2020-09-30T00:00:00",
          "2020-10-31T00:00:00",
          "2020-11-30T00:00:00",
          "2020-12-31T00:00:00",
          "2021-01-31T00:00:00",
          "2021-02-28T00:00:00",
          "2021-03-31T00:00:00",
          "2021-04-30T00:00:00",
          "2021-05-31T00:00:00",
          "2021-06-30T00:00:00",
          "2021-07-31T00:00:00",
          "2021-08-31T00:00:00",
          "2021-09-30T00:00:00",
          "2021-10-31T00:00:00",
          "2021-11-30T00:00:00",
          "2021-12-31T00:00:00",
          "2022-01-31T00:00:00",
          "2022-02-28T00:00:00",
          "2022-03-31T00:00:00",
          "2022-04-30T00:00:00",
          "2022-05-31T00:00:00",
          "2022-06-30T00:00:00",
          "2022-07-31T00:00:00",
          "2022-08-31T00:00:00",
          "2022-09-30T00:00:00",
          "2022-10-31T00:00:00",
          "2022-11-30T00:00:00",
          "2022-12-31T00:00:00",
          "2023-01-31T00:00:00",
          "2023-02-28T00:00:00"
         ],
         "y": [
          1,
          1,
          1,
          1,
          1,
          1,
          1,
          1,
          1,
          1,
          1,
          1,
          1,
          1,
          1,
          1,
          1,
          1,
          1,
          1,
          1,
          1,
          1,
          1,
          1,
          1,
          1,
          1,
          1,
          1,
          1,
          1,
          1,
          1,
          1,
          1,
          1,
          1,
          1,
          1,
          1,
          1,
          1,
          1,
          1,
          1,
          1,
          1,
          1,
          1,
          1,
          1,
          1,
          1,
          1,
          1,
          1,
          1,
          1,
          1,
          1,
          1,
          1,
          1,
          1,
          1,
          1,
          1,
          1,
          1,
          1,
          1,
          1,
          1,
          1,
          1,
          1,
          1,
          1,
          1,
          1,
          1,
          1,
          1,
          1,
          1,
          1,
          1,
          1,
          1,
          1,
          1,
          1,
          1,
          1,
          1,
          1,
          1,
          1,
          1,
          1,
          1,
          1,
          1,
          1,
          1,
          1,
          1,
          1,
          1,
          1,
          1,
          1,
          1,
          1,
          1,
          1,
          1,
          1,
          1,
          1,
          1
         ]
        }
       ],
       "layout": {
        "template": {
         "data": {
          "bar": [
           {
            "error_x": {
             "color": "#2a3f5f"
            },
            "error_y": {
             "color": "#2a3f5f"
            },
            "marker": {
             "line": {
              "color": "#E5ECF6",
              "width": 0.5
             },
             "pattern": {
              "fillmode": "overlay",
              "size": 10,
              "solidity": 0.2
             }
            },
            "type": "bar"
           }
          ],
          "barpolar": [
           {
            "marker": {
             "line": {
              "color": "#E5ECF6",
              "width": 0.5
             },
             "pattern": {
              "fillmode": "overlay",
              "size": 10,
              "solidity": 0.2
             }
            },
            "type": "barpolar"
           }
          ],
          "carpet": [
           {
            "aaxis": {
             "endlinecolor": "#2a3f5f",
             "gridcolor": "white",
             "linecolor": "white",
             "minorgridcolor": "white",
             "startlinecolor": "#2a3f5f"
            },
            "baxis": {
             "endlinecolor": "#2a3f5f",
             "gridcolor": "white",
             "linecolor": "white",
             "minorgridcolor": "white",
             "startlinecolor": "#2a3f5f"
            },
            "type": "carpet"
           }
          ],
          "choropleth": [
           {
            "colorbar": {
             "outlinewidth": 0,
             "ticks": ""
            },
            "type": "choropleth"
           }
          ],
          "contour": [
           {
            "colorbar": {
             "outlinewidth": 0,
             "ticks": ""
            },
            "colorscale": [
             [
              0,
              "#0d0887"
             ],
             [
              0.1111111111111111,
              "#46039f"
             ],
             [
              0.2222222222222222,
              "#7201a8"
             ],
             [
              0.3333333333333333,
              "#9c179e"
             ],
             [
              0.4444444444444444,
              "#bd3786"
             ],
             [
              0.5555555555555556,
              "#d8576b"
             ],
             [
              0.6666666666666666,
              "#ed7953"
             ],
             [
              0.7777777777777778,
              "#fb9f3a"
             ],
             [
              0.8888888888888888,
              "#fdca26"
             ],
             [
              1,
              "#f0f921"
             ]
            ],
            "type": "contour"
           }
          ],
          "contourcarpet": [
           {
            "colorbar": {
             "outlinewidth": 0,
             "ticks": ""
            },
            "type": "contourcarpet"
           }
          ],
          "heatmap": [
           {
            "colorbar": {
             "outlinewidth": 0,
             "ticks": ""
            },
            "colorscale": [
             [
              0,
              "#0d0887"
             ],
             [
              0.1111111111111111,
              "#46039f"
             ],
             [
              0.2222222222222222,
              "#7201a8"
             ],
             [
              0.3333333333333333,
              "#9c179e"
             ],
             [
              0.4444444444444444,
              "#bd3786"
             ],
             [
              0.5555555555555556,
              "#d8576b"
             ],
             [
              0.6666666666666666,
              "#ed7953"
             ],
             [
              0.7777777777777778,
              "#fb9f3a"
             ],
             [
              0.8888888888888888,
              "#fdca26"
             ],
             [
              1,
              "#f0f921"
             ]
            ],
            "type": "heatmap"
           }
          ],
          "heatmapgl": [
           {
            "colorbar": {
             "outlinewidth": 0,
             "ticks": ""
            },
            "colorscale": [
             [
              0,
              "#0d0887"
             ],
             [
              0.1111111111111111,
              "#46039f"
             ],
             [
              0.2222222222222222,
              "#7201a8"
             ],
             [
              0.3333333333333333,
              "#9c179e"
             ],
             [
              0.4444444444444444,
              "#bd3786"
             ],
             [
              0.5555555555555556,
              "#d8576b"
             ],
             [
              0.6666666666666666,
              "#ed7953"
             ],
             [
              0.7777777777777778,
              "#fb9f3a"
             ],
             [
              0.8888888888888888,
              "#fdca26"
             ],
             [
              1,
              "#f0f921"
             ]
            ],
            "type": "heatmapgl"
           }
          ],
          "histogram": [
           {
            "marker": {
             "pattern": {
              "fillmode": "overlay",
              "size": 10,
              "solidity": 0.2
             }
            },
            "type": "histogram"
           }
          ],
          "histogram2d": [
           {
            "colorbar": {
             "outlinewidth": 0,
             "ticks": ""
            },
            "colorscale": [
             [
              0,
              "#0d0887"
             ],
             [
              0.1111111111111111,
              "#46039f"
             ],
             [
              0.2222222222222222,
              "#7201a8"
             ],
             [
              0.3333333333333333,
              "#9c179e"
             ],
             [
              0.4444444444444444,
              "#bd3786"
             ],
             [
              0.5555555555555556,
              "#d8576b"
             ],
             [
              0.6666666666666666,
              "#ed7953"
             ],
             [
              0.7777777777777778,
              "#fb9f3a"
             ],
             [
              0.8888888888888888,
              "#fdca26"
             ],
             [
              1,
              "#f0f921"
             ]
            ],
            "type": "histogram2d"
           }
          ],
          "histogram2dcontour": [
           {
            "colorbar": {
             "outlinewidth": 0,
             "ticks": ""
            },
            "colorscale": [
             [
              0,
              "#0d0887"
             ],
             [
              0.1111111111111111,
              "#46039f"
             ],
             [
              0.2222222222222222,
              "#7201a8"
             ],
             [
              0.3333333333333333,
              "#9c179e"
             ],
             [
              0.4444444444444444,
              "#bd3786"
             ],
             [
              0.5555555555555556,
              "#d8576b"
             ],
             [
              0.6666666666666666,
              "#ed7953"
             ],
             [
              0.7777777777777778,
              "#fb9f3a"
             ],
             [
              0.8888888888888888,
              "#fdca26"
             ],
             [
              1,
              "#f0f921"
             ]
            ],
            "type": "histogram2dcontour"
           }
          ],
          "mesh3d": [
           {
            "colorbar": {
             "outlinewidth": 0,
             "ticks": ""
            },
            "type": "mesh3d"
           }
          ],
          "parcoords": [
           {
            "line": {
             "colorbar": {
              "outlinewidth": 0,
              "ticks": ""
             }
            },
            "type": "parcoords"
           }
          ],
          "pie": [
           {
            "automargin": true,
            "type": "pie"
           }
          ],
          "scatter": [
           {
            "fillpattern": {
             "fillmode": "overlay",
             "size": 10,
             "solidity": 0.2
            },
            "type": "scatter"
           }
          ],
          "scatter3d": [
           {
            "line": {
             "colorbar": {
              "outlinewidth": 0,
              "ticks": ""
             }
            },
            "marker": {
             "colorbar": {
              "outlinewidth": 0,
              "ticks": ""
             }
            },
            "type": "scatter3d"
           }
          ],
          "scattercarpet": [
           {
            "marker": {
             "colorbar": {
              "outlinewidth": 0,
              "ticks": ""
             }
            },
            "type": "scattercarpet"
           }
          ],
          "scattergeo": [
           {
            "marker": {
             "colorbar": {
              "outlinewidth": 0,
              "ticks": ""
             }
            },
            "type": "scattergeo"
           }
          ],
          "scattergl": [
           {
            "marker": {
             "colorbar": {
              "outlinewidth": 0,
              "ticks": ""
             }
            },
            "type": "scattergl"
           }
          ],
          "scattermapbox": [
           {
            "marker": {
             "colorbar": {
              "outlinewidth": 0,
              "ticks": ""
             }
            },
            "type": "scattermapbox"
           }
          ],
          "scatterpolar": [
           {
            "marker": {
             "colorbar": {
              "outlinewidth": 0,
              "ticks": ""
             }
            },
            "type": "scatterpolar"
           }
          ],
          "scatterpolargl": [
           {
            "marker": {
             "colorbar": {
              "outlinewidth": 0,
              "ticks": ""
             }
            },
            "type": "scatterpolargl"
           }
          ],
          "scatterternary": [
           {
            "marker": {
             "colorbar": {
              "outlinewidth": 0,
              "ticks": ""
             }
            },
            "type": "scatterternary"
           }
          ],
          "surface": [
           {
            "colorbar": {
             "outlinewidth": 0,
             "ticks": ""
            },
            "colorscale": [
             [
              0,
              "#0d0887"
             ],
             [
              0.1111111111111111,
              "#46039f"
             ],
             [
              0.2222222222222222,
              "#7201a8"
             ],
             [
              0.3333333333333333,
              "#9c179e"
             ],
             [
              0.4444444444444444,
              "#bd3786"
             ],
             [
              0.5555555555555556,
              "#d8576b"
             ],
             [
              0.6666666666666666,
              "#ed7953"
             ],
             [
              0.7777777777777778,
              "#fb9f3a"
             ],
             [
              0.8888888888888888,
              "#fdca26"
             ],
             [
              1,
              "#f0f921"
             ]
            ],
            "type": "surface"
           }
          ],
          "table": [
           {
            "cells": {
             "fill": {
              "color": "#EBF0F8"
             },
             "line": {
              "color": "white"
             }
            },
            "header": {
             "fill": {
              "color": "#C8D4E3"
             },
             "line": {
              "color": "white"
             }
            },
            "type": "table"
           }
          ]
         },
         "layout": {
          "annotationdefaults": {
           "arrowcolor": "#2a3f5f",
           "arrowhead": 0,
           "arrowwidth": 1
          },
          "autotypenumbers": "strict",
          "coloraxis": {
           "colorbar": {
            "outlinewidth": 0,
            "ticks": ""
           }
          },
          "colorscale": {
           "diverging": [
            [
             0,
             "#8e0152"
            ],
            [
             0.1,
             "#c51b7d"
            ],
            [
             0.2,
             "#de77ae"
            ],
            [
             0.3,
             "#f1b6da"
            ],
            [
             0.4,
             "#fde0ef"
            ],
            [
             0.5,
             "#f7f7f7"
            ],
            [
             0.6,
             "#e6f5d0"
            ],
            [
             0.7,
             "#b8e186"
            ],
            [
             0.8,
             "#7fbc41"
            ],
            [
             0.9,
             "#4d9221"
            ],
            [
             1,
             "#276419"
            ]
           ],
           "sequential": [
            [
             0,
             "#0d0887"
            ],
            [
             0.1111111111111111,
             "#46039f"
            ],
            [
             0.2222222222222222,
             "#7201a8"
            ],
            [
             0.3333333333333333,
             "#9c179e"
            ],
            [
             0.4444444444444444,
             "#bd3786"
            ],
            [
             0.5555555555555556,
             "#d8576b"
            ],
            [
             0.6666666666666666,
             "#ed7953"
            ],
            [
             0.7777777777777778,
             "#fb9f3a"
            ],
            [
             0.8888888888888888,
             "#fdca26"
            ],
            [
             1,
             "#f0f921"
            ]
           ],
           "sequentialminus": [
            [
             0,
             "#0d0887"
            ],
            [
             0.1111111111111111,
             "#46039f"
            ],
            [
             0.2222222222222222,
             "#7201a8"
            ],
            [
             0.3333333333333333,
             "#9c179e"
            ],
            [
             0.4444444444444444,
             "#bd3786"
            ],
            [
             0.5555555555555556,
             "#d8576b"
            ],
            [
             0.6666666666666666,
             "#ed7953"
            ],
            [
             0.7777777777777778,
             "#fb9f3a"
            ],
            [
             0.8888888888888888,
             "#fdca26"
            ],
            [
             1,
             "#f0f921"
            ]
           ]
          },
          "colorway": [
           "#636efa",
           "#EF553B",
           "#00cc96",
           "#ab63fa",
           "#FFA15A",
           "#19d3f3",
           "#FF6692",
           "#B6E880",
           "#FF97FF",
           "#FECB52"
          ],
          "font": {
           "color": "#2a3f5f"
          },
          "geo": {
           "bgcolor": "white",
           "lakecolor": "white",
           "landcolor": "#E5ECF6",
           "showlakes": true,
           "showland": true,
           "subunitcolor": "white"
          },
          "hoverlabel": {
           "align": "left"
          },
          "hovermode": "closest",
          "mapbox": {
           "style": "light"
          },
          "paper_bgcolor": "white",
          "plot_bgcolor": "#E5ECF6",
          "polar": {
           "angularaxis": {
            "gridcolor": "white",
            "linecolor": "white",
            "ticks": ""
           },
           "bgcolor": "#E5ECF6",
           "radialaxis": {
            "gridcolor": "white",
            "linecolor": "white",
            "ticks": ""
           }
          },
          "scene": {
           "xaxis": {
            "backgroundcolor": "#E5ECF6",
            "gridcolor": "white",
            "gridwidth": 2,
            "linecolor": "white",
            "showbackground": true,
            "ticks": "",
            "zerolinecolor": "white"
           },
           "yaxis": {
            "backgroundcolor": "#E5ECF6",
            "gridcolor": "white",
            "gridwidth": 2,
            "linecolor": "white",
            "showbackground": true,
            "ticks": "",
            "zerolinecolor": "white"
           },
           "zaxis": {
            "backgroundcolor": "#E5ECF6",
            "gridcolor": "white",
            "gridwidth": 2,
            "linecolor": "white",
            "showbackground": true,
            "ticks": "",
            "zerolinecolor": "white"
           }
          },
          "shapedefaults": {
           "line": {
            "color": "#2a3f5f"
           }
          },
          "ternary": {
           "aaxis": {
            "gridcolor": "white",
            "linecolor": "white",
            "ticks": ""
           },
           "baxis": {
            "gridcolor": "white",
            "linecolor": "white",
            "ticks": ""
           },
           "bgcolor": "#E5ECF6",
           "caxis": {
            "gridcolor": "white",
            "linecolor": "white",
            "ticks": ""
           }
          },
          "title": {
           "x": 0.05
          },
          "xaxis": {
           "automargin": true,
           "gridcolor": "white",
           "linecolor": "white",
           "ticks": "",
           "title": {
            "standoff": 15
           },
           "zerolinecolor": "white",
           "zerolinewidth": 2
          },
          "yaxis": {
           "automargin": true,
           "gridcolor": "white",
           "linecolor": "white",
           "ticks": "",
           "title": {
            "standoff": 15
           },
           "zerolinecolor": "white",
           "zerolinewidth": 2
          }
         }
        },
        "title": {
         "text": "Seasonal Decomposition of CPI (Observed, Trend, Seasonal)"
        },
        "xaxis": {
         "title": {
          "text": "Date"
         }
        }
       }
      }
     },
     "metadata": {},
     "output_type": "display_data"
    }
   ],
   "source": [
    "fig.add_traces(go.Bar(x=decompose.observed.index, y=decompose.observed, name='Observed'))\n",
    "fig.add_trace(go.Bar(x=decompose.trend.index, y=decompose.trend))\n",
    "fig.add_traces(go.Bar(x=decompose.seasonal.index, y=decompose.seasonal,name='seasonal_decompose'))"
   ]
  },
  {
   "cell_type": "code",
   "execution_count": 590,
   "metadata": {},
   "outputs": [
    {
     "name": "stdout",
     "output_type": "stream",
     "text": [
      "        Sector  General index\n",
      "0        Rural     140.176667\n",
      "1  Rural+Urban     138.658824\n",
      "2        Urban     137.586667\n"
     ]
    }
   ],
   "source": [
    "sectorcpi= consumerpricedata.groupby(['Sector'])['General index'].mean().reset_index()\n",
    "print(sectorcpi)"
   ]
  },
  {
   "cell_type": "code",
   "execution_count": 591,
   "metadata": {},
   "outputs": [
    {
     "data": {
      "application/vnd.plotly.v1+json": {
       "config": {
        "plotlyServerURL": "https://plot.ly"
       },
       "data": [
        {
         "alignmentgroup": "True",
         "hovertemplate": "Sector=%{x}<br>General index=%{y}<extra></extra>",
         "legendgroup": "",
         "marker": {
          "color": "#636efa",
          "pattern": {
           "shape": ""
          }
         },
         "name": "",
         "offsetgroup": "",
         "orientation": "v",
         "showlegend": false,
         "textposition": "auto",
         "type": "bar",
         "x": [
          "Rural",
          "Rural+Urban",
          "Urban"
         ],
         "xaxis": "x",
         "y": [
          140.17666666666668,
          138.6588235294118,
          137.58666666666667
         ],
         "yaxis": "y"
        }
       ],
       "layout": {
        "barmode": "relative",
        "legend": {
         "tracegroupgap": 0
        },
        "template": {
         "data": {
          "bar": [
           {
            "error_x": {
             "color": "#2a3f5f"
            },
            "error_y": {
             "color": "#2a3f5f"
            },
            "marker": {
             "line": {
              "color": "#E5ECF6",
              "width": 0.5
             },
             "pattern": {
              "fillmode": "overlay",
              "size": 10,
              "solidity": 0.2
             }
            },
            "type": "bar"
           }
          ],
          "barpolar": [
           {
            "marker": {
             "line": {
              "color": "#E5ECF6",
              "width": 0.5
             },
             "pattern": {
              "fillmode": "overlay",
              "size": 10,
              "solidity": 0.2
             }
            },
            "type": "barpolar"
           }
          ],
          "carpet": [
           {
            "aaxis": {
             "endlinecolor": "#2a3f5f",
             "gridcolor": "white",
             "linecolor": "white",
             "minorgridcolor": "white",
             "startlinecolor": "#2a3f5f"
            },
            "baxis": {
             "endlinecolor": "#2a3f5f",
             "gridcolor": "white",
             "linecolor": "white",
             "minorgridcolor": "white",
             "startlinecolor": "#2a3f5f"
            },
            "type": "carpet"
           }
          ],
          "choropleth": [
           {
            "colorbar": {
             "outlinewidth": 0,
             "ticks": ""
            },
            "type": "choropleth"
           }
          ],
          "contour": [
           {
            "colorbar": {
             "outlinewidth": 0,
             "ticks": ""
            },
            "colorscale": [
             [
              0,
              "#0d0887"
             ],
             [
              0.1111111111111111,
              "#46039f"
             ],
             [
              0.2222222222222222,
              "#7201a8"
             ],
             [
              0.3333333333333333,
              "#9c179e"
             ],
             [
              0.4444444444444444,
              "#bd3786"
             ],
             [
              0.5555555555555556,
              "#d8576b"
             ],
             [
              0.6666666666666666,
              "#ed7953"
             ],
             [
              0.7777777777777778,
              "#fb9f3a"
             ],
             [
              0.8888888888888888,
              "#fdca26"
             ],
             [
              1,
              "#f0f921"
             ]
            ],
            "type": "contour"
           }
          ],
          "contourcarpet": [
           {
            "colorbar": {
             "outlinewidth": 0,
             "ticks": ""
            },
            "type": "contourcarpet"
           }
          ],
          "heatmap": [
           {
            "colorbar": {
             "outlinewidth": 0,
             "ticks": ""
            },
            "colorscale": [
             [
              0,
              "#0d0887"
             ],
             [
              0.1111111111111111,
              "#46039f"
             ],
             [
              0.2222222222222222,
              "#7201a8"
             ],
             [
              0.3333333333333333,
              "#9c179e"
             ],
             [
              0.4444444444444444,
              "#bd3786"
             ],
             [
              0.5555555555555556,
              "#d8576b"
             ],
             [
              0.6666666666666666,
              "#ed7953"
             ],
             [
              0.7777777777777778,
              "#fb9f3a"
             ],
             [
              0.8888888888888888,
              "#fdca26"
             ],
             [
              1,
              "#f0f921"
             ]
            ],
            "type": "heatmap"
           }
          ],
          "heatmapgl": [
           {
            "colorbar": {
             "outlinewidth": 0,
             "ticks": ""
            },
            "colorscale": [
             [
              0,
              "#0d0887"
             ],
             [
              0.1111111111111111,
              "#46039f"
             ],
             [
              0.2222222222222222,
              "#7201a8"
             ],
             [
              0.3333333333333333,
              "#9c179e"
             ],
             [
              0.4444444444444444,
              "#bd3786"
             ],
             [
              0.5555555555555556,
              "#d8576b"
             ],
             [
              0.6666666666666666,
              "#ed7953"
             ],
             [
              0.7777777777777778,
              "#fb9f3a"
             ],
             [
              0.8888888888888888,
              "#fdca26"
             ],
             [
              1,
              "#f0f921"
             ]
            ],
            "type": "heatmapgl"
           }
          ],
          "histogram": [
           {
            "marker": {
             "pattern": {
              "fillmode": "overlay",
              "size": 10,
              "solidity": 0.2
             }
            },
            "type": "histogram"
           }
          ],
          "histogram2d": [
           {
            "colorbar": {
             "outlinewidth": 0,
             "ticks": ""
            },
            "colorscale": [
             [
              0,
              "#0d0887"
             ],
             [
              0.1111111111111111,
              "#46039f"
             ],
             [
              0.2222222222222222,
              "#7201a8"
             ],
             [
              0.3333333333333333,
              "#9c179e"
             ],
             [
              0.4444444444444444,
              "#bd3786"
             ],
             [
              0.5555555555555556,
              "#d8576b"
             ],
             [
              0.6666666666666666,
              "#ed7953"
             ],
             [
              0.7777777777777778,
              "#fb9f3a"
             ],
             [
              0.8888888888888888,
              "#fdca26"
             ],
             [
              1,
              "#f0f921"
             ]
            ],
            "type": "histogram2d"
           }
          ],
          "histogram2dcontour": [
           {
            "colorbar": {
             "outlinewidth": 0,
             "ticks": ""
            },
            "colorscale": [
             [
              0,
              "#0d0887"
             ],
             [
              0.1111111111111111,
              "#46039f"
             ],
             [
              0.2222222222222222,
              "#7201a8"
             ],
             [
              0.3333333333333333,
              "#9c179e"
             ],
             [
              0.4444444444444444,
              "#bd3786"
             ],
             [
              0.5555555555555556,
              "#d8576b"
             ],
             [
              0.6666666666666666,
              "#ed7953"
             ],
             [
              0.7777777777777778,
              "#fb9f3a"
             ],
             [
              0.8888888888888888,
              "#fdca26"
             ],
             [
              1,
              "#f0f921"
             ]
            ],
            "type": "histogram2dcontour"
           }
          ],
          "mesh3d": [
           {
            "colorbar": {
             "outlinewidth": 0,
             "ticks": ""
            },
            "type": "mesh3d"
           }
          ],
          "parcoords": [
           {
            "line": {
             "colorbar": {
              "outlinewidth": 0,
              "ticks": ""
             }
            },
            "type": "parcoords"
           }
          ],
          "pie": [
           {
            "automargin": true,
            "type": "pie"
           }
          ],
          "scatter": [
           {
            "fillpattern": {
             "fillmode": "overlay",
             "size": 10,
             "solidity": 0.2
            },
            "type": "scatter"
           }
          ],
          "scatter3d": [
           {
            "line": {
             "colorbar": {
              "outlinewidth": 0,
              "ticks": ""
             }
            },
            "marker": {
             "colorbar": {
              "outlinewidth": 0,
              "ticks": ""
             }
            },
            "type": "scatter3d"
           }
          ],
          "scattercarpet": [
           {
            "marker": {
             "colorbar": {
              "outlinewidth": 0,
              "ticks": ""
             }
            },
            "type": "scattercarpet"
           }
          ],
          "scattergeo": [
           {
            "marker": {
             "colorbar": {
              "outlinewidth": 0,
              "ticks": ""
             }
            },
            "type": "scattergeo"
           }
          ],
          "scattergl": [
           {
            "marker": {
             "colorbar": {
              "outlinewidth": 0,
              "ticks": ""
             }
            },
            "type": "scattergl"
           }
          ],
          "scattermapbox": [
           {
            "marker": {
             "colorbar": {
              "outlinewidth": 0,
              "ticks": ""
             }
            },
            "type": "scattermapbox"
           }
          ],
          "scatterpolar": [
           {
            "marker": {
             "colorbar": {
              "outlinewidth": 0,
              "ticks": ""
             }
            },
            "type": "scatterpolar"
           }
          ],
          "scatterpolargl": [
           {
            "marker": {
             "colorbar": {
              "outlinewidth": 0,
              "ticks": ""
             }
            },
            "type": "scatterpolargl"
           }
          ],
          "scatterternary": [
           {
            "marker": {
             "colorbar": {
              "outlinewidth": 0,
              "ticks": ""
             }
            },
            "type": "scatterternary"
           }
          ],
          "surface": [
           {
            "colorbar": {
             "outlinewidth": 0,
             "ticks": ""
            },
            "colorscale": [
             [
              0,
              "#0d0887"
             ],
             [
              0.1111111111111111,
              "#46039f"
             ],
             [
              0.2222222222222222,
              "#7201a8"
             ],
             [
              0.3333333333333333,
              "#9c179e"
             ],
             [
              0.4444444444444444,
              "#bd3786"
             ],
             [
              0.5555555555555556,
              "#d8576b"
             ],
             [
              0.6666666666666666,
              "#ed7953"
             ],
             [
              0.7777777777777778,
              "#fb9f3a"
             ],
             [
              0.8888888888888888,
              "#fdca26"
             ],
             [
              1,
              "#f0f921"
             ]
            ],
            "type": "surface"
           }
          ],
          "table": [
           {
            "cells": {
             "fill": {
              "color": "#EBF0F8"
             },
             "line": {
              "color": "white"
             }
            },
            "header": {
             "fill": {
              "color": "#C8D4E3"
             },
             "line": {
              "color": "white"
             }
            },
            "type": "table"
           }
          ]
         },
         "layout": {
          "annotationdefaults": {
           "arrowcolor": "#2a3f5f",
           "arrowhead": 0,
           "arrowwidth": 1
          },
          "autotypenumbers": "strict",
          "coloraxis": {
           "colorbar": {
            "outlinewidth": 0,
            "ticks": ""
           }
          },
          "colorscale": {
           "diverging": [
            [
             0,
             "#8e0152"
            ],
            [
             0.1,
             "#c51b7d"
            ],
            [
             0.2,
             "#de77ae"
            ],
            [
             0.3,
             "#f1b6da"
            ],
            [
             0.4,
             "#fde0ef"
            ],
            [
             0.5,
             "#f7f7f7"
            ],
            [
             0.6,
             "#e6f5d0"
            ],
            [
             0.7,
             "#b8e186"
            ],
            [
             0.8,
             "#7fbc41"
            ],
            [
             0.9,
             "#4d9221"
            ],
            [
             1,
             "#276419"
            ]
           ],
           "sequential": [
            [
             0,
             "#0d0887"
            ],
            [
             0.1111111111111111,
             "#46039f"
            ],
            [
             0.2222222222222222,
             "#7201a8"
            ],
            [
             0.3333333333333333,
             "#9c179e"
            ],
            [
             0.4444444444444444,
             "#bd3786"
            ],
            [
             0.5555555555555556,
             "#d8576b"
            ],
            [
             0.6666666666666666,
             "#ed7953"
            ],
            [
             0.7777777777777778,
             "#fb9f3a"
            ],
            [
             0.8888888888888888,
             "#fdca26"
            ],
            [
             1,
             "#f0f921"
            ]
           ],
           "sequentialminus": [
            [
             0,
             "#0d0887"
            ],
            [
             0.1111111111111111,
             "#46039f"
            ],
            [
             0.2222222222222222,
             "#7201a8"
            ],
            [
             0.3333333333333333,
             "#9c179e"
            ],
            [
             0.4444444444444444,
             "#bd3786"
            ],
            [
             0.5555555555555556,
             "#d8576b"
            ],
            [
             0.6666666666666666,
             "#ed7953"
            ],
            [
             0.7777777777777778,
             "#fb9f3a"
            ],
            [
             0.8888888888888888,
             "#fdca26"
            ],
            [
             1,
             "#f0f921"
            ]
           ]
          },
          "colorway": [
           "#636efa",
           "#EF553B",
           "#00cc96",
           "#ab63fa",
           "#FFA15A",
           "#19d3f3",
           "#FF6692",
           "#B6E880",
           "#FF97FF",
           "#FECB52"
          ],
          "font": {
           "color": "#2a3f5f"
          },
          "geo": {
           "bgcolor": "white",
           "lakecolor": "white",
           "landcolor": "#E5ECF6",
           "showlakes": true,
           "showland": true,
           "subunitcolor": "white"
          },
          "hoverlabel": {
           "align": "left"
          },
          "hovermode": "closest",
          "mapbox": {
           "style": "light"
          },
          "paper_bgcolor": "white",
          "plot_bgcolor": "#E5ECF6",
          "polar": {
           "angularaxis": {
            "gridcolor": "white",
            "linecolor": "white",
            "ticks": ""
           },
           "bgcolor": "#E5ECF6",
           "radialaxis": {
            "gridcolor": "white",
            "linecolor": "white",
            "ticks": ""
           }
          },
          "scene": {
           "xaxis": {
            "backgroundcolor": "#E5ECF6",
            "gridcolor": "white",
            "gridwidth": 2,
            "linecolor": "white",
            "showbackground": true,
            "ticks": "",
            "zerolinecolor": "white"
           },
           "yaxis": {
            "backgroundcolor": "#E5ECF6",
            "gridcolor": "white",
            "gridwidth": 2,
            "linecolor": "white",
            "showbackground": true,
            "ticks": "",
            "zerolinecolor": "white"
           },
           "zaxis": {
            "backgroundcolor": "#E5ECF6",
            "gridcolor": "white",
            "gridwidth": 2,
            "linecolor": "white",
            "showbackground": true,
            "ticks": "",
            "zerolinecolor": "white"
           }
          },
          "shapedefaults": {
           "line": {
            "color": "#2a3f5f"
           }
          },
          "ternary": {
           "aaxis": {
            "gridcolor": "white",
            "linecolor": "white",
            "ticks": ""
           },
           "baxis": {
            "gridcolor": "white",
            "linecolor": "white",
            "ticks": ""
           },
           "bgcolor": "#E5ECF6",
           "caxis": {
            "gridcolor": "white",
            "linecolor": "white",
            "ticks": ""
           }
          },
          "title": {
           "x": 0.05
          },
          "xaxis": {
           "automargin": true,
           "gridcolor": "white",
           "linecolor": "white",
           "ticks": "",
           "title": {
            "standoff": 15
           },
           "zerolinecolor": "white",
           "zerolinewidth": 2
          },
          "yaxis": {
           "automargin": true,
           "gridcolor": "white",
           "linecolor": "white",
           "ticks": "",
           "title": {
            "standoff": 15
           },
           "zerolinecolor": "white",
           "zerolinewidth": 2
          }
         }
        },
        "title": {
         "text": "Average CPI Comparison Across Sectors (Rural, Urban, Rural+Urban)"
        },
        "xaxis": {
         "anchor": "y",
         "domain": [
          0,
          1
         ],
         "title": {
          "text": "Sector"
         }
        },
        "yaxis": {
         "anchor": "x",
         "domain": [
          0,
          1
         ],
         "title": {
          "text": "General index"
         }
        }
       }
      }
     },
     "metadata": {},
     "output_type": "display_data"
    }
   ],
   "source": [
    "\n",
    "fig = px.bar(sectorcpi, x='Sector', y='General index', title='Average CPI Comparison Across Sectors (Rural, Urban, Rural+Urban)')\n",
    "fig.show()"
   ]
  },
  {
   "cell_type": "code",
   "execution_count": 592,
   "metadata": {},
   "outputs": [],
   "source": [
    "cpi_categories = consumerpricedata[['Cereals and products', 'Meat and fish', 'Egg', 'Milk and products', 'Oils and fats',\n",
    "                           'Fruits', 'Vegetables', 'Fuel and light', 'Housing', 'Health', 'Transport and communication',\n",
    "                           'Recreation and amusement', 'Education', 'Personal care and effects', 'Miscellaneous', 'General index']]"
   ]
  },
  {
   "cell_type": "code",
   "execution_count": 593,
   "metadata": {},
   "outputs": [
    {
     "name": "stderr",
     "output_type": "stream",
     "text": [
      "C:\\Users\\jagad\\AppData\\Local\\Temp\\ipykernel_20812\\3980470459.py:1: FutureWarning:\n",
      "\n",
      "The default value of numeric_only in DataFrame.corr is deprecated. In a future version, it will default to False. Select only valid columns or specify the value of numeric_only to silence this warning.\n",
      "\n"
     ]
    },
    {
     "data": {
      "text/html": [
       "<div>\n",
       "<style scoped>\n",
       "    .dataframe tbody tr th:only-of-type {\n",
       "        vertical-align: middle;\n",
       "    }\n",
       "\n",
       "    .dataframe tbody tr th {\n",
       "        vertical-align: top;\n",
       "    }\n",
       "\n",
       "    .dataframe thead th {\n",
       "        text-align: right;\n",
       "    }\n",
       "</style>\n",
       "<table border=\"1\" class=\"dataframe\">\n",
       "  <thead>\n",
       "    <tr style=\"text-align: right;\">\n",
       "      <th></th>\n",
       "      <th>Cereals and products</th>\n",
       "      <th>Meat and fish</th>\n",
       "      <th>Egg</th>\n",
       "      <th>Milk and products</th>\n",
       "      <th>Oils and fats</th>\n",
       "      <th>Fruits</th>\n",
       "      <th>Vegetables</th>\n",
       "      <th>Fuel and light</th>\n",
       "      <th>Health</th>\n",
       "      <th>Transport and communication</th>\n",
       "      <th>Recreation and amusement</th>\n",
       "      <th>Education</th>\n",
       "      <th>Personal care and effects</th>\n",
       "      <th>Miscellaneous</th>\n",
       "      <th>General index</th>\n",
       "    </tr>\n",
       "  </thead>\n",
       "  <tbody>\n",
       "    <tr>\n",
       "      <th>Cereals and products</th>\n",
       "      <td>1.000000</td>\n",
       "      <td>0.936088</td>\n",
       "      <td>0.920298</td>\n",
       "      <td>0.978281</td>\n",
       "      <td>0.835740</td>\n",
       "      <td>0.904204</td>\n",
       "      <td>0.582257</td>\n",
       "      <td>0.936357</td>\n",
       "      <td>0.952303</td>\n",
       "      <td>0.913571</td>\n",
       "      <td>0.952961</td>\n",
       "      <td>0.952354</td>\n",
       "      <td>0.965539</td>\n",
       "      <td>0.954863</td>\n",
       "      <td>0.969758</td>\n",
       "    </tr>\n",
       "    <tr>\n",
       "      <th>Meat and fish</th>\n",
       "      <td>0.936088</td>\n",
       "      <td>1.000000</td>\n",
       "      <td>0.958486</td>\n",
       "      <td>0.948047</td>\n",
       "      <td>0.929413</td>\n",
       "      <td>0.893158</td>\n",
       "      <td>0.614168</td>\n",
       "      <td>0.932032</td>\n",
       "      <td>0.968236</td>\n",
       "      <td>0.961164</td>\n",
       "      <td>0.966051</td>\n",
       "      <td>0.941889</td>\n",
       "      <td>0.986152</td>\n",
       "      <td>0.972195</td>\n",
       "      <td>0.975611</td>\n",
       "    </tr>\n",
       "    <tr>\n",
       "      <th>Egg</th>\n",
       "      <td>0.920298</td>\n",
       "      <td>0.958486</td>\n",
       "      <td>1.000000</td>\n",
       "      <td>0.927769</td>\n",
       "      <td>0.902606</td>\n",
       "      <td>0.846174</td>\n",
       "      <td>0.608180</td>\n",
       "      <td>0.912386</td>\n",
       "      <td>0.946648</td>\n",
       "      <td>0.936133</td>\n",
       "      <td>0.940178</td>\n",
       "      <td>0.920434</td>\n",
       "      <td>0.964577</td>\n",
       "      <td>0.949330</td>\n",
       "      <td>0.954838</td>\n",
       "    </tr>\n",
       "    <tr>\n",
       "      <th>Milk and products</th>\n",
       "      <td>0.978281</td>\n",
       "      <td>0.948047</td>\n",
       "      <td>0.927769</td>\n",
       "      <td>1.000000</td>\n",
       "      <td>0.856929</td>\n",
       "      <td>0.941188</td>\n",
       "      <td>0.577734</td>\n",
       "      <td>0.945304</td>\n",
       "      <td>0.967199</td>\n",
       "      <td>0.918134</td>\n",
       "      <td>0.971093</td>\n",
       "      <td>0.977767</td>\n",
       "      <td>0.964898</td>\n",
       "      <td>0.967568</td>\n",
       "      <td>0.985070</td>\n",
       "    </tr>\n",
       "    <tr>\n",
       "      <th>Oils and fats</th>\n",
       "      <td>0.835740</td>\n",
       "      <td>0.929413</td>\n",
       "      <td>0.902606</td>\n",
       "      <td>0.856929</td>\n",
       "      <td>1.000000</td>\n",
       "      <td>0.808059</td>\n",
       "      <td>0.460572</td>\n",
       "      <td>0.927878</td>\n",
       "      <td>0.920110</td>\n",
       "      <td>0.971347</td>\n",
       "      <td>0.917494</td>\n",
       "      <td>0.847736</td>\n",
       "      <td>0.921764</td>\n",
       "      <td>0.931460</td>\n",
       "      <td>0.914509</td>\n",
       "    </tr>\n",
       "    <tr>\n",
       "      <th>Fruits</th>\n",
       "      <td>0.904204</td>\n",
       "      <td>0.893158</td>\n",
       "      <td>0.846174</td>\n",
       "      <td>0.941188</td>\n",
       "      <td>0.808059</td>\n",
       "      <td>1.000000</td>\n",
       "      <td>0.553701</td>\n",
       "      <td>0.891488</td>\n",
       "      <td>0.895997</td>\n",
       "      <td>0.853697</td>\n",
       "      <td>0.903154</td>\n",
       "      <td>0.910832</td>\n",
       "      <td>0.891989</td>\n",
       "      <td>0.897843</td>\n",
       "      <td>0.924992</td>\n",
       "    </tr>\n",
       "    <tr>\n",
       "      <th>Vegetables</th>\n",
       "      <td>0.582257</td>\n",
       "      <td>0.614168</td>\n",
       "      <td>0.608180</td>\n",
       "      <td>0.577734</td>\n",
       "      <td>0.460572</td>\n",
       "      <td>0.553701</td>\n",
       "      <td>1.000000</td>\n",
       "      <td>0.493003</td>\n",
       "      <td>0.547994</td>\n",
       "      <td>0.524637</td>\n",
       "      <td>0.548237</td>\n",
       "      <td>0.571334</td>\n",
       "      <td>0.594531</td>\n",
       "      <td>0.553092</td>\n",
       "      <td>0.616267</td>\n",
       "    </tr>\n",
       "    <tr>\n",
       "      <th>Fuel and light</th>\n",
       "      <td>0.936357</td>\n",
       "      <td>0.932032</td>\n",
       "      <td>0.912386</td>\n",
       "      <td>0.945304</td>\n",
       "      <td>0.927878</td>\n",
       "      <td>0.891488</td>\n",
       "      <td>0.493003</td>\n",
       "      <td>1.000000</td>\n",
       "      <td>0.976021</td>\n",
       "      <td>0.967982</td>\n",
       "      <td>0.978188</td>\n",
       "      <td>0.942411</td>\n",
       "      <td>0.955313</td>\n",
       "      <td>0.977670</td>\n",
       "      <td>0.969113</td>\n",
       "    </tr>\n",
       "    <tr>\n",
       "      <th>Health</th>\n",
       "      <td>0.952303</td>\n",
       "      <td>0.968236</td>\n",
       "      <td>0.946648</td>\n",
       "      <td>0.967199</td>\n",
       "      <td>0.920110</td>\n",
       "      <td>0.895997</td>\n",
       "      <td>0.547994</td>\n",
       "      <td>0.976021</td>\n",
       "      <td>1.000000</td>\n",
       "      <td>0.972382</td>\n",
       "      <td>0.997594</td>\n",
       "      <td>0.981640</td>\n",
       "      <td>0.985409</td>\n",
       "      <td>0.998284</td>\n",
       "      <td>0.990248</td>\n",
       "    </tr>\n",
       "    <tr>\n",
       "      <th>Transport and communication</th>\n",
       "      <td>0.913571</td>\n",
       "      <td>0.961164</td>\n",
       "      <td>0.936133</td>\n",
       "      <td>0.918134</td>\n",
       "      <td>0.971347</td>\n",
       "      <td>0.853697</td>\n",
       "      <td>0.524637</td>\n",
       "      <td>0.967982</td>\n",
       "      <td>0.972382</td>\n",
       "      <td>1.000000</td>\n",
       "      <td>0.970701</td>\n",
       "      <td>0.919880</td>\n",
       "      <td>0.970351</td>\n",
       "      <td>0.981195</td>\n",
       "      <td>0.963198</td>\n",
       "    </tr>\n",
       "    <tr>\n",
       "      <th>Recreation and amusement</th>\n",
       "      <td>0.952961</td>\n",
       "      <td>0.966051</td>\n",
       "      <td>0.940178</td>\n",
       "      <td>0.971093</td>\n",
       "      <td>0.917494</td>\n",
       "      <td>0.903154</td>\n",
       "      <td>0.548237</td>\n",
       "      <td>0.978188</td>\n",
       "      <td>0.997594</td>\n",
       "      <td>0.970701</td>\n",
       "      <td>1.000000</td>\n",
       "      <td>0.983323</td>\n",
       "      <td>0.981642</td>\n",
       "      <td>0.997460</td>\n",
       "      <td>0.990422</td>\n",
       "    </tr>\n",
       "    <tr>\n",
       "      <th>Education</th>\n",
       "      <td>0.952354</td>\n",
       "      <td>0.941889</td>\n",
       "      <td>0.920434</td>\n",
       "      <td>0.977767</td>\n",
       "      <td>0.847736</td>\n",
       "      <td>0.910832</td>\n",
       "      <td>0.571334</td>\n",
       "      <td>0.942411</td>\n",
       "      <td>0.981640</td>\n",
       "      <td>0.919880</td>\n",
       "      <td>0.983323</td>\n",
       "      <td>1.000000</td>\n",
       "      <td>0.961293</td>\n",
       "      <td>0.977121</td>\n",
       "      <td>0.979515</td>\n",
       "    </tr>\n",
       "    <tr>\n",
       "      <th>Personal care and effects</th>\n",
       "      <td>0.965539</td>\n",
       "      <td>0.986152</td>\n",
       "      <td>0.964577</td>\n",
       "      <td>0.964898</td>\n",
       "      <td>0.921764</td>\n",
       "      <td>0.891989</td>\n",
       "      <td>0.594531</td>\n",
       "      <td>0.955313</td>\n",
       "      <td>0.985409</td>\n",
       "      <td>0.970351</td>\n",
       "      <td>0.981642</td>\n",
       "      <td>0.961293</td>\n",
       "      <td>1.000000</td>\n",
       "      <td>0.988381</td>\n",
       "      <td>0.988399</td>\n",
       "    </tr>\n",
       "    <tr>\n",
       "      <th>Miscellaneous</th>\n",
       "      <td>0.954863</td>\n",
       "      <td>0.972195</td>\n",
       "      <td>0.949330</td>\n",
       "      <td>0.967568</td>\n",
       "      <td>0.931460</td>\n",
       "      <td>0.897843</td>\n",
       "      <td>0.553092</td>\n",
       "      <td>0.977670</td>\n",
       "      <td>0.998284</td>\n",
       "      <td>0.981195</td>\n",
       "      <td>0.997460</td>\n",
       "      <td>0.977121</td>\n",
       "      <td>0.988381</td>\n",
       "      <td>1.000000</td>\n",
       "      <td>0.991833</td>\n",
       "    </tr>\n",
       "    <tr>\n",
       "      <th>General index</th>\n",
       "      <td>0.969758</td>\n",
       "      <td>0.975611</td>\n",
       "      <td>0.954838</td>\n",
       "      <td>0.985070</td>\n",
       "      <td>0.914509</td>\n",
       "      <td>0.924992</td>\n",
       "      <td>0.616267</td>\n",
       "      <td>0.969113</td>\n",
       "      <td>0.990248</td>\n",
       "      <td>0.963198</td>\n",
       "      <td>0.990422</td>\n",
       "      <td>0.979515</td>\n",
       "      <td>0.988399</td>\n",
       "      <td>0.991833</td>\n",
       "      <td>1.000000</td>\n",
       "    </tr>\n",
       "  </tbody>\n",
       "</table>\n",
       "</div>"
      ],
      "text/plain": [
       "                             Cereals and products  Meat and fish       Egg  \\\n",
       "Cereals and products                     1.000000       0.936088  0.920298   \n",
       "Meat and fish                            0.936088       1.000000  0.958486   \n",
       "Egg                                      0.920298       0.958486  1.000000   \n",
       "Milk and products                        0.978281       0.948047  0.927769   \n",
       "Oils and fats                            0.835740       0.929413  0.902606   \n",
       "Fruits                                   0.904204       0.893158  0.846174   \n",
       "Vegetables                               0.582257       0.614168  0.608180   \n",
       "Fuel and light                           0.936357       0.932032  0.912386   \n",
       "Health                                   0.952303       0.968236  0.946648   \n",
       "Transport and communication              0.913571       0.961164  0.936133   \n",
       "Recreation and amusement                 0.952961       0.966051  0.940178   \n",
       "Education                                0.952354       0.941889  0.920434   \n",
       "Personal care and effects                0.965539       0.986152  0.964577   \n",
       "Miscellaneous                            0.954863       0.972195  0.949330   \n",
       "General index                            0.969758       0.975611  0.954838   \n",
       "\n",
       "                             Milk and products  Oils and fats    Fruits  \\\n",
       "Cereals and products                  0.978281       0.835740  0.904204   \n",
       "Meat and fish                         0.948047       0.929413  0.893158   \n",
       "Egg                                   0.927769       0.902606  0.846174   \n",
       "Milk and products                     1.000000       0.856929  0.941188   \n",
       "Oils and fats                         0.856929       1.000000  0.808059   \n",
       "Fruits                                0.941188       0.808059  1.000000   \n",
       "Vegetables                            0.577734       0.460572  0.553701   \n",
       "Fuel and light                        0.945304       0.927878  0.891488   \n",
       "Health                                0.967199       0.920110  0.895997   \n",
       "Transport and communication           0.918134       0.971347  0.853697   \n",
       "Recreation and amusement              0.971093       0.917494  0.903154   \n",
       "Education                             0.977767       0.847736  0.910832   \n",
       "Personal care and effects             0.964898       0.921764  0.891989   \n",
       "Miscellaneous                         0.967568       0.931460  0.897843   \n",
       "General index                         0.985070       0.914509  0.924992   \n",
       "\n",
       "                             Vegetables  Fuel and light    Health  \\\n",
       "Cereals and products           0.582257        0.936357  0.952303   \n",
       "Meat and fish                  0.614168        0.932032  0.968236   \n",
       "Egg                            0.608180        0.912386  0.946648   \n",
       "Milk and products              0.577734        0.945304  0.967199   \n",
       "Oils and fats                  0.460572        0.927878  0.920110   \n",
       "Fruits                         0.553701        0.891488  0.895997   \n",
       "Vegetables                     1.000000        0.493003  0.547994   \n",
       "Fuel and light                 0.493003        1.000000  0.976021   \n",
       "Health                         0.547994        0.976021  1.000000   \n",
       "Transport and communication    0.524637        0.967982  0.972382   \n",
       "Recreation and amusement       0.548237        0.978188  0.997594   \n",
       "Education                      0.571334        0.942411  0.981640   \n",
       "Personal care and effects      0.594531        0.955313  0.985409   \n",
       "Miscellaneous                  0.553092        0.977670  0.998284   \n",
       "General index                  0.616267        0.969113  0.990248   \n",
       "\n",
       "                             Transport and communication  \\\n",
       "Cereals and products                            0.913571   \n",
       "Meat and fish                                   0.961164   \n",
       "Egg                                             0.936133   \n",
       "Milk and products                               0.918134   \n",
       "Oils and fats                                   0.971347   \n",
       "Fruits                                          0.853697   \n",
       "Vegetables                                      0.524637   \n",
       "Fuel and light                                  0.967982   \n",
       "Health                                          0.972382   \n",
       "Transport and communication                     1.000000   \n",
       "Recreation and amusement                        0.970701   \n",
       "Education                                       0.919880   \n",
       "Personal care and effects                       0.970351   \n",
       "Miscellaneous                                   0.981195   \n",
       "General index                                   0.963198   \n",
       "\n",
       "                             Recreation and amusement  Education  \\\n",
       "Cereals and products                         0.952961   0.952354   \n",
       "Meat and fish                                0.966051   0.941889   \n",
       "Egg                                          0.940178   0.920434   \n",
       "Milk and products                            0.971093   0.977767   \n",
       "Oils and fats                                0.917494   0.847736   \n",
       "Fruits                                       0.903154   0.910832   \n",
       "Vegetables                                   0.548237   0.571334   \n",
       "Fuel and light                               0.978188   0.942411   \n",
       "Health                                       0.997594   0.981640   \n",
       "Transport and communication                  0.970701   0.919880   \n",
       "Recreation and amusement                     1.000000   0.983323   \n",
       "Education                                    0.983323   1.000000   \n",
       "Personal care and effects                    0.981642   0.961293   \n",
       "Miscellaneous                                0.997460   0.977121   \n",
       "General index                                0.990422   0.979515   \n",
       "\n",
       "                             Personal care and effects  Miscellaneous  \\\n",
       "Cereals and products                          0.965539       0.954863   \n",
       "Meat and fish                                 0.986152       0.972195   \n",
       "Egg                                           0.964577       0.949330   \n",
       "Milk and products                             0.964898       0.967568   \n",
       "Oils and fats                                 0.921764       0.931460   \n",
       "Fruits                                        0.891989       0.897843   \n",
       "Vegetables                                    0.594531       0.553092   \n",
       "Fuel and light                                0.955313       0.977670   \n",
       "Health                                        0.985409       0.998284   \n",
       "Transport and communication                   0.970351       0.981195   \n",
       "Recreation and amusement                      0.981642       0.997460   \n",
       "Education                                     0.961293       0.977121   \n",
       "Personal care and effects                     1.000000       0.988381   \n",
       "Miscellaneous                                 0.988381       1.000000   \n",
       "General index                                 0.988399       0.991833   \n",
       "\n",
       "                             General index  \n",
       "Cereals and products              0.969758  \n",
       "Meat and fish                     0.975611  \n",
       "Egg                               0.954838  \n",
       "Milk and products                 0.985070  \n",
       "Oils and fats                     0.914509  \n",
       "Fruits                            0.924992  \n",
       "Vegetables                        0.616267  \n",
       "Fuel and light                    0.969113  \n",
       "Health                            0.990248  \n",
       "Transport and communication       0.963198  \n",
       "Recreation and amusement          0.990422  \n",
       "Education                         0.979515  \n",
       "Personal care and effects         0.988399  \n",
       "Miscellaneous                     0.991833  \n",
       "General index                     1.000000  "
      ]
     },
     "execution_count": 593,
     "metadata": {},
     "output_type": "execute_result"
    }
   ],
   "source": [
    "cpi_categories.corr()"
   ]
  },
  {
   "cell_type": "code",
   "execution_count": 594,
   "metadata": {},
   "outputs": [],
   "source": [
    "cpi_categories= cpi_categories.apply(pd.to_numeric,errors= 'coerce')"
   ]
  },
  {
   "cell_type": "code",
   "execution_count": 595,
   "metadata": {},
   "outputs": [
    {
     "data": {
      "text/html": [
       "<div>\n",
       "<style scoped>\n",
       "    .dataframe tbody tr th:only-of-type {\n",
       "        vertical-align: middle;\n",
       "    }\n",
       "\n",
       "    .dataframe tbody tr th {\n",
       "        vertical-align: top;\n",
       "    }\n",
       "\n",
       "    .dataframe thead th {\n",
       "        text-align: right;\n",
       "    }\n",
       "</style>\n",
       "<table border=\"1\" class=\"dataframe\">\n",
       "  <thead>\n",
       "    <tr style=\"text-align: right;\">\n",
       "      <th></th>\n",
       "      <th>Cereals and products</th>\n",
       "      <th>Meat and fish</th>\n",
       "      <th>Egg</th>\n",
       "      <th>Milk and products</th>\n",
       "      <th>Oils and fats</th>\n",
       "      <th>Fruits</th>\n",
       "      <th>Vegetables</th>\n",
       "      <th>Fuel and light</th>\n",
       "      <th>Housing</th>\n",
       "      <th>Health</th>\n",
       "      <th>Transport and communication</th>\n",
       "      <th>Recreation and amusement</th>\n",
       "      <th>Education</th>\n",
       "      <th>Personal care and effects</th>\n",
       "      <th>Miscellaneous</th>\n",
       "      <th>General index</th>\n",
       "    </tr>\n",
       "  </thead>\n",
       "  <tbody>\n",
       "    <tr>\n",
       "      <th>Cereals and products</th>\n",
       "      <td>1.000000</td>\n",
       "      <td>0.936088</td>\n",
       "      <td>0.920298</td>\n",
       "      <td>0.978281</td>\n",
       "      <td>0.835740</td>\n",
       "      <td>0.904204</td>\n",
       "      <td>0.582257</td>\n",
       "      <td>0.936357</td>\n",
       "      <td>0.963590</td>\n",
       "      <td>0.952303</td>\n",
       "      <td>0.913571</td>\n",
       "      <td>0.952961</td>\n",
       "      <td>0.952354</td>\n",
       "      <td>0.965539</td>\n",
       "      <td>0.954863</td>\n",
       "      <td>0.969758</td>\n",
       "    </tr>\n",
       "    <tr>\n",
       "      <th>Meat and fish</th>\n",
       "      <td>0.936088</td>\n",
       "      <td>1.000000</td>\n",
       "      <td>0.958486</td>\n",
       "      <td>0.948047</td>\n",
       "      <td>0.929413</td>\n",
       "      <td>0.893158</td>\n",
       "      <td>0.614168</td>\n",
       "      <td>0.932032</td>\n",
       "      <td>0.944540</td>\n",
       "      <td>0.968236</td>\n",
       "      <td>0.961164</td>\n",
       "      <td>0.966051</td>\n",
       "      <td>0.941889</td>\n",
       "      <td>0.986152</td>\n",
       "      <td>0.972195</td>\n",
       "      <td>0.975611</td>\n",
       "    </tr>\n",
       "    <tr>\n",
       "      <th>Egg</th>\n",
       "      <td>0.920298</td>\n",
       "      <td>0.958486</td>\n",
       "      <td>1.000000</td>\n",
       "      <td>0.927769</td>\n",
       "      <td>0.902606</td>\n",
       "      <td>0.846174</td>\n",
       "      <td>0.608180</td>\n",
       "      <td>0.912386</td>\n",
       "      <td>0.931014</td>\n",
       "      <td>0.946648</td>\n",
       "      <td>0.936133</td>\n",
       "      <td>0.940178</td>\n",
       "      <td>0.920434</td>\n",
       "      <td>0.964577</td>\n",
       "      <td>0.949330</td>\n",
       "      <td>0.954838</td>\n",
       "    </tr>\n",
       "    <tr>\n",
       "      <th>Milk and products</th>\n",
       "      <td>0.978281</td>\n",
       "      <td>0.948047</td>\n",
       "      <td>0.927769</td>\n",
       "      <td>1.000000</td>\n",
       "      <td>0.856929</td>\n",
       "      <td>0.941188</td>\n",
       "      <td>0.577734</td>\n",
       "      <td>0.945304</td>\n",
       "      <td>0.981278</td>\n",
       "      <td>0.967199</td>\n",
       "      <td>0.918134</td>\n",
       "      <td>0.971093</td>\n",
       "      <td>0.977767</td>\n",
       "      <td>0.964898</td>\n",
       "      <td>0.967568</td>\n",
       "      <td>0.985070</td>\n",
       "    </tr>\n",
       "    <tr>\n",
       "      <th>Oils and fats</th>\n",
       "      <td>0.835740</td>\n",
       "      <td>0.929413</td>\n",
       "      <td>0.902606</td>\n",
       "      <td>0.856929</td>\n",
       "      <td>1.000000</td>\n",
       "      <td>0.808059</td>\n",
       "      <td>0.460572</td>\n",
       "      <td>0.927878</td>\n",
       "      <td>0.851395</td>\n",
       "      <td>0.920110</td>\n",
       "      <td>0.971347</td>\n",
       "      <td>0.917494</td>\n",
       "      <td>0.847736</td>\n",
       "      <td>0.921764</td>\n",
       "      <td>0.931460</td>\n",
       "      <td>0.914509</td>\n",
       "    </tr>\n",
       "    <tr>\n",
       "      <th>Fruits</th>\n",
       "      <td>0.904204</td>\n",
       "      <td>0.893158</td>\n",
       "      <td>0.846174</td>\n",
       "      <td>0.941188</td>\n",
       "      <td>0.808059</td>\n",
       "      <td>1.000000</td>\n",
       "      <td>0.553701</td>\n",
       "      <td>0.891488</td>\n",
       "      <td>0.936356</td>\n",
       "      <td>0.895997</td>\n",
       "      <td>0.853697</td>\n",
       "      <td>0.903154</td>\n",
       "      <td>0.910832</td>\n",
       "      <td>0.891989</td>\n",
       "      <td>0.897843</td>\n",
       "      <td>0.924992</td>\n",
       "    </tr>\n",
       "    <tr>\n",
       "      <th>Vegetables</th>\n",
       "      <td>0.582257</td>\n",
       "      <td>0.614168</td>\n",
       "      <td>0.608180</td>\n",
       "      <td>0.577734</td>\n",
       "      <td>0.460572</td>\n",
       "      <td>0.553701</td>\n",
       "      <td>1.000000</td>\n",
       "      <td>0.493003</td>\n",
       "      <td>0.634510</td>\n",
       "      <td>0.547994</td>\n",
       "      <td>0.524637</td>\n",
       "      <td>0.548237</td>\n",
       "      <td>0.571334</td>\n",
       "      <td>0.594531</td>\n",
       "      <td>0.553092</td>\n",
       "      <td>0.616267</td>\n",
       "    </tr>\n",
       "    <tr>\n",
       "      <th>Fuel and light</th>\n",
       "      <td>0.936357</td>\n",
       "      <td>0.932032</td>\n",
       "      <td>0.912386</td>\n",
       "      <td>0.945304</td>\n",
       "      <td>0.927878</td>\n",
       "      <td>0.891488</td>\n",
       "      <td>0.493003</td>\n",
       "      <td>1.000000</td>\n",
       "      <td>0.927042</td>\n",
       "      <td>0.976021</td>\n",
       "      <td>0.967982</td>\n",
       "      <td>0.978188</td>\n",
       "      <td>0.942411</td>\n",
       "      <td>0.955313</td>\n",
       "      <td>0.977670</td>\n",
       "      <td>0.969113</td>\n",
       "    </tr>\n",
       "    <tr>\n",
       "      <th>Housing</th>\n",
       "      <td>0.963590</td>\n",
       "      <td>0.944540</td>\n",
       "      <td>0.931014</td>\n",
       "      <td>0.981278</td>\n",
       "      <td>0.851395</td>\n",
       "      <td>0.936356</td>\n",
       "      <td>0.634510</td>\n",
       "      <td>0.927042</td>\n",
       "      <td>1.000000</td>\n",
       "      <td>0.974505</td>\n",
       "      <td>0.907393</td>\n",
       "      <td>0.973939</td>\n",
       "      <td>0.994764</td>\n",
       "      <td>0.964413</td>\n",
       "      <td>0.970385</td>\n",
       "      <td>0.980883</td>\n",
       "    </tr>\n",
       "    <tr>\n",
       "      <th>Health</th>\n",
       "      <td>0.952303</td>\n",
       "      <td>0.968236</td>\n",
       "      <td>0.946648</td>\n",
       "      <td>0.967199</td>\n",
       "      <td>0.920110</td>\n",
       "      <td>0.895997</td>\n",
       "      <td>0.547994</td>\n",
       "      <td>0.976021</td>\n",
       "      <td>0.974505</td>\n",
       "      <td>1.000000</td>\n",
       "      <td>0.972382</td>\n",
       "      <td>0.997594</td>\n",
       "      <td>0.981640</td>\n",
       "      <td>0.985409</td>\n",
       "      <td>0.998284</td>\n",
       "      <td>0.990248</td>\n",
       "    </tr>\n",
       "    <tr>\n",
       "      <th>Transport and communication</th>\n",
       "      <td>0.913571</td>\n",
       "      <td>0.961164</td>\n",
       "      <td>0.936133</td>\n",
       "      <td>0.918134</td>\n",
       "      <td>0.971347</td>\n",
       "      <td>0.853697</td>\n",
       "      <td>0.524637</td>\n",
       "      <td>0.967982</td>\n",
       "      <td>0.907393</td>\n",
       "      <td>0.972382</td>\n",
       "      <td>1.000000</td>\n",
       "      <td>0.970701</td>\n",
       "      <td>0.919880</td>\n",
       "      <td>0.970351</td>\n",
       "      <td>0.981195</td>\n",
       "      <td>0.963198</td>\n",
       "    </tr>\n",
       "    <tr>\n",
       "      <th>Recreation and amusement</th>\n",
       "      <td>0.952961</td>\n",
       "      <td>0.966051</td>\n",
       "      <td>0.940178</td>\n",
       "      <td>0.971093</td>\n",
       "      <td>0.917494</td>\n",
       "      <td>0.903154</td>\n",
       "      <td>0.548237</td>\n",
       "      <td>0.978188</td>\n",
       "      <td>0.973939</td>\n",
       "      <td>0.997594</td>\n",
       "      <td>0.970701</td>\n",
       "      <td>1.000000</td>\n",
       "      <td>0.983323</td>\n",
       "      <td>0.981642</td>\n",
       "      <td>0.997460</td>\n",
       "      <td>0.990422</td>\n",
       "    </tr>\n",
       "    <tr>\n",
       "      <th>Education</th>\n",
       "      <td>0.952354</td>\n",
       "      <td>0.941889</td>\n",
       "      <td>0.920434</td>\n",
       "      <td>0.977767</td>\n",
       "      <td>0.847736</td>\n",
       "      <td>0.910832</td>\n",
       "      <td>0.571334</td>\n",
       "      <td>0.942411</td>\n",
       "      <td>0.994764</td>\n",
       "      <td>0.981640</td>\n",
       "      <td>0.919880</td>\n",
       "      <td>0.983323</td>\n",
       "      <td>1.000000</td>\n",
       "      <td>0.961293</td>\n",
       "      <td>0.977121</td>\n",
       "      <td>0.979515</td>\n",
       "    </tr>\n",
       "    <tr>\n",
       "      <th>Personal care and effects</th>\n",
       "      <td>0.965539</td>\n",
       "      <td>0.986152</td>\n",
       "      <td>0.964577</td>\n",
       "      <td>0.964898</td>\n",
       "      <td>0.921764</td>\n",
       "      <td>0.891989</td>\n",
       "      <td>0.594531</td>\n",
       "      <td>0.955313</td>\n",
       "      <td>0.964413</td>\n",
       "      <td>0.985409</td>\n",
       "      <td>0.970351</td>\n",
       "      <td>0.981642</td>\n",
       "      <td>0.961293</td>\n",
       "      <td>1.000000</td>\n",
       "      <td>0.988381</td>\n",
       "      <td>0.988399</td>\n",
       "    </tr>\n",
       "    <tr>\n",
       "      <th>Miscellaneous</th>\n",
       "      <td>0.954863</td>\n",
       "      <td>0.972195</td>\n",
       "      <td>0.949330</td>\n",
       "      <td>0.967568</td>\n",
       "      <td>0.931460</td>\n",
       "      <td>0.897843</td>\n",
       "      <td>0.553092</td>\n",
       "      <td>0.977670</td>\n",
       "      <td>0.970385</td>\n",
       "      <td>0.998284</td>\n",
       "      <td>0.981195</td>\n",
       "      <td>0.997460</td>\n",
       "      <td>0.977121</td>\n",
       "      <td>0.988381</td>\n",
       "      <td>1.000000</td>\n",
       "      <td>0.991833</td>\n",
       "    </tr>\n",
       "    <tr>\n",
       "      <th>General index</th>\n",
       "      <td>0.969758</td>\n",
       "      <td>0.975611</td>\n",
       "      <td>0.954838</td>\n",
       "      <td>0.985070</td>\n",
       "      <td>0.914509</td>\n",
       "      <td>0.924992</td>\n",
       "      <td>0.616267</td>\n",
       "      <td>0.969113</td>\n",
       "      <td>0.980883</td>\n",
       "      <td>0.990248</td>\n",
       "      <td>0.963198</td>\n",
       "      <td>0.990422</td>\n",
       "      <td>0.979515</td>\n",
       "      <td>0.988399</td>\n",
       "      <td>0.991833</td>\n",
       "      <td>1.000000</td>\n",
       "    </tr>\n",
       "  </tbody>\n",
       "</table>\n",
       "</div>"
      ],
      "text/plain": [
       "                             Cereals and products  Meat and fish       Egg  \\\n",
       "Cereals and products                     1.000000       0.936088  0.920298   \n",
       "Meat and fish                            0.936088       1.000000  0.958486   \n",
       "Egg                                      0.920298       0.958486  1.000000   \n",
       "Milk and products                        0.978281       0.948047  0.927769   \n",
       "Oils and fats                            0.835740       0.929413  0.902606   \n",
       "Fruits                                   0.904204       0.893158  0.846174   \n",
       "Vegetables                               0.582257       0.614168  0.608180   \n",
       "Fuel and light                           0.936357       0.932032  0.912386   \n",
       "Housing                                  0.963590       0.944540  0.931014   \n",
       "Health                                   0.952303       0.968236  0.946648   \n",
       "Transport and communication              0.913571       0.961164  0.936133   \n",
       "Recreation and amusement                 0.952961       0.966051  0.940178   \n",
       "Education                                0.952354       0.941889  0.920434   \n",
       "Personal care and effects                0.965539       0.986152  0.964577   \n",
       "Miscellaneous                            0.954863       0.972195  0.949330   \n",
       "General index                            0.969758       0.975611  0.954838   \n",
       "\n",
       "                             Milk and products  Oils and fats    Fruits  \\\n",
       "Cereals and products                  0.978281       0.835740  0.904204   \n",
       "Meat and fish                         0.948047       0.929413  0.893158   \n",
       "Egg                                   0.927769       0.902606  0.846174   \n",
       "Milk and products                     1.000000       0.856929  0.941188   \n",
       "Oils and fats                         0.856929       1.000000  0.808059   \n",
       "Fruits                                0.941188       0.808059  1.000000   \n",
       "Vegetables                            0.577734       0.460572  0.553701   \n",
       "Fuel and light                        0.945304       0.927878  0.891488   \n",
       "Housing                               0.981278       0.851395  0.936356   \n",
       "Health                                0.967199       0.920110  0.895997   \n",
       "Transport and communication           0.918134       0.971347  0.853697   \n",
       "Recreation and amusement              0.971093       0.917494  0.903154   \n",
       "Education                             0.977767       0.847736  0.910832   \n",
       "Personal care and effects             0.964898       0.921764  0.891989   \n",
       "Miscellaneous                         0.967568       0.931460  0.897843   \n",
       "General index                         0.985070       0.914509  0.924992   \n",
       "\n",
       "                             Vegetables  Fuel and light   Housing    Health  \\\n",
       "Cereals and products           0.582257        0.936357  0.963590  0.952303   \n",
       "Meat and fish                  0.614168        0.932032  0.944540  0.968236   \n",
       "Egg                            0.608180        0.912386  0.931014  0.946648   \n",
       "Milk and products              0.577734        0.945304  0.981278  0.967199   \n",
       "Oils and fats                  0.460572        0.927878  0.851395  0.920110   \n",
       "Fruits                         0.553701        0.891488  0.936356  0.895997   \n",
       "Vegetables                     1.000000        0.493003  0.634510  0.547994   \n",
       "Fuel and light                 0.493003        1.000000  0.927042  0.976021   \n",
       "Housing                        0.634510        0.927042  1.000000  0.974505   \n",
       "Health                         0.547994        0.976021  0.974505  1.000000   \n",
       "Transport and communication    0.524637        0.967982  0.907393  0.972382   \n",
       "Recreation and amusement       0.548237        0.978188  0.973939  0.997594   \n",
       "Education                      0.571334        0.942411  0.994764  0.981640   \n",
       "Personal care and effects      0.594531        0.955313  0.964413  0.985409   \n",
       "Miscellaneous                  0.553092        0.977670  0.970385  0.998284   \n",
       "General index                  0.616267        0.969113  0.980883  0.990248   \n",
       "\n",
       "                             Transport and communication  \\\n",
       "Cereals and products                            0.913571   \n",
       "Meat and fish                                   0.961164   \n",
       "Egg                                             0.936133   \n",
       "Milk and products                               0.918134   \n",
       "Oils and fats                                   0.971347   \n",
       "Fruits                                          0.853697   \n",
       "Vegetables                                      0.524637   \n",
       "Fuel and light                                  0.967982   \n",
       "Housing                                         0.907393   \n",
       "Health                                          0.972382   \n",
       "Transport and communication                     1.000000   \n",
       "Recreation and amusement                        0.970701   \n",
       "Education                                       0.919880   \n",
       "Personal care and effects                       0.970351   \n",
       "Miscellaneous                                   0.981195   \n",
       "General index                                   0.963198   \n",
       "\n",
       "                             Recreation and amusement  Education  \\\n",
       "Cereals and products                         0.952961   0.952354   \n",
       "Meat and fish                                0.966051   0.941889   \n",
       "Egg                                          0.940178   0.920434   \n",
       "Milk and products                            0.971093   0.977767   \n",
       "Oils and fats                                0.917494   0.847736   \n",
       "Fruits                                       0.903154   0.910832   \n",
       "Vegetables                                   0.548237   0.571334   \n",
       "Fuel and light                               0.978188   0.942411   \n",
       "Housing                                      0.973939   0.994764   \n",
       "Health                                       0.997594   0.981640   \n",
       "Transport and communication                  0.970701   0.919880   \n",
       "Recreation and amusement                     1.000000   0.983323   \n",
       "Education                                    0.983323   1.000000   \n",
       "Personal care and effects                    0.981642   0.961293   \n",
       "Miscellaneous                                0.997460   0.977121   \n",
       "General index                                0.990422   0.979515   \n",
       "\n",
       "                             Personal care and effects  Miscellaneous  \\\n",
       "Cereals and products                          0.965539       0.954863   \n",
       "Meat and fish                                 0.986152       0.972195   \n",
       "Egg                                           0.964577       0.949330   \n",
       "Milk and products                             0.964898       0.967568   \n",
       "Oils and fats                                 0.921764       0.931460   \n",
       "Fruits                                        0.891989       0.897843   \n",
       "Vegetables                                    0.594531       0.553092   \n",
       "Fuel and light                                0.955313       0.977670   \n",
       "Housing                                       0.964413       0.970385   \n",
       "Health                                        0.985409       0.998284   \n",
       "Transport and communication                   0.970351       0.981195   \n",
       "Recreation and amusement                      0.981642       0.997460   \n",
       "Education                                     0.961293       0.977121   \n",
       "Personal care and effects                     1.000000       0.988381   \n",
       "Miscellaneous                                 0.988381       1.000000   \n",
       "General index                                 0.988399       0.991833   \n",
       "\n",
       "                             General index  \n",
       "Cereals and products              0.969758  \n",
       "Meat and fish                     0.975611  \n",
       "Egg                               0.954838  \n",
       "Milk and products                 0.985070  \n",
       "Oils and fats                     0.914509  \n",
       "Fruits                            0.924992  \n",
       "Vegetables                        0.616267  \n",
       "Fuel and light                    0.969113  \n",
       "Housing                           0.980883  \n",
       "Health                            0.990248  \n",
       "Transport and communication       0.963198  \n",
       "Recreation and amusement          0.990422  \n",
       "Education                         0.979515  \n",
       "Personal care and effects         0.988399  \n",
       "Miscellaneous                     0.991833  \n",
       "General index                     1.000000  "
      ]
     },
     "execution_count": 595,
     "metadata": {},
     "output_type": "execute_result"
    }
   ],
   "source": [
    "cpi_categories.corr()"
   ]
  },
  {
   "cell_type": "code",
   "execution_count": 596,
   "metadata": {},
   "outputs": [
    {
     "data": {
      "application/vnd.plotly.v1+json": {
       "config": {
        "plotlyServerURL": "https://plot.ly"
       },
       "data": [
        {
         "coloraxis": "coloraxis",
         "hovertemplate": "x: %{x}<br>y: %{y}<br>color: %{z}<extra></extra>",
         "name": "0",
         "texttemplate": "%{z}",
         "type": "heatmap",
         "x": [
          "Cereals and products",
          "Meat and fish",
          "Egg",
          "Milk and products",
          "Oils and fats",
          "Fruits",
          "Vegetables",
          "Fuel and light",
          "Housing",
          "Health",
          "Transport and communication",
          "Recreation and amusement",
          "Education",
          "Personal care and effects",
          "Miscellaneous",
          "General index"
         ],
         "xaxis": "x",
         "y": [
          "Cereals and products",
          "Meat and fish",
          "Egg",
          "Milk and products",
          "Oils and fats",
          "Fruits",
          "Vegetables",
          "Fuel and light",
          "Housing",
          "Health",
          "Transport and communication",
          "Recreation and amusement",
          "Education",
          "Personal care and effects",
          "Miscellaneous",
          "General index"
         ],
         "yaxis": "y",
         "z": [
          [
           1,
           0.9360877919824674,
           0.9202982223513222,
           0.978281262447061,
           0.8357401325550592,
           0.9042044591743121,
           0.5822573340647139,
           0.9363571686053936,
           0.9635898980898835,
           0.9523033367324775,
           0.9135713387581706,
           0.9529609354338041,
           0.9523539103326988,
           0.9655392593859387,
           0.9548634328364662,
           0.9697576272196922
          ],
          [
           0.9360877919824674,
           1,
           0.9584861278972161,
           0.9480474565596585,
           0.9294132009877166,
           0.8931575789369516,
           0.6141681704839821,
           0.932032195926322,
           0.9445397346673052,
           0.9682362545253086,
           0.9611638776866945,
           0.9660511486072961,
           0.9418892163485107,
           0.9861522093889229,
           0.972195143514418,
           0.9756109447153164
          ],
          [
           0.9202982223513222,
           0.9584861278972161,
           1,
           0.927768911455175,
           0.9026055591594517,
           0.8461742822895263,
           0.608179596757977,
           0.9123857045540062,
           0.9310140500314414,
           0.9466476775839283,
           0.9361331861208722,
           0.9401778966712451,
           0.9204335961954387,
           0.9645767648531413,
           0.9493297662955391,
           0.9548375520828466
          ],
          [
           0.978281262447061,
           0.9480474565596585,
           0.927768911455175,
           1,
           0.8569293788355229,
           0.9411878720313761,
           0.5777338058957144,
           0.9453038783297231,
           0.981278211333844,
           0.9671992292814159,
           0.9181344069335955,
           0.9710933990208683,
           0.9777668189841713,
           0.9648981943655325,
           0.9675681439143591,
           0.9850695084124899
          ],
          [
           0.8357401325550592,
           0.9294132009877166,
           0.9026055591594517,
           0.8569293788355229,
           1,
           0.8080593993520669,
           0.46057248000029316,
           0.927877751511446,
           0.8513953156065012,
           0.9201103571847873,
           0.9713470948151319,
           0.9174936187109728,
           0.8477359064434071,
           0.9217637123569772,
           0.9314597386196878,
           0.9145088897600417
          ],
          [
           0.9042044591743121,
           0.8931575789369516,
           0.8461742822895263,
           0.9411878720313761,
           0.8080593993520669,
           1,
           0.5537006270807856,
           0.8914880068347111,
           0.9363555734029679,
           0.8959970960904693,
           0.8536968493056951,
           0.9031538751345424,
           0.910831720108333,
           0.8919888190941803,
           0.8978430110395801,
           0.9249916807673818
          ],
          [
           0.5822573340647139,
           0.6141681704839821,
           0.608179596757977,
           0.5777338058957144,
           0.46057248000029316,
           0.5537006270807856,
           1,
           0.4930028125404642,
           0.6345100316217983,
           0.5479941610182567,
           0.5246369388622535,
           0.5482366723633494,
           0.5713339064017597,
           0.5945313109011872,
           0.553092086082289,
           0.6162667667527492
          ],
          [
           0.9363571686053936,
           0.932032195926322,
           0.9123857045540062,
           0.9453038783297231,
           0.927877751511446,
           0.8914880068347111,
           0.4930028125404642,
           1,
           0.9270421456973797,
           0.9760206794499409,
           0.9679815677465633,
           0.9781876001918002,
           0.9424113522848888,
           0.9553125302923398,
           0.9776695086189372,
           0.969113268739208
          ],
          [
           0.9635898980898835,
           0.9445397346673052,
           0.9310140500314414,
           0.981278211333844,
           0.8513953156065012,
           0.9363555734029679,
           0.6345100316217983,
           0.9270421456973797,
           1,
           0.9745054279728496,
           0.9073931128482562,
           0.9739394199655806,
           0.9947643939949137,
           0.9644130334633648,
           0.9703852812700087,
           0.9808832304717523
          ],
          [
           0.9523033367324775,
           0.9682362545253086,
           0.9466476775839283,
           0.9671992292814159,
           0.9201103571847873,
           0.8959970960904693,
           0.5479941610182567,
           0.9760206794499409,
           0.9745054279728496,
           1,
           0.9723821166474416,
           0.9975938118277967,
           0.9816396441870485,
           0.9854086948995187,
           0.9982838035068632,
           0.9902479076532051
          ],
          [
           0.9135713387581706,
           0.9611638776866945,
           0.9361331861208722,
           0.9181344069335955,
           0.9713470948151319,
           0.8536968493056951,
           0.5246369388622535,
           0.9679815677465633,
           0.9073931128482562,
           0.9723821166474416,
           1,
           0.9707008585352229,
           0.9198802525785573,
           0.9703508235326034,
           0.981195346639646,
           0.9631981636637778
          ],
          [
           0.9529609354338041,
           0.9660511486072961,
           0.9401778966712451,
           0.9710933990208683,
           0.9174936187109728,
           0.9031538751345424,
           0.5482366723633494,
           0.9781876001918002,
           0.9739394199655806,
           0.9975938118277967,
           0.9707008585352229,
           1,
           0.9833231940512024,
           0.9816419832058109,
           0.9974596379888155,
           0.9904221958227812
          ],
          [
           0.9523539103326988,
           0.9418892163485107,
           0.9204335961954387,
           0.9777668189841713,
           0.8477359064434071,
           0.910831720108333,
           0.5713339064017597,
           0.9424113522848888,
           0.9947643939949137,
           0.9816396441870485,
           0.9198802525785573,
           0.9833231940512024,
           1,
           0.9612926958815378,
           0.9771206499737997,
           0.9795150560149901
          ],
          [
           0.9655392593859387,
           0.9861522093889229,
           0.9645767648531413,
           0.9648981943655325,
           0.9217637123569772,
           0.8919888190941803,
           0.5945313109011872,
           0.9553125302923398,
           0.9644130334633648,
           0.9854086948995187,
           0.9703508235326034,
           0.9816419832058109,
           0.9612926958815378,
           1,
           0.9883812814223538,
           0.9883985951826925
          ],
          [
           0.9548634328364662,
           0.972195143514418,
           0.9493297662955391,
           0.9675681439143591,
           0.9314597386196878,
           0.8978430110395801,
           0.553092086082289,
           0.9776695086189372,
           0.9703852812700087,
           0.9982838035068632,
           0.981195346639646,
           0.9974596379888155,
           0.9771206499737997,
           0.9883812814223538,
           1,
           0.99183282176315
          ],
          [
           0.9697576272196922,
           0.9756109447153164,
           0.9548375520828466,
           0.9850695084124899,
           0.9145088897600417,
           0.9249916807673818,
           0.6162667667527492,
           0.969113268739208,
           0.9808832304717523,
           0.9902479076532051,
           0.9631981636637778,
           0.9904221958227812,
           0.9795150560149901,
           0.9883985951826925,
           0.99183282176315,
           1
          ]
         ]
        }
       ],
       "layout": {
        "coloraxis": {
         "cmax": 1,
         "cmin": -1,
         "colorscale": [
          [
           0,
           "rgb(5,48,97)"
          ],
          [
           0.1,
           "rgb(33,102,172)"
          ],
          [
           0.2,
           "rgb(67,147,195)"
          ],
          [
           0.3,
           "rgb(146,197,222)"
          ],
          [
           0.4,
           "rgb(209,229,240)"
          ],
          [
           0.5,
           "rgb(247,247,247)"
          ],
          [
           0.6,
           "rgb(253,219,199)"
          ],
          [
           0.7,
           "rgb(244,165,130)"
          ],
          [
           0.8,
           "rgb(214,96,77)"
          ],
          [
           0.9,
           "rgb(178,24,43)"
          ],
          [
           1,
           "rgb(103,0,31)"
          ]
         ]
        },
        "template": {
         "data": {
          "bar": [
           {
            "error_x": {
             "color": "#2a3f5f"
            },
            "error_y": {
             "color": "#2a3f5f"
            },
            "marker": {
             "line": {
              "color": "#E5ECF6",
              "width": 0.5
             },
             "pattern": {
              "fillmode": "overlay",
              "size": 10,
              "solidity": 0.2
             }
            },
            "type": "bar"
           }
          ],
          "barpolar": [
           {
            "marker": {
             "line": {
              "color": "#E5ECF6",
              "width": 0.5
             },
             "pattern": {
              "fillmode": "overlay",
              "size": 10,
              "solidity": 0.2
             }
            },
            "type": "barpolar"
           }
          ],
          "carpet": [
           {
            "aaxis": {
             "endlinecolor": "#2a3f5f",
             "gridcolor": "white",
             "linecolor": "white",
             "minorgridcolor": "white",
             "startlinecolor": "#2a3f5f"
            },
            "baxis": {
             "endlinecolor": "#2a3f5f",
             "gridcolor": "white",
             "linecolor": "white",
             "minorgridcolor": "white",
             "startlinecolor": "#2a3f5f"
            },
            "type": "carpet"
           }
          ],
          "choropleth": [
           {
            "colorbar": {
             "outlinewidth": 0,
             "ticks": ""
            },
            "type": "choropleth"
           }
          ],
          "contour": [
           {
            "colorbar": {
             "outlinewidth": 0,
             "ticks": ""
            },
            "colorscale": [
             [
              0,
              "#0d0887"
             ],
             [
              0.1111111111111111,
              "#46039f"
             ],
             [
              0.2222222222222222,
              "#7201a8"
             ],
             [
              0.3333333333333333,
              "#9c179e"
             ],
             [
              0.4444444444444444,
              "#bd3786"
             ],
             [
              0.5555555555555556,
              "#d8576b"
             ],
             [
              0.6666666666666666,
              "#ed7953"
             ],
             [
              0.7777777777777778,
              "#fb9f3a"
             ],
             [
              0.8888888888888888,
              "#fdca26"
             ],
             [
              1,
              "#f0f921"
             ]
            ],
            "type": "contour"
           }
          ],
          "contourcarpet": [
           {
            "colorbar": {
             "outlinewidth": 0,
             "ticks": ""
            },
            "type": "contourcarpet"
           }
          ],
          "heatmap": [
           {
            "colorbar": {
             "outlinewidth": 0,
             "ticks": ""
            },
            "colorscale": [
             [
              0,
              "#0d0887"
             ],
             [
              0.1111111111111111,
              "#46039f"
             ],
             [
              0.2222222222222222,
              "#7201a8"
             ],
             [
              0.3333333333333333,
              "#9c179e"
             ],
             [
              0.4444444444444444,
              "#bd3786"
             ],
             [
              0.5555555555555556,
              "#d8576b"
             ],
             [
              0.6666666666666666,
              "#ed7953"
             ],
             [
              0.7777777777777778,
              "#fb9f3a"
             ],
             [
              0.8888888888888888,
              "#fdca26"
             ],
             [
              1,
              "#f0f921"
             ]
            ],
            "type": "heatmap"
           }
          ],
          "heatmapgl": [
           {
            "colorbar": {
             "outlinewidth": 0,
             "ticks": ""
            },
            "colorscale": [
             [
              0,
              "#0d0887"
             ],
             [
              0.1111111111111111,
              "#46039f"
             ],
             [
              0.2222222222222222,
              "#7201a8"
             ],
             [
              0.3333333333333333,
              "#9c179e"
             ],
             [
              0.4444444444444444,
              "#bd3786"
             ],
             [
              0.5555555555555556,
              "#d8576b"
             ],
             [
              0.6666666666666666,
              "#ed7953"
             ],
             [
              0.7777777777777778,
              "#fb9f3a"
             ],
             [
              0.8888888888888888,
              "#fdca26"
             ],
             [
              1,
              "#f0f921"
             ]
            ],
            "type": "heatmapgl"
           }
          ],
          "histogram": [
           {
            "marker": {
             "pattern": {
              "fillmode": "overlay",
              "size": 10,
              "solidity": 0.2
             }
            },
            "type": "histogram"
           }
          ],
          "histogram2d": [
           {
            "colorbar": {
             "outlinewidth": 0,
             "ticks": ""
            },
            "colorscale": [
             [
              0,
              "#0d0887"
             ],
             [
              0.1111111111111111,
              "#46039f"
             ],
             [
              0.2222222222222222,
              "#7201a8"
             ],
             [
              0.3333333333333333,
              "#9c179e"
             ],
             [
              0.4444444444444444,
              "#bd3786"
             ],
             [
              0.5555555555555556,
              "#d8576b"
             ],
             [
              0.6666666666666666,
              "#ed7953"
             ],
             [
              0.7777777777777778,
              "#fb9f3a"
             ],
             [
              0.8888888888888888,
              "#fdca26"
             ],
             [
              1,
              "#f0f921"
             ]
            ],
            "type": "histogram2d"
           }
          ],
          "histogram2dcontour": [
           {
            "colorbar": {
             "outlinewidth": 0,
             "ticks": ""
            },
            "colorscale": [
             [
              0,
              "#0d0887"
             ],
             [
              0.1111111111111111,
              "#46039f"
             ],
             [
              0.2222222222222222,
              "#7201a8"
             ],
             [
              0.3333333333333333,
              "#9c179e"
             ],
             [
              0.4444444444444444,
              "#bd3786"
             ],
             [
              0.5555555555555556,
              "#d8576b"
             ],
             [
              0.6666666666666666,
              "#ed7953"
             ],
             [
              0.7777777777777778,
              "#fb9f3a"
             ],
             [
              0.8888888888888888,
              "#fdca26"
             ],
             [
              1,
              "#f0f921"
             ]
            ],
            "type": "histogram2dcontour"
           }
          ],
          "mesh3d": [
           {
            "colorbar": {
             "outlinewidth": 0,
             "ticks": ""
            },
            "type": "mesh3d"
           }
          ],
          "parcoords": [
           {
            "line": {
             "colorbar": {
              "outlinewidth": 0,
              "ticks": ""
             }
            },
            "type": "parcoords"
           }
          ],
          "pie": [
           {
            "automargin": true,
            "type": "pie"
           }
          ],
          "scatter": [
           {
            "fillpattern": {
             "fillmode": "overlay",
             "size": 10,
             "solidity": 0.2
            },
            "type": "scatter"
           }
          ],
          "scatter3d": [
           {
            "line": {
             "colorbar": {
              "outlinewidth": 0,
              "ticks": ""
             }
            },
            "marker": {
             "colorbar": {
              "outlinewidth": 0,
              "ticks": ""
             }
            },
            "type": "scatter3d"
           }
          ],
          "scattercarpet": [
           {
            "marker": {
             "colorbar": {
              "outlinewidth": 0,
              "ticks": ""
             }
            },
            "type": "scattercarpet"
           }
          ],
          "scattergeo": [
           {
            "marker": {
             "colorbar": {
              "outlinewidth": 0,
              "ticks": ""
             }
            },
            "type": "scattergeo"
           }
          ],
          "scattergl": [
           {
            "marker": {
             "colorbar": {
              "outlinewidth": 0,
              "ticks": ""
             }
            },
            "type": "scattergl"
           }
          ],
          "scattermapbox": [
           {
            "marker": {
             "colorbar": {
              "outlinewidth": 0,
              "ticks": ""
             }
            },
            "type": "scattermapbox"
           }
          ],
          "scatterpolar": [
           {
            "marker": {
             "colorbar": {
              "outlinewidth": 0,
              "ticks": ""
             }
            },
            "type": "scatterpolar"
           }
          ],
          "scatterpolargl": [
           {
            "marker": {
             "colorbar": {
              "outlinewidth": 0,
              "ticks": ""
             }
            },
            "type": "scatterpolargl"
           }
          ],
          "scatterternary": [
           {
            "marker": {
             "colorbar": {
              "outlinewidth": 0,
              "ticks": ""
             }
            },
            "type": "scatterternary"
           }
          ],
          "surface": [
           {
            "colorbar": {
             "outlinewidth": 0,
             "ticks": ""
            },
            "colorscale": [
             [
              0,
              "#0d0887"
             ],
             [
              0.1111111111111111,
              "#46039f"
             ],
             [
              0.2222222222222222,
              "#7201a8"
             ],
             [
              0.3333333333333333,
              "#9c179e"
             ],
             [
              0.4444444444444444,
              "#bd3786"
             ],
             [
              0.5555555555555556,
              "#d8576b"
             ],
             [
              0.6666666666666666,
              "#ed7953"
             ],
             [
              0.7777777777777778,
              "#fb9f3a"
             ],
             [
              0.8888888888888888,
              "#fdca26"
             ],
             [
              1,
              "#f0f921"
             ]
            ],
            "type": "surface"
           }
          ],
          "table": [
           {
            "cells": {
             "fill": {
              "color": "#EBF0F8"
             },
             "line": {
              "color": "white"
             }
            },
            "header": {
             "fill": {
              "color": "#C8D4E3"
             },
             "line": {
              "color": "white"
             }
            },
            "type": "table"
           }
          ]
         },
         "layout": {
          "annotationdefaults": {
           "arrowcolor": "#2a3f5f",
           "arrowhead": 0,
           "arrowwidth": 1
          },
          "autotypenumbers": "strict",
          "coloraxis": {
           "colorbar": {
            "outlinewidth": 0,
            "ticks": ""
           }
          },
          "colorscale": {
           "diverging": [
            [
             0,
             "#8e0152"
            ],
            [
             0.1,
             "#c51b7d"
            ],
            [
             0.2,
             "#de77ae"
            ],
            [
             0.3,
             "#f1b6da"
            ],
            [
             0.4,
             "#fde0ef"
            ],
            [
             0.5,
             "#f7f7f7"
            ],
            [
             0.6,
             "#e6f5d0"
            ],
            [
             0.7,
             "#b8e186"
            ],
            [
             0.8,
             "#7fbc41"
            ],
            [
             0.9,
             "#4d9221"
            ],
            [
             1,
             "#276419"
            ]
           ],
           "sequential": [
            [
             0,
             "#0d0887"
            ],
            [
             0.1111111111111111,
             "#46039f"
            ],
            [
             0.2222222222222222,
             "#7201a8"
            ],
            [
             0.3333333333333333,
             "#9c179e"
            ],
            [
             0.4444444444444444,
             "#bd3786"
            ],
            [
             0.5555555555555556,
             "#d8576b"
            ],
            [
             0.6666666666666666,
             "#ed7953"
            ],
            [
             0.7777777777777778,
             "#fb9f3a"
            ],
            [
             0.8888888888888888,
             "#fdca26"
            ],
            [
             1,
             "#f0f921"
            ]
           ],
           "sequentialminus": [
            [
             0,
             "#0d0887"
            ],
            [
             0.1111111111111111,
             "#46039f"
            ],
            [
             0.2222222222222222,
             "#7201a8"
            ],
            [
             0.3333333333333333,
             "#9c179e"
            ],
            [
             0.4444444444444444,
             "#bd3786"
            ],
            [
             0.5555555555555556,
             "#d8576b"
            ],
            [
             0.6666666666666666,
             "#ed7953"
            ],
            [
             0.7777777777777778,
             "#fb9f3a"
            ],
            [
             0.8888888888888888,
             "#fdca26"
            ],
            [
             1,
             "#f0f921"
            ]
           ]
          },
          "colorway": [
           "#636efa",
           "#EF553B",
           "#00cc96",
           "#ab63fa",
           "#FFA15A",
           "#19d3f3",
           "#FF6692",
           "#B6E880",
           "#FF97FF",
           "#FECB52"
          ],
          "font": {
           "color": "#2a3f5f"
          },
          "geo": {
           "bgcolor": "white",
           "lakecolor": "white",
           "landcolor": "#E5ECF6",
           "showlakes": true,
           "showland": true,
           "subunitcolor": "white"
          },
          "hoverlabel": {
           "align": "left"
          },
          "hovermode": "closest",
          "mapbox": {
           "style": "light"
          },
          "paper_bgcolor": "white",
          "plot_bgcolor": "#E5ECF6",
          "polar": {
           "angularaxis": {
            "gridcolor": "white",
            "linecolor": "white",
            "ticks": ""
           },
           "bgcolor": "#E5ECF6",
           "radialaxis": {
            "gridcolor": "white",
            "linecolor": "white",
            "ticks": ""
           }
          },
          "scene": {
           "xaxis": {
            "backgroundcolor": "#E5ECF6",
            "gridcolor": "white",
            "gridwidth": 2,
            "linecolor": "white",
            "showbackground": true,
            "ticks": "",
            "zerolinecolor": "white"
           },
           "yaxis": {
            "backgroundcolor": "#E5ECF6",
            "gridcolor": "white",
            "gridwidth": 2,
            "linecolor": "white",
            "showbackground": true,
            "ticks": "",
            "zerolinecolor": "white"
           },
           "zaxis": {
            "backgroundcolor": "#E5ECF6",
            "gridcolor": "white",
            "gridwidth": 2,
            "linecolor": "white",
            "showbackground": true,
            "ticks": "",
            "zerolinecolor": "white"
           }
          },
          "shapedefaults": {
           "line": {
            "color": "#2a3f5f"
           }
          },
          "ternary": {
           "aaxis": {
            "gridcolor": "white",
            "linecolor": "white",
            "ticks": ""
           },
           "baxis": {
            "gridcolor": "white",
            "linecolor": "white",
            "ticks": ""
           },
           "bgcolor": "#E5ECF6",
           "caxis": {
            "gridcolor": "white",
            "linecolor": "white",
            "ticks": ""
           }
          },
          "title": {
           "x": 0.05
          },
          "xaxis": {
           "automargin": true,
           "gridcolor": "white",
           "linecolor": "white",
           "ticks": "",
           "title": {
            "standoff": 15
           },
           "zerolinecolor": "white",
           "zerolinewidth": 2
          },
          "yaxis": {
           "automargin": true,
           "gridcolor": "white",
           "linecolor": "white",
           "ticks": "",
           "title": {
            "standoff": 15
           },
           "zerolinecolor": "white",
           "zerolinewidth": 2
          }
         }
        },
        "title": {
         "text": "Correlation between CPI Categories and General Index"
        },
        "xaxis": {
         "anchor": "y",
         "constrain": "domain",
         "domain": [
          0,
          1
         ],
         "scaleanchor": "y",
         "title": {
          "text": "CPI Category"
         }
        },
        "yaxis": {
         "anchor": "x",
         "autorange": "reversed",
         "constrain": "domain",
         "domain": [
          0,
          1
         ],
         "title": {
          "text": "CPI Category"
         }
        }
       }
      }
     },
     "metadata": {},
     "output_type": "display_data"
    }
   ],
   "source": [
    "fig= px.imshow(cpi_categories.corr(),text_auto=True, color_continuous_scale='RdBu_r', zmin=-1, zmax=1,\n",
    "                title='Correlation between CPI Categories and General Index')\n",
    "fig.update_layout(xaxis_title='CPI Category', yaxis_title='CPI Category')\n",
    "fig.show()"
   ]
  },
  {
   "cell_type": "code",
   "execution_count": 597,
   "metadata": {},
   "outputs": [],
   "source": [
    "sectors = ['Fuel and light', 'Health', 'Housing', 'Cereals and products']\n",
    "sector_data = Rural_Urban_cpi[sectors].fillna(method='ffill').reset_index()"
   ]
  },
  {
   "cell_type": "code",
   "execution_count": 598,
   "metadata": {},
   "outputs": [
    {
     "name": "stdout",
     "output_type": "stream",
     "text": [
      "          Date  Fuel and light  Health Housing  Cereals and products\n",
      "0   2013-01-01           105.5   104.0   100.3                 108.4\n",
      "1   2013-02-01           106.0   104.5   100.4                 110.4\n",
      "2   2013-03-01           106.1   104.9   100.4                 111.4\n",
      "3   2013-04-01           106.5   105.3   100.5                 111.6\n",
      "4   2013-05-01           107.4   105.9   100.5                 112.3\n",
      "..         ...             ...     ...     ...                   ...\n",
      "116 2022-10-01           180.5   178.7   171.2                 165.2\n",
      "117 2022-11-01           181.3   179.8   171.8                 167.4\n",
      "118 2022-12-01           182.0   181.1   170.7                 169.2\n",
      "119 2023-01-01           182.0   182.3   172.1                 173.8\n",
      "120 2023-02-01           182.1   184.4   173.5                 174.4\n",
      "\n",
      "[121 rows x 5 columns]\n"
     ]
    }
   ],
   "source": [
    "print(sector_data)"
   ]
  },
  {
   "cell_type": "code",
   "execution_count": 603,
   "metadata": {},
   "outputs": [
    {
     "data": {
      "application/vnd.plotly.v1+json": {
       "config": {
        "plotlyServerURL": "https://plot.ly"
       },
       "data": [
        {
         "name": "Fuel and light",
         "type": "scatter",
         "x": [
          "2013-01-01T00:00:00",
          "2013-02-01T00:00:00",
          "2013-03-01T00:00:00",
          "2013-04-01T00:00:00",
          "2013-05-01T00:00:00",
          "2013-06-01T00:00:00",
          "2013-07-01T00:00:00",
          "2013-08-01T00:00:00",
          "2013-09-01T00:00:00",
          "2013-10-01T00:00:00",
          "2013-11-01T00:00:00",
          "2013-12-01T00:00:00",
          "2014-01-01T00:00:00",
          "2014-02-01T00:00:00",
          "2014-03-01T00:00:00",
          "2014-04-01T00:00:00",
          "2014-05-01T00:00:00",
          "2014-06-01T00:00:00",
          "2014-07-01T00:00:00",
          "2014-08-01T00:00:00",
          "2014-09-01T00:00:00",
          "2014-10-01T00:00:00",
          "2014-11-01T00:00:00",
          "2014-12-01T00:00:00",
          "2015-01-01T00:00:00",
          "2015-02-01T00:00:00",
          "2015-03-01T00:00:00",
          "2015-04-01T00:00:00",
          "2015-05-01T00:00:00",
          "2015-06-01T00:00:00",
          "2015-07-01T00:00:00",
          "2015-08-01T00:00:00",
          "2015-09-01T00:00:00",
          "2015-10-01T00:00:00",
          "2015-11-01T00:00:00",
          "2015-12-01T00:00:00",
          "2016-01-01T00:00:00",
          "2016-02-01T00:00:00",
          "2016-03-01T00:00:00",
          "2016-04-01T00:00:00",
          "2016-05-01T00:00:00",
          "2016-06-01T00:00:00",
          "2016-07-01T00:00:00",
          "2016-08-01T00:00:00",
          "2016-09-01T00:00:00",
          "2016-10-01T00:00:00",
          "2016-11-01T00:00:00",
          "2016-12-01T00:00:00",
          "2017-01-01T00:00:00",
          "2017-02-01T00:00:00",
          "2017-03-01T00:00:00",
          "2017-04-01T00:00:00",
          "2017-05-01T00:00:00",
          "2017-06-01T00:00:00",
          "2017-07-01T00:00:00",
          "2017-08-01T00:00:00",
          "2017-09-01T00:00:00",
          "2017-10-01T00:00:00",
          "2017-11-01T00:00:00",
          "2017-12-01T00:00:00",
          "2018-01-01T00:00:00",
          "2018-02-01T00:00:00",
          "2018-03-01T00:00:00",
          "2018-04-01T00:00:00",
          "2018-05-01T00:00:00",
          "2018-06-01T00:00:00",
          "2018-07-01T00:00:00",
          "2018-08-01T00:00:00",
          "2018-09-01T00:00:00",
          "2018-10-01T00:00:00",
          "2018-11-01T00:00:00",
          "2018-12-01T00:00:00",
          "2019-01-01T00:00:00",
          "2019-02-01T00:00:00",
          "2019-03-01T00:00:00",
          "2019-05-01T00:00:00",
          "2019-06-01T00:00:00",
          "2019-07-01T00:00:00",
          "2019-08-01T00:00:00",
          "2019-09-01T00:00:00",
          "2019-10-01T00:00:00",
          "2019-11-01T00:00:00",
          "2019-12-01T00:00:00",
          "2020-01-01T00:00:00",
          "2020-02-01T00:00:00",
          "2020-03-01T00:00:00",
          "2020-04-01T00:00:00",
          "2020-05-01T00:00:00",
          "2020-06-01T00:00:00",
          "2020-07-01T00:00:00",
          "2020-08-01T00:00:00",
          "2020-09-01T00:00:00",
          "2020-10-01T00:00:00",
          "2020-11-01T00:00:00",
          "2020-12-01T00:00:00",
          "2021-01-01T00:00:00",
          "2021-02-01T00:00:00",
          "2021-03-01T00:00:00",
          "2021-04-01T00:00:00",
          "2021-05-01T00:00:00",
          "2021-06-01T00:00:00",
          "2021-07-01T00:00:00",
          "2021-08-01T00:00:00",
          "2021-09-01T00:00:00",
          "2021-10-01T00:00:00",
          "2021-11-01T00:00:00",
          "2021-12-01T00:00:00",
          "2022-01-01T00:00:00",
          "2022-02-01T00:00:00",
          "2022-03-01T00:00:00",
          "2022-04-01T00:00:00",
          "2022-05-01T00:00:00",
          "2022-06-01T00:00:00",
          "2022-07-01T00:00:00",
          "2022-08-01T00:00:00",
          "2022-09-01T00:00:00",
          "2022-10-01T00:00:00",
          "2022-11-01T00:00:00",
          "2022-12-01T00:00:00",
          "2023-01-01T00:00:00",
          "2023-02-01T00:00:00"
         ],
         "y": [
          105.5,
          106,
          106.1,
          106.5,
          107.4,
          108.3,
          109.2,
          109.7,
          110.5,
          110.9,
          111.6,
          111.9,
          112.2,
          112.4,
          112.5,
          112.5,
          112.5,
          113.2,
          113.9,
          114,
          114.3,
          114.7,
          115.5,
          115.7,
          116.5,
          117.7,
          118.3,
          118.7,
          119.2,
          119.8,
          120.1,
          120.6,
          120.4,
          120.8,
          121.6,
          122,
          122.7,
          123.1,
          122.4,
          122.3,
          122.7,
          123.3,
          123.4,
          123.6,
          124.1,
          124.3,
          125,
          126.6,
          126.8,
          127.9,
          129.1,
          129.8,
          129.4,
          128.8,
          129.4,
          129.8,
          131,
          132.2,
          135.3,
          136.6,
          136.6,
          136.7,
          136.5,
          136.5,
          136.9,
          138.1,
          139.7,
          140.9,
          142.3,
          145.3,
          145.1,
          142.7,
          139.5,
          138.4,
          139.7,
          140.3,
          141.2,
          139.3,
          138.5,
          139.2,
          140.6,
          142.3,
          143.7,
          144.6,
          147.2,
          148.9,
          144.1,
          144.1,
          141.9,
          141.9,
          143,
          142.9,
          143.1,
          143.6,
          144.6,
          147.9,
          152.4,
          155.5,
          155.6,
          159.4,
          159.8,
          160.7,
          162.6,
          162.6,
          164.2,
          163.9,
          164.1,
          164.2,
          165.7,
          167.2,
          172.2,
          174.6,
          176,
          179.6,
          178.8,
          179.5,
          180.5,
          181.3,
          182,
          182,
          182.1
         ]
        },
        {
         "name": "Health",
         "type": "scatter",
         "x": [
          "2013-01-01T00:00:00",
          "2013-02-01T00:00:00",
          "2013-03-01T00:00:00",
          "2013-04-01T00:00:00",
          "2013-05-01T00:00:00",
          "2013-06-01T00:00:00",
          "2013-07-01T00:00:00",
          "2013-08-01T00:00:00",
          "2013-09-01T00:00:00",
          "2013-10-01T00:00:00",
          "2013-11-01T00:00:00",
          "2013-12-01T00:00:00",
          "2014-01-01T00:00:00",
          "2014-02-01T00:00:00",
          "2014-03-01T00:00:00",
          "2014-04-01T00:00:00",
          "2014-05-01T00:00:00",
          "2014-06-01T00:00:00",
          "2014-07-01T00:00:00",
          "2014-08-01T00:00:00",
          "2014-09-01T00:00:00",
          "2014-10-01T00:00:00",
          "2014-11-01T00:00:00",
          "2014-12-01T00:00:00",
          "2015-01-01T00:00:00",
          "2015-02-01T00:00:00",
          "2015-03-01T00:00:00",
          "2015-04-01T00:00:00",
          "2015-05-01T00:00:00",
          "2015-06-01T00:00:00",
          "2015-07-01T00:00:00",
          "2015-08-01T00:00:00",
          "2015-09-01T00:00:00",
          "2015-10-01T00:00:00",
          "2015-11-01T00:00:00",
          "2015-12-01T00:00:00",
          "2016-01-01T00:00:00",
          "2016-02-01T00:00:00",
          "2016-03-01T00:00:00",
          "2016-04-01T00:00:00",
          "2016-05-01T00:00:00",
          "2016-06-01T00:00:00",
          "2016-07-01T00:00:00",
          "2016-08-01T00:00:00",
          "2016-09-01T00:00:00",
          "2016-10-01T00:00:00",
          "2016-11-01T00:00:00",
          "2016-12-01T00:00:00",
          "2017-01-01T00:00:00",
          "2017-02-01T00:00:00",
          "2017-03-01T00:00:00",
          "2017-04-01T00:00:00",
          "2017-05-01T00:00:00",
          "2017-06-01T00:00:00",
          "2017-07-01T00:00:00",
          "2017-08-01T00:00:00",
          "2017-09-01T00:00:00",
          "2017-10-01T00:00:00",
          "2017-11-01T00:00:00",
          "2017-12-01T00:00:00",
          "2018-01-01T00:00:00",
          "2018-02-01T00:00:00",
          "2018-03-01T00:00:00",
          "2018-04-01T00:00:00",
          "2018-05-01T00:00:00",
          "2018-06-01T00:00:00",
          "2018-07-01T00:00:00",
          "2018-08-01T00:00:00",
          "2018-09-01T00:00:00",
          "2018-10-01T00:00:00",
          "2018-11-01T00:00:00",
          "2018-12-01T00:00:00",
          "2019-01-01T00:00:00",
          "2019-02-01T00:00:00",
          "2019-03-01T00:00:00",
          "2019-05-01T00:00:00",
          "2019-06-01T00:00:00",
          "2019-07-01T00:00:00",
          "2019-08-01T00:00:00",
          "2019-09-01T00:00:00",
          "2019-10-01T00:00:00",
          "2019-11-01T00:00:00",
          "2019-12-01T00:00:00",
          "2020-01-01T00:00:00",
          "2020-02-01T00:00:00",
          "2020-03-01T00:00:00",
          "2020-04-01T00:00:00",
          "2020-05-01T00:00:00",
          "2020-06-01T00:00:00",
          "2020-07-01T00:00:00",
          "2020-08-01T00:00:00",
          "2020-09-01T00:00:00",
          "2020-10-01T00:00:00",
          "2020-11-01T00:00:00",
          "2020-12-01T00:00:00",
          "2021-01-01T00:00:00",
          "2021-02-01T00:00:00",
          "2021-03-01T00:00:00",
          "2021-04-01T00:00:00",
          "2021-05-01T00:00:00",
          "2021-06-01T00:00:00",
          "2021-07-01T00:00:00",
          "2021-08-01T00:00:00",
          "2021-09-01T00:00:00",
          "2021-10-01T00:00:00",
          "2021-11-01T00:00:00",
          "2021-12-01T00:00:00",
          "2022-01-01T00:00:00",
          "2022-02-01T00:00:00",
          "2022-03-01T00:00:00",
          "2022-04-01T00:00:00",
          "2022-05-01T00:00:00",
          "2022-06-01T00:00:00",
          "2022-07-01T00:00:00",
          "2022-08-01T00:00:00",
          "2022-09-01T00:00:00",
          "2022-10-01T00:00:00",
          "2022-11-01T00:00:00",
          "2022-12-01T00:00:00",
          "2023-01-01T00:00:00",
          "2023-02-01T00:00:00"
         ],
         "y": [
          104,
          104.5,
          104.9,
          105.3,
          105.9,
          106.4,
          107,
          107.5,
          108.1,
          108.6,
          109.3,
          109.7,
          110.3,
          110.7,
          111.2,
          111.5,
          111.8,
          112.3,
          112.7,
          113.3,
          113.7,
          114.3,
          114.8,
          115.1,
          115.5,
          116.3,
          116.7,
          117.1,
          117.7,
          118.5,
          119,
          119.4,
          119.8,
          120.4,
          120.9,
          121.4,
          122,
          122.5,
          122.9,
          123.2,
          123.7,
          124.1,
          124.5,
          124.8,
          125.4,
          126.1,
          126.4,
          126.9,
          127.1,
          127.4,
          127.8,
          128.1,
          128.4,
          128.5,
          129.4,
          130.2,
          130.6,
          131.3,
          132.6,
          133.1,
          133.3,
          133.8,
          134.3,
          135.2,
          136,
          136.2,
          137,
          137.7,
          138.4,
          142.1,
          142.1,
          144.9,
          145.1,
          145.6,
          146.2,
          146.9,
          147.4,
          147.9,
          148.5,
          149,
          149.4,
          149.9,
          150.4,
          151.2,
          151.7,
          152.3,
          150.7,
          150.7,
          154.4,
          154.4,
          155,
          155.6,
          156.3,
          157.2,
          158.3,
          159.3,
          161.3,
          161.7,
          162.3,
          165.8,
          166.3,
          167,
          168.4,
          168.4,
          169.1,
          169.9,
          170.6,
          171.4,
          172.2,
          173,
          174,
          174.8,
          175.4,
          176.1,
          176.8,
          177.8,
          178.7,
          179.8,
          181.1,
          182.3,
          184.4
         ]
        },
        {
         "name": "Housing",
         "type": "scatter",
         "x": [
          "2013-01-01T00:00:00",
          "2013-02-01T00:00:00",
          "2013-03-01T00:00:00",
          "2013-04-01T00:00:00",
          "2013-05-01T00:00:00",
          "2013-06-01T00:00:00",
          "2013-07-01T00:00:00",
          "2013-08-01T00:00:00",
          "2013-09-01T00:00:00",
          "2013-10-01T00:00:00",
          "2013-11-01T00:00:00",
          "2013-12-01T00:00:00",
          "2014-01-01T00:00:00",
          "2014-02-01T00:00:00",
          "2014-03-01T00:00:00",
          "2014-04-01T00:00:00",
          "2014-05-01T00:00:00",
          "2014-06-01T00:00:00",
          "2014-07-01T00:00:00",
          "2014-08-01T00:00:00",
          "2014-09-01T00:00:00",
          "2014-10-01T00:00:00",
          "2014-11-01T00:00:00",
          "2014-12-01T00:00:00",
          "2015-01-01T00:00:00",
          "2015-02-01T00:00:00",
          "2015-03-01T00:00:00",
          "2015-04-01T00:00:00",
          "2015-05-01T00:00:00",
          "2015-06-01T00:00:00",
          "2015-07-01T00:00:00",
          "2015-08-01T00:00:00",
          "2015-09-01T00:00:00",
          "2015-10-01T00:00:00",
          "2015-11-01T00:00:00",
          "2015-12-01T00:00:00",
          "2016-01-01T00:00:00",
          "2016-02-01T00:00:00",
          "2016-03-01T00:00:00",
          "2016-04-01T00:00:00",
          "2016-05-01T00:00:00",
          "2016-06-01T00:00:00",
          "2016-07-01T00:00:00",
          "2016-08-01T00:00:00",
          "2016-09-01T00:00:00",
          "2016-10-01T00:00:00",
          "2016-11-01T00:00:00",
          "2016-12-01T00:00:00",
          "2017-01-01T00:00:00",
          "2017-02-01T00:00:00",
          "2017-03-01T00:00:00",
          "2017-04-01T00:00:00",
          "2017-05-01T00:00:00",
          "2017-06-01T00:00:00",
          "2017-07-01T00:00:00",
          "2017-08-01T00:00:00",
          "2017-09-01T00:00:00",
          "2017-10-01T00:00:00",
          "2017-11-01T00:00:00",
          "2017-12-01T00:00:00",
          "2018-01-01T00:00:00",
          "2018-02-01T00:00:00",
          "2018-03-01T00:00:00",
          "2018-04-01T00:00:00",
          "2018-05-01T00:00:00",
          "2018-06-01T00:00:00",
          "2018-07-01T00:00:00",
          "2018-08-01T00:00:00",
          "2018-09-01T00:00:00",
          "2018-10-01T00:00:00",
          "2018-11-01T00:00:00",
          "2018-12-01T00:00:00",
          "2019-01-01T00:00:00",
          "2019-02-01T00:00:00",
          "2019-03-01T00:00:00",
          "2019-05-01T00:00:00",
          "2019-06-01T00:00:00",
          "2019-07-01T00:00:00",
          "2019-08-01T00:00:00",
          "2019-09-01T00:00:00",
          "2019-10-01T00:00:00",
          "2019-11-01T00:00:00",
          "2019-12-01T00:00:00",
          "2020-01-01T00:00:00",
          "2020-02-01T00:00:00",
          "2020-03-01T00:00:00",
          "2020-04-01T00:00:00",
          "2020-05-01T00:00:00",
          "2020-06-01T00:00:00",
          "2020-07-01T00:00:00",
          "2020-08-01T00:00:00",
          "2020-09-01T00:00:00",
          "2020-10-01T00:00:00",
          "2020-11-01T00:00:00",
          "2020-12-01T00:00:00",
          "2021-01-01T00:00:00",
          "2021-02-01T00:00:00",
          "2021-03-01T00:00:00",
          "2021-04-01T00:00:00",
          "2021-05-01T00:00:00",
          "2021-06-01T00:00:00",
          "2021-07-01T00:00:00",
          "2021-08-01T00:00:00",
          "2021-09-01T00:00:00",
          "2021-10-01T00:00:00",
          "2021-11-01T00:00:00",
          "2021-12-01T00:00:00",
          "2022-01-01T00:00:00",
          "2022-02-01T00:00:00",
          "2022-03-01T00:00:00",
          "2022-04-01T00:00:00",
          "2022-05-01T00:00:00",
          "2022-06-01T00:00:00",
          "2022-07-01T00:00:00",
          "2022-08-01T00:00:00",
          "2022-09-01T00:00:00",
          "2022-10-01T00:00:00",
          "2022-11-01T00:00:00",
          "2022-12-01T00:00:00",
          "2023-01-01T00:00:00",
          "2023-02-01T00:00:00"
         ],
         "y": [
          "100.3",
          "100.4",
          "100.4",
          "100.5",
          "100.5",
          "106.6",
          "107.7",
          "108.9",
          "109.7",
          "110.5",
          "111.1",
          "110.7",
          "111.6",
          "112.5",
          "113.2",
          "113.9",
          "114.3",
          "113.9",
          "114.8",
          "115.5",
          "116.1",
          "116.7",
          "117.1",
          "116.5",
          "117.3",
          "118.1",
          "118.6",
          "119.2",
          "119.6",
          "119",
          "119.9",
          "120.9",
          "121.6",
          "122.4",
          "122.9",
          "122.4",
          "123.4",
          "124.4",
          "124.9",
          "125.6",
          "126",
          "125.5",
          "126.4",
          "127.3",
          "127.9",
          "128.7",
          "129.1",
          "128.5",
          "129.6",
          "130.5",
          "131.1",
          "131.7",
          "132.1",
          "131.4",
          "132.6",
          "134.4",
          "135.7",
          "137.3",
          "138.6",
          "139.1",
          "140.4",
          "141.3",
          "142",
          "142.9",
          "143.2",
          "142.5",
          "143.6",
          "144.6",
          "145.3",
          "146.9",
          "146.9",
          "146.5",
          "147.7",
          "148.5",
          "149",
          "150.1",
          "149.4",
          "150.6",
          "151.6",
          "152.2",
          "153",
          "153.5",
          "152.8",
          "153.9",
          "154.8",
          "154.5",
          "155.6",
          "155.6",
          "154.7",
          "154.7",
          "155.5",
          "156.3",
          "156.5",
          "158",
          "158.4",
          "157.7",
          "159.8",
          "159.9",
          "161.4",
          "161.6",
          "160.5",
          "161.5",
          "162.1",
          "162.1",
          "163.6",
          "164.2",
          "163.4",
          "164.5",
          "165.5",
          "165.3",
          "167",
          "167.5",
          "166.8",
          "167.8",
          "169",
          "169.5",
          "171.2",
          "171.8",
          "170.7",
          "172.1",
          "173.5"
         ]
        },
        {
         "name": "Cereals and products",
         "type": "scatter",
         "x": [
          "2013-01-01T00:00:00",
          "2013-02-01T00:00:00",
          "2013-03-01T00:00:00",
          "2013-04-01T00:00:00",
          "2013-05-01T00:00:00",
          "2013-06-01T00:00:00",
          "2013-07-01T00:00:00",
          "2013-08-01T00:00:00",
          "2013-09-01T00:00:00",
          "2013-10-01T00:00:00",
          "2013-11-01T00:00:00",
          "2013-12-01T00:00:00",
          "2014-01-01T00:00:00",
          "2014-02-01T00:00:00",
          "2014-03-01T00:00:00",
          "2014-04-01T00:00:00",
          "2014-05-01T00:00:00",
          "2014-06-01T00:00:00",
          "2014-07-01T00:00:00",
          "2014-08-01T00:00:00",
          "2014-09-01T00:00:00",
          "2014-10-01T00:00:00",
          "2014-11-01T00:00:00",
          "2014-12-01T00:00:00",
          "2015-01-01T00:00:00",
          "2015-02-01T00:00:00",
          "2015-03-01T00:00:00",
          "2015-04-01T00:00:00",
          "2015-05-01T00:00:00",
          "2015-06-01T00:00:00",
          "2015-07-01T00:00:00",
          "2015-08-01T00:00:00",
          "2015-09-01T00:00:00",
          "2015-10-01T00:00:00",
          "2015-11-01T00:00:00",
          "2015-12-01T00:00:00",
          "2016-01-01T00:00:00",
          "2016-02-01T00:00:00",
          "2016-03-01T00:00:00",
          "2016-04-01T00:00:00",
          "2016-05-01T00:00:00",
          "2016-06-01T00:00:00",
          "2016-07-01T00:00:00",
          "2016-08-01T00:00:00",
          "2016-09-01T00:00:00",
          "2016-10-01T00:00:00",
          "2016-11-01T00:00:00",
          "2016-12-01T00:00:00",
          "2017-01-01T00:00:00",
          "2017-02-01T00:00:00",
          "2017-03-01T00:00:00",
          "2017-04-01T00:00:00",
          "2017-05-01T00:00:00",
          "2017-06-01T00:00:00",
          "2017-07-01T00:00:00",
          "2017-08-01T00:00:00",
          "2017-09-01T00:00:00",
          "2017-10-01T00:00:00",
          "2017-11-01T00:00:00",
          "2017-12-01T00:00:00",
          "2018-01-01T00:00:00",
          "2018-02-01T00:00:00",
          "2018-03-01T00:00:00",
          "2018-04-01T00:00:00",
          "2018-05-01T00:00:00",
          "2018-06-01T00:00:00",
          "2018-07-01T00:00:00",
          "2018-08-01T00:00:00",
          "2018-09-01T00:00:00",
          "2018-10-01T00:00:00",
          "2018-11-01T00:00:00",
          "2018-12-01T00:00:00",
          "2019-01-01T00:00:00",
          "2019-02-01T00:00:00",
          "2019-03-01T00:00:00",
          "2019-05-01T00:00:00",
          "2019-06-01T00:00:00",
          "2019-07-01T00:00:00",
          "2019-08-01T00:00:00",
          "2019-09-01T00:00:00",
          "2019-10-01T00:00:00",
          "2019-11-01T00:00:00",
          "2019-12-01T00:00:00",
          "2020-01-01T00:00:00",
          "2020-02-01T00:00:00",
          "2020-03-01T00:00:00",
          "2020-04-01T00:00:00",
          "2020-05-01T00:00:00",
          "2020-06-01T00:00:00",
          "2020-07-01T00:00:00",
          "2020-08-01T00:00:00",
          "2020-09-01T00:00:00",
          "2020-10-01T00:00:00",
          "2020-11-01T00:00:00",
          "2020-12-01T00:00:00",
          "2021-01-01T00:00:00",
          "2021-02-01T00:00:00",
          "2021-03-01T00:00:00",
          "2021-04-01T00:00:00",
          "2021-05-01T00:00:00",
          "2021-06-01T00:00:00",
          "2021-07-01T00:00:00",
          "2021-08-01T00:00:00",
          "2021-09-01T00:00:00",
          "2021-10-01T00:00:00",
          "2021-11-01T00:00:00",
          "2021-12-01T00:00:00",
          "2022-01-01T00:00:00",
          "2022-02-01T00:00:00",
          "2022-03-01T00:00:00",
          "2022-04-01T00:00:00",
          "2022-05-01T00:00:00",
          "2022-06-01T00:00:00",
          "2022-07-01T00:00:00",
          "2022-08-01T00:00:00",
          "2022-09-01T00:00:00",
          "2022-10-01T00:00:00",
          "2022-11-01T00:00:00",
          "2022-12-01T00:00:00",
          "2023-01-01T00:00:00",
          "2023-02-01T00:00:00"
         ],
         "y": [
          108.4,
          110.4,
          111.4,
          111.6,
          112.3,
          113.8,
          114.8,
          115.6,
          116.4,
          117.1,
          118.1,
          119.1,
          119.6,
          120.2,
          120.7,
          120.9,
          121.1,
          121.5,
          122.4,
          122.7,
          122.9,
          123.2,
          123.3,
          122.9,
          123.4,
          123.7,
          123.5,
          123.5,
          123.6,
          123.9,
          123.7,
          124.2,
          124.6,
          125,
          125.4,
          125.7,
          126.1,
          126.4,
          126.5,
          126.6,
          126.8,
          127.7,
          128.5,
          129.3,
          129.9,
          130.5,
          131.4,
          132.3,
          132.8,
          133.1,
          133.3,
          133,
          132.9,
          133.3,
          133.6,
          134.3,
          134.7,
          135.3,
          135.7,
          135.8,
          136,
          135.9,
          136.2,
          136.4,
          136.6,
          136.9,
          137.5,
          138.3,
          138.6,
          137.4,
          137.4,
          137.5,
          137.1,
          137.6,
          137.8,
          138.3,
          138.7,
          139.3,
          140.1,
          140.9,
          141.8,
          142.5,
          143.5,
          144.3,
          144.8,
          145.1,
          148.7,
          148.7,
          149.6,
          149.6,
          148.9,
          148.4,
          147.5,
          146.8,
          146,
          144.9,
          144.3,
          144.1,
          144.3,
          146.3,
          146.7,
          146.4,
          146.6,
          146.6,
          147.4,
          148.2,
          148.7,
          149.5,
          150,
          151.3,
          152.9,
          154.1,
          155,
          156.5,
          160.3,
          163.5,
          165.2,
          167.4,
          169.2,
          173.8,
          174.4
         ]
        }
       ],
       "layout": {
        "template": {
         "data": {
          "bar": [
           {
            "error_x": {
             "color": "#2a3f5f"
            },
            "error_y": {
             "color": "#2a3f5f"
            },
            "marker": {
             "line": {
              "color": "#E5ECF6",
              "width": 0.5
             },
             "pattern": {
              "fillmode": "overlay",
              "size": 10,
              "solidity": 0.2
             }
            },
            "type": "bar"
           }
          ],
          "barpolar": [
           {
            "marker": {
             "line": {
              "color": "#E5ECF6",
              "width": 0.5
             },
             "pattern": {
              "fillmode": "overlay",
              "size": 10,
              "solidity": 0.2
             }
            },
            "type": "barpolar"
           }
          ],
          "carpet": [
           {
            "aaxis": {
             "endlinecolor": "#2a3f5f",
             "gridcolor": "white",
             "linecolor": "white",
             "minorgridcolor": "white",
             "startlinecolor": "#2a3f5f"
            },
            "baxis": {
             "endlinecolor": "#2a3f5f",
             "gridcolor": "white",
             "linecolor": "white",
             "minorgridcolor": "white",
             "startlinecolor": "#2a3f5f"
            },
            "type": "carpet"
           }
          ],
          "choropleth": [
           {
            "colorbar": {
             "outlinewidth": 0,
             "ticks": ""
            },
            "type": "choropleth"
           }
          ],
          "contour": [
           {
            "colorbar": {
             "outlinewidth": 0,
             "ticks": ""
            },
            "colorscale": [
             [
              0,
              "#0d0887"
             ],
             [
              0.1111111111111111,
              "#46039f"
             ],
             [
              0.2222222222222222,
              "#7201a8"
             ],
             [
              0.3333333333333333,
              "#9c179e"
             ],
             [
              0.4444444444444444,
              "#bd3786"
             ],
             [
              0.5555555555555556,
              "#d8576b"
             ],
             [
              0.6666666666666666,
              "#ed7953"
             ],
             [
              0.7777777777777778,
              "#fb9f3a"
             ],
             [
              0.8888888888888888,
              "#fdca26"
             ],
             [
              1,
              "#f0f921"
             ]
            ],
            "type": "contour"
           }
          ],
          "contourcarpet": [
           {
            "colorbar": {
             "outlinewidth": 0,
             "ticks": ""
            },
            "type": "contourcarpet"
           }
          ],
          "heatmap": [
           {
            "colorbar": {
             "outlinewidth": 0,
             "ticks": ""
            },
            "colorscale": [
             [
              0,
              "#0d0887"
             ],
             [
              0.1111111111111111,
              "#46039f"
             ],
             [
              0.2222222222222222,
              "#7201a8"
             ],
             [
              0.3333333333333333,
              "#9c179e"
             ],
             [
              0.4444444444444444,
              "#bd3786"
             ],
             [
              0.5555555555555556,
              "#d8576b"
             ],
             [
              0.6666666666666666,
              "#ed7953"
             ],
             [
              0.7777777777777778,
              "#fb9f3a"
             ],
             [
              0.8888888888888888,
              "#fdca26"
             ],
             [
              1,
              "#f0f921"
             ]
            ],
            "type": "heatmap"
           }
          ],
          "heatmapgl": [
           {
            "colorbar": {
             "outlinewidth": 0,
             "ticks": ""
            },
            "colorscale": [
             [
              0,
              "#0d0887"
             ],
             [
              0.1111111111111111,
              "#46039f"
             ],
             [
              0.2222222222222222,
              "#7201a8"
             ],
             [
              0.3333333333333333,
              "#9c179e"
             ],
             [
              0.4444444444444444,
              "#bd3786"
             ],
             [
              0.5555555555555556,
              "#d8576b"
             ],
             [
              0.6666666666666666,
              "#ed7953"
             ],
             [
              0.7777777777777778,
              "#fb9f3a"
             ],
             [
              0.8888888888888888,
              "#fdca26"
             ],
             [
              1,
              "#f0f921"
             ]
            ],
            "type": "heatmapgl"
           }
          ],
          "histogram": [
           {
            "marker": {
             "pattern": {
              "fillmode": "overlay",
              "size": 10,
              "solidity": 0.2
             }
            },
            "type": "histogram"
           }
          ],
          "histogram2d": [
           {
            "colorbar": {
             "outlinewidth": 0,
             "ticks": ""
            },
            "colorscale": [
             [
              0,
              "#0d0887"
             ],
             [
              0.1111111111111111,
              "#46039f"
             ],
             [
              0.2222222222222222,
              "#7201a8"
             ],
             [
              0.3333333333333333,
              "#9c179e"
             ],
             [
              0.4444444444444444,
              "#bd3786"
             ],
             [
              0.5555555555555556,
              "#d8576b"
             ],
             [
              0.6666666666666666,
              "#ed7953"
             ],
             [
              0.7777777777777778,
              "#fb9f3a"
             ],
             [
              0.8888888888888888,
              "#fdca26"
             ],
             [
              1,
              "#f0f921"
             ]
            ],
            "type": "histogram2d"
           }
          ],
          "histogram2dcontour": [
           {
            "colorbar": {
             "outlinewidth": 0,
             "ticks": ""
            },
            "colorscale": [
             [
              0,
              "#0d0887"
             ],
             [
              0.1111111111111111,
              "#46039f"
             ],
             [
              0.2222222222222222,
              "#7201a8"
             ],
             [
              0.3333333333333333,
              "#9c179e"
             ],
             [
              0.4444444444444444,
              "#bd3786"
             ],
             [
              0.5555555555555556,
              "#d8576b"
             ],
             [
              0.6666666666666666,
              "#ed7953"
             ],
             [
              0.7777777777777778,
              "#fb9f3a"
             ],
             [
              0.8888888888888888,
              "#fdca26"
             ],
             [
              1,
              "#f0f921"
             ]
            ],
            "type": "histogram2dcontour"
           }
          ],
          "mesh3d": [
           {
            "colorbar": {
             "outlinewidth": 0,
             "ticks": ""
            },
            "type": "mesh3d"
           }
          ],
          "parcoords": [
           {
            "line": {
             "colorbar": {
              "outlinewidth": 0,
              "ticks": ""
             }
            },
            "type": "parcoords"
           }
          ],
          "pie": [
           {
            "automargin": true,
            "type": "pie"
           }
          ],
          "scatter": [
           {
            "fillpattern": {
             "fillmode": "overlay",
             "size": 10,
             "solidity": 0.2
            },
            "type": "scatter"
           }
          ],
          "scatter3d": [
           {
            "line": {
             "colorbar": {
              "outlinewidth": 0,
              "ticks": ""
             }
            },
            "marker": {
             "colorbar": {
              "outlinewidth": 0,
              "ticks": ""
             }
            },
            "type": "scatter3d"
           }
          ],
          "scattercarpet": [
           {
            "marker": {
             "colorbar": {
              "outlinewidth": 0,
              "ticks": ""
             }
            },
            "type": "scattercarpet"
           }
          ],
          "scattergeo": [
           {
            "marker": {
             "colorbar": {
              "outlinewidth": 0,
              "ticks": ""
             }
            },
            "type": "scattergeo"
           }
          ],
          "scattergl": [
           {
            "marker": {
             "colorbar": {
              "outlinewidth": 0,
              "ticks": ""
             }
            },
            "type": "scattergl"
           }
          ],
          "scattermapbox": [
           {
            "marker": {
             "colorbar": {
              "outlinewidth": 0,
              "ticks": ""
             }
            },
            "type": "scattermapbox"
           }
          ],
          "scatterpolar": [
           {
            "marker": {
             "colorbar": {
              "outlinewidth": 0,
              "ticks": ""
             }
            },
            "type": "scatterpolar"
           }
          ],
          "scatterpolargl": [
           {
            "marker": {
             "colorbar": {
              "outlinewidth": 0,
              "ticks": ""
             }
            },
            "type": "scatterpolargl"
           }
          ],
          "scatterternary": [
           {
            "marker": {
             "colorbar": {
              "outlinewidth": 0,
              "ticks": ""
             }
            },
            "type": "scatterternary"
           }
          ],
          "surface": [
           {
            "colorbar": {
             "outlinewidth": 0,
             "ticks": ""
            },
            "colorscale": [
             [
              0,
              "#0d0887"
             ],
             [
              0.1111111111111111,
              "#46039f"
             ],
             [
              0.2222222222222222,
              "#7201a8"
             ],
             [
              0.3333333333333333,
              "#9c179e"
             ],
             [
              0.4444444444444444,
              "#bd3786"
             ],
             [
              0.5555555555555556,
              "#d8576b"
             ],
             [
              0.6666666666666666,
              "#ed7953"
             ],
             [
              0.7777777777777778,
              "#fb9f3a"
             ],
             [
              0.8888888888888888,
              "#fdca26"
             ],
             [
              1,
              "#f0f921"
             ]
            ],
            "type": "surface"
           }
          ],
          "table": [
           {
            "cells": {
             "fill": {
              "color": "#EBF0F8"
             },
             "line": {
              "color": "white"
             }
            },
            "header": {
             "fill": {
              "color": "#C8D4E3"
             },
             "line": {
              "color": "white"
             }
            },
            "type": "table"
           }
          ]
         },
         "layout": {
          "annotationdefaults": {
           "arrowcolor": "#2a3f5f",
           "arrowhead": 0,
           "arrowwidth": 1
          },
          "autotypenumbers": "strict",
          "coloraxis": {
           "colorbar": {
            "outlinewidth": 0,
            "ticks": ""
           }
          },
          "colorscale": {
           "diverging": [
            [
             0,
             "#8e0152"
            ],
            [
             0.1,
             "#c51b7d"
            ],
            [
             0.2,
             "#de77ae"
            ],
            [
             0.3,
             "#f1b6da"
            ],
            [
             0.4,
             "#fde0ef"
            ],
            [
             0.5,
             "#f7f7f7"
            ],
            [
             0.6,
             "#e6f5d0"
            ],
            [
             0.7,
             "#b8e186"
            ],
            [
             0.8,
             "#7fbc41"
            ],
            [
             0.9,
             "#4d9221"
            ],
            [
             1,
             "#276419"
            ]
           ],
           "sequential": [
            [
             0,
             "#0d0887"
            ],
            [
             0.1111111111111111,
             "#46039f"
            ],
            [
             0.2222222222222222,
             "#7201a8"
            ],
            [
             0.3333333333333333,
             "#9c179e"
            ],
            [
             0.4444444444444444,
             "#bd3786"
            ],
            [
             0.5555555555555556,
             "#d8576b"
            ],
            [
             0.6666666666666666,
             "#ed7953"
            ],
            [
             0.7777777777777778,
             "#fb9f3a"
            ],
            [
             0.8888888888888888,
             "#fdca26"
            ],
            [
             1,
             "#f0f921"
            ]
           ],
           "sequentialminus": [
            [
             0,
             "#0d0887"
            ],
            [
             0.1111111111111111,
             "#46039f"
            ],
            [
             0.2222222222222222,
             "#7201a8"
            ],
            [
             0.3333333333333333,
             "#9c179e"
            ],
            [
             0.4444444444444444,
             "#bd3786"
            ],
            [
             0.5555555555555556,
             "#d8576b"
            ],
            [
             0.6666666666666666,
             "#ed7953"
            ],
            [
             0.7777777777777778,
             "#fb9f3a"
            ],
            [
             0.8888888888888888,
             "#fdca26"
            ],
            [
             1,
             "#f0f921"
            ]
           ]
          },
          "colorway": [
           "#636efa",
           "#EF553B",
           "#00cc96",
           "#ab63fa",
           "#FFA15A",
           "#19d3f3",
           "#FF6692",
           "#B6E880",
           "#FF97FF",
           "#FECB52"
          ],
          "font": {
           "color": "#2a3f5f"
          },
          "geo": {
           "bgcolor": "white",
           "lakecolor": "white",
           "landcolor": "#E5ECF6",
           "showlakes": true,
           "showland": true,
           "subunitcolor": "white"
          },
          "hoverlabel": {
           "align": "left"
          },
          "hovermode": "closest",
          "mapbox": {
           "style": "light"
          },
          "paper_bgcolor": "white",
          "plot_bgcolor": "#E5ECF6",
          "polar": {
           "angularaxis": {
            "gridcolor": "white",
            "linecolor": "white",
            "ticks": ""
           },
           "bgcolor": "#E5ECF6",
           "radialaxis": {
            "gridcolor": "white",
            "linecolor": "white",
            "ticks": ""
           }
          },
          "scene": {
           "xaxis": {
            "backgroundcolor": "#E5ECF6",
            "gridcolor": "white",
            "gridwidth": 2,
            "linecolor": "white",
            "showbackground": true,
            "ticks": "",
            "zerolinecolor": "white"
           },
           "yaxis": {
            "backgroundcolor": "#E5ECF6",
            "gridcolor": "white",
            "gridwidth": 2,
            "linecolor": "white",
            "showbackground": true,
            "ticks": "",
            "zerolinecolor": "white"
           },
           "zaxis": {
            "backgroundcolor": "#E5ECF6",
            "gridcolor": "white",
            "gridwidth": 2,
            "linecolor": "white",
            "showbackground": true,
            "ticks": "",
            "zerolinecolor": "white"
           }
          },
          "shapedefaults": {
           "line": {
            "color": "#2a3f5f"
           }
          },
          "ternary": {
           "aaxis": {
            "gridcolor": "white",
            "linecolor": "white",
            "ticks": ""
           },
           "baxis": {
            "gridcolor": "white",
            "linecolor": "white",
            "ticks": ""
           },
           "bgcolor": "#E5ECF6",
           "caxis": {
            "gridcolor": "white",
            "linecolor": "white",
            "ticks": ""
           }
          },
          "title": {
           "x": 0.05
          },
          "xaxis": {
           "automargin": true,
           "gridcolor": "white",
           "linecolor": "white",
           "ticks": "",
           "title": {
            "standoff": 15
           },
           "zerolinecolor": "white",
           "zerolinewidth": 2
          },
          "yaxis": {
           "automargin": true,
           "gridcolor": "white",
           "linecolor": "white",
           "ticks": "",
           "title": {
            "standoff": 15
           },
           "zerolinecolor": "white",
           "zerolinewidth": 2
          }
         }
        }
       }
      }
     },
     "metadata": {},
     "output_type": "display_data"
    }
   ],
   "source": [
    "fig = go.Figure()\n",
    "for sector in sectors:\n",
    "    fig.add_trace(go.Scatter(x=sector_data['Date'], y=sector_data[sector], name=sector))\n",
    "fig.show()"
   ]
  },
  {
   "cell_type": "code",
   "execution_count": null,
   "metadata": {},
   "outputs": [],
   "source": []
  }
 ],
 "metadata": {
  "kernelspec": {
   "display_name": "base",
   "language": "python",
   "name": "python3"
  },
  "language_info": {
   "codemirror_mode": {
    "name": "ipython",
    "version": 3
   },
   "file_extension": ".py",
   "mimetype": "text/x-python",
   "name": "python",
   "nbconvert_exporter": "python",
   "pygments_lexer": "ipython3",
   "version": "3.11.3"
  }
 },
 "nbformat": 4,
 "nbformat_minor": 2
}
